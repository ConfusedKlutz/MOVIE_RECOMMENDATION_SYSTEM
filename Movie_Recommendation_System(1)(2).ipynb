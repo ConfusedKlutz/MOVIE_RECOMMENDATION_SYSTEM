{
  "cells": [
    {
      "cell_type": "markdown",
      "metadata": {
        "id": "JHmWwQfJoC8c"
      },
      "source": [
        "# **Movie Recommendation System**\n",
        "\n",
        "---"
      ]
    },
    {
      "cell_type": "markdown",
      "metadata": {
        "id": "VMklyx9boDLp"
      },
      "source": [
        "## **1. Business Objective**\n",
        "\n",
        "All entertainment websites or online stores have millions/billions of items. It becomes challenging for the customer to select the right one. At this place, recommender systems come into the picture and help the user to find the right item by minimizing the options.\n",
        "\n",
        "Recommendation Systems in the world of machine learning have become very popular and are a huge advantage to tech giants like Netflix, Amazon and many more to target their content to a specific audience. These recommendation engines are so strong in their predictions that they can dynamically alter the state of what the user sees on their page based on the user’s interaction with the app.\n",
        "\n",
        "The business objective for us is:\n",
        "1. To create a Collaborative Filtering based Movie Recommendation System.\n",
        "2. Predict the rating that a user would give to a movie that he has not yet rated.\n",
        "3. Minimize the difference between predicted and actual rating (RMSE and MAPE).\n"
      ]
    },
    {
      "cell_type": "markdown",
      "metadata": {
        "id": "1pXuBHOOoEpp"
      },
      "source": [
        "## **2. Data Collection**\n",
        "\n",
        "The dataset has been obtained from Grouplens.\n",
        "\n",
        "Link : https://grouplens.org/datasets/movielens/20m/\n",
        "\n",
        "This dataset (ml-20m) describes 5-star rating and free-text tagging activity from MovieLens, a movie recommendation service. It contains 20000263 ratings and 465564 tag applications across 27278 movies. These data were created by 138493 users between January 09, 1995 and March 31, 2015. This dataset was generated on October 17, 2016.\n",
        "\n",
        "Users were selected at random for inclusion. All selected users had rated at least 20 movies. No demographic information is included. Each user is represented by an id, and no other information is provided.\n",
        "\n",
        "The data are contained in the files genome-scores.csv, genome-tags.csv, links.csv, movies.csv, ratings.csv and tags.csv.\n",
        "\n",
        "For our objective, we would be using \"ratings.csv\" and \"movies.csv\" data files."
      ]
    },
    {
      "cell_type": "code",
      "execution_count": 1,
      "metadata": {
        "id": "59d_tqVu4xsH"
      },
      "outputs": [],
      "source": [
        "# Importing the necessary libraries\n",
        "\n",
        "import numpy as np\n",
        "import pandas as pd\n",
        "import matplotlib\n",
        "import matplotlib.pyplot as plt\n",
        "import seaborn as sns\n",
        "\n",
        "import warnings\n",
        "warnings.filterwarnings(\"ignore\")"
      ]
    },
    {
      "cell_type": "code",
      "execution_count": 2,
      "metadata": {
        "id": "Feh_60uM5Fot"
      },
      "outputs": [],
      "source": [
        "# Setting up some parameters for the workbook\n",
        "\n",
        "pd.set_option('display.max_rows', 500)\n",
        "pd.options.display.max_columns = None\n",
        "\n",
        "%matplotlib inline\n",
        "matplotlib.rcParams[\"figure.figsize\"] = (25,5)"
      ]
    },
    {
      "cell_type": "code",
      "execution_count": 3,
      "metadata": {
        "colab": {
          "base_uri": "https://localhost:8080/"
        },
        "id": "cQCU54OoU5NW",
        "outputId": "1d971d0c-d26b-4643-fc6b-8080e419437f"
      },
      "outputs": [
        {
          "output_type": "stream",
          "name": "stdout",
          "text": [
            "Collecting fuzzywuzzy\n",
            "  Downloading fuzzywuzzy-0.18.0-py2.py3-none-any.whl.metadata (4.9 kB)\n",
            "Downloading fuzzywuzzy-0.18.0-py2.py3-none-any.whl (18 kB)\n",
            "Installing collected packages: fuzzywuzzy\n",
            "Successfully installed fuzzywuzzy-0.18.0\n",
            "Collecting scikit-surprise\n",
            "  Downloading scikit_surprise-1.1.4.tar.gz (154 kB)\n",
            "\u001b[2K     \u001b[90m━━━━━━━━━━━━━━━━━━━━━━━━━━━━━━━━━━━━━━━━\u001b[0m \u001b[32m154.4/154.4 kB\u001b[0m \u001b[31m5.1 MB/s\u001b[0m eta \u001b[36m0:00:00\u001b[0m\n",
            "\u001b[?25h  Installing build dependencies ... \u001b[?25l\u001b[?25hdone\n",
            "  Getting requirements to build wheel ... \u001b[?25l\u001b[?25hdone\n",
            "  Preparing metadata (pyproject.toml) ... \u001b[?25l\u001b[?25hdone\n",
            "Requirement already satisfied: joblib>=1.2.0 in /usr/local/lib/python3.10/dist-packages (from scikit-surprise) (1.4.2)\n",
            "Requirement already satisfied: numpy>=1.19.5 in /usr/local/lib/python3.10/dist-packages (from scikit-surprise) (1.26.4)\n",
            "Requirement already satisfied: scipy>=1.6.0 in /usr/local/lib/python3.10/dist-packages (from scikit-surprise) (1.13.1)\n",
            "Building wheels for collected packages: scikit-surprise\n",
            "  Building wheel for scikit-surprise (pyproject.toml) ... \u001b[?25l\u001b[?25hdone\n",
            "  Created wheel for scikit-surprise: filename=scikit_surprise-1.1.4-cp310-cp310-linux_x86_64.whl size=2357290 sha256=eb890d7ce05a0d3355ba7733502fc4f9a4ff916850ccc42579309b08d5506409\n",
            "  Stored in directory: /root/.cache/pip/wheels/4b/3f/df/6acbf0a40397d9bf3ff97f582cc22fb9ce66adde75bc71fd54\n",
            "Successfully built scikit-surprise\n",
            "Installing collected packages: scikit-surprise\n",
            "Successfully installed scikit-surprise-1.1.4\n"
          ]
        }
      ],
      "source": [
        "!pip install fuzzywuzzy\n",
        "!pip install scikit-surprise"
      ]
    },
    {
      "cell_type": "code",
      "execution_count": 4,
      "metadata": {
        "id": "XANhhXia5Fus"
      },
      "outputs": [],
      "source": [
        "from scipy import sparse\n",
        "\n",
        "from sklearn.metrics.pairwise import cosine_similarity\n",
        "from sklearn.metrics import mean_squared_error\n",
        "\n",
        "import xgboost as xgb\n",
        "\n",
        "from surprise import Reader, Dataset\n",
        "from surprise import BaselineOnly\n",
        "from surprise import KNNBaseline\n",
        "from surprise import SlopeOne\n",
        "from surprise import SVD\n",
        "from surprise import SVDpp\n",
        "from surprise.model_selection import GridSearchCV"
      ]
    },
    {
      "cell_type": "code",
      "execution_count": 5,
      "metadata": {
        "id": "BECPwpDC5F07"
      },
      "outputs": [],
      "source": [
        "from datetime import datetime\n",
        "import os\n",
        "import random\n",
        "import gc\n",
        "\n",
        "from fuzzywuzzy import fuzz\n",
        "from fuzzywuzzy import process"
      ]
    },
    {
      "cell_type": "markdown",
      "metadata": {
        "id": "PZJygJn3oiyv"
      },
      "source": [
        "## **3. Data Preparation/Preprocessing**\n",
        "\n",
        "We will start with loading and familiarizing with the dataset so that we can prepare the data for Machine Learning (ML) modelling."
      ]
    },
    {
      "cell_type": "code",
      "execution_count": 12,
      "metadata": {
        "id": "aoeyhQQEosRr"
      },
      "outputs": [],
      "source": [
        "# Loading the dataset\n",
        "movie_ratings = pd.read_csv(\"/content/ratings.csv\")\n",
        "movies = pd.read_csv(\"/content/movies.csv\")"
      ]
    },
    {
      "cell_type": "code",
      "source": [],
      "metadata": {
        "id": "Adt997Hfv2kT"
      },
      "execution_count": null,
      "outputs": []
    },
    {
      "cell_type": "code",
      "source": [
        "movie_ratings.head()\n"
      ],
      "metadata": {
        "id": "aFZUXj4nmQE7",
        "colab": {
          "base_uri": "https://localhost:8080/",
          "height": 206
        },
        "outputId": "e5504e4d-e3e6-4dff-8496-0e74e7ba9f94"
      },
      "execution_count": 7,
      "outputs": [
        {
          "output_type": "execute_result",
          "data": {
            "text/plain": [
              "   userId  movieId  rating     timestamp\n",
              "0       1        2     3.5  1.112486e+09\n",
              "1       1       29     3.5  1.112485e+09\n",
              "2       1       32     3.5  1.112485e+09\n",
              "3       1       47     3.5  1.112485e+09\n",
              "4       1       50     3.5  1.112485e+09"
            ],
            "text/html": [
              "\n",
              "  <div id=\"df-59cfe8f1-fd60-4df8-bf7e-12434ea10a21\" class=\"colab-df-container\">\n",
              "    <div>\n",
              "<style scoped>\n",
              "    .dataframe tbody tr th:only-of-type {\n",
              "        vertical-align: middle;\n",
              "    }\n",
              "\n",
              "    .dataframe tbody tr th {\n",
              "        vertical-align: top;\n",
              "    }\n",
              "\n",
              "    .dataframe thead th {\n",
              "        text-align: right;\n",
              "    }\n",
              "</style>\n",
              "<table border=\"1\" class=\"dataframe\">\n",
              "  <thead>\n",
              "    <tr style=\"text-align: right;\">\n",
              "      <th></th>\n",
              "      <th>userId</th>\n",
              "      <th>movieId</th>\n",
              "      <th>rating</th>\n",
              "      <th>timestamp</th>\n",
              "    </tr>\n",
              "  </thead>\n",
              "  <tbody>\n",
              "    <tr>\n",
              "      <th>0</th>\n",
              "      <td>1</td>\n",
              "      <td>2</td>\n",
              "      <td>3.5</td>\n",
              "      <td>1.112486e+09</td>\n",
              "    </tr>\n",
              "    <tr>\n",
              "      <th>1</th>\n",
              "      <td>1</td>\n",
              "      <td>29</td>\n",
              "      <td>3.5</td>\n",
              "      <td>1.112485e+09</td>\n",
              "    </tr>\n",
              "    <tr>\n",
              "      <th>2</th>\n",
              "      <td>1</td>\n",
              "      <td>32</td>\n",
              "      <td>3.5</td>\n",
              "      <td>1.112485e+09</td>\n",
              "    </tr>\n",
              "    <tr>\n",
              "      <th>3</th>\n",
              "      <td>1</td>\n",
              "      <td>47</td>\n",
              "      <td>3.5</td>\n",
              "      <td>1.112485e+09</td>\n",
              "    </tr>\n",
              "    <tr>\n",
              "      <th>4</th>\n",
              "      <td>1</td>\n",
              "      <td>50</td>\n",
              "      <td>3.5</td>\n",
              "      <td>1.112485e+09</td>\n",
              "    </tr>\n",
              "  </tbody>\n",
              "</table>\n",
              "</div>\n",
              "    <div class=\"colab-df-buttons\">\n",
              "\n",
              "  <div class=\"colab-df-container\">\n",
              "    <button class=\"colab-df-convert\" onclick=\"convertToInteractive('df-59cfe8f1-fd60-4df8-bf7e-12434ea10a21')\"\n",
              "            title=\"Convert this dataframe to an interactive table.\"\n",
              "            style=\"display:none;\">\n",
              "\n",
              "  <svg xmlns=\"http://www.w3.org/2000/svg\" height=\"24px\" viewBox=\"0 -960 960 960\">\n",
              "    <path d=\"M120-120v-720h720v720H120Zm60-500h600v-160H180v160Zm220 220h160v-160H400v160Zm0 220h160v-160H400v160ZM180-400h160v-160H180v160Zm440 0h160v-160H620v160ZM180-180h160v-160H180v160Zm440 0h160v-160H620v160Z\"/>\n",
              "  </svg>\n",
              "    </button>\n",
              "\n",
              "  <style>\n",
              "    .colab-df-container {\n",
              "      display:flex;\n",
              "      gap: 12px;\n",
              "    }\n",
              "\n",
              "    .colab-df-convert {\n",
              "      background-color: #E8F0FE;\n",
              "      border: none;\n",
              "      border-radius: 50%;\n",
              "      cursor: pointer;\n",
              "      display: none;\n",
              "      fill: #1967D2;\n",
              "      height: 32px;\n",
              "      padding: 0 0 0 0;\n",
              "      width: 32px;\n",
              "    }\n",
              "\n",
              "    .colab-df-convert:hover {\n",
              "      background-color: #E2EBFA;\n",
              "      box-shadow: 0px 1px 2px rgba(60, 64, 67, 0.3), 0px 1px 3px 1px rgba(60, 64, 67, 0.15);\n",
              "      fill: #174EA6;\n",
              "    }\n",
              "\n",
              "    .colab-df-buttons div {\n",
              "      margin-bottom: 4px;\n",
              "    }\n",
              "\n",
              "    [theme=dark] .colab-df-convert {\n",
              "      background-color: #3B4455;\n",
              "      fill: #D2E3FC;\n",
              "    }\n",
              "\n",
              "    [theme=dark] .colab-df-convert:hover {\n",
              "      background-color: #434B5C;\n",
              "      box-shadow: 0px 1px 3px 1px rgba(0, 0, 0, 0.15);\n",
              "      filter: drop-shadow(0px 1px 2px rgba(0, 0, 0, 0.3));\n",
              "      fill: #FFFFFF;\n",
              "    }\n",
              "  </style>\n",
              "\n",
              "    <script>\n",
              "      const buttonEl =\n",
              "        document.querySelector('#df-59cfe8f1-fd60-4df8-bf7e-12434ea10a21 button.colab-df-convert');\n",
              "      buttonEl.style.display =\n",
              "        google.colab.kernel.accessAllowed ? 'block' : 'none';\n",
              "\n",
              "      async function convertToInteractive(key) {\n",
              "        const element = document.querySelector('#df-59cfe8f1-fd60-4df8-bf7e-12434ea10a21');\n",
              "        const dataTable =\n",
              "          await google.colab.kernel.invokeFunction('convertToInteractive',\n",
              "                                                    [key], {});\n",
              "        if (!dataTable) return;\n",
              "\n",
              "        const docLinkHtml = 'Like what you see? Visit the ' +\n",
              "          '<a target=\"_blank\" href=https://colab.research.google.com/notebooks/data_table.ipynb>data table notebook</a>'\n",
              "          + ' to learn more about interactive tables.';\n",
              "        element.innerHTML = '';\n",
              "        dataTable['output_type'] = 'display_data';\n",
              "        await google.colab.output.renderOutput(dataTable, element);\n",
              "        const docLink = document.createElement('div');\n",
              "        docLink.innerHTML = docLinkHtml;\n",
              "        element.appendChild(docLink);\n",
              "      }\n",
              "    </script>\n",
              "  </div>\n",
              "\n",
              "\n",
              "<div id=\"df-b7c5e2e4-3e4e-4efd-9d04-a55cf882873d\">\n",
              "  <button class=\"colab-df-quickchart\" onclick=\"quickchart('df-b7c5e2e4-3e4e-4efd-9d04-a55cf882873d')\"\n",
              "            title=\"Suggest charts\"\n",
              "            style=\"display:none;\">\n",
              "\n",
              "<svg xmlns=\"http://www.w3.org/2000/svg\" height=\"24px\"viewBox=\"0 0 24 24\"\n",
              "     width=\"24px\">\n",
              "    <g>\n",
              "        <path d=\"M19 3H5c-1.1 0-2 .9-2 2v14c0 1.1.9 2 2 2h14c1.1 0 2-.9 2-2V5c0-1.1-.9-2-2-2zM9 17H7v-7h2v7zm4 0h-2V7h2v10zm4 0h-2v-4h2v4z\"/>\n",
              "    </g>\n",
              "</svg>\n",
              "  </button>\n",
              "\n",
              "<style>\n",
              "  .colab-df-quickchart {\n",
              "      --bg-color: #E8F0FE;\n",
              "      --fill-color: #1967D2;\n",
              "      --hover-bg-color: #E2EBFA;\n",
              "      --hover-fill-color: #174EA6;\n",
              "      --disabled-fill-color: #AAA;\n",
              "      --disabled-bg-color: #DDD;\n",
              "  }\n",
              "\n",
              "  [theme=dark] .colab-df-quickchart {\n",
              "      --bg-color: #3B4455;\n",
              "      --fill-color: #D2E3FC;\n",
              "      --hover-bg-color: #434B5C;\n",
              "      --hover-fill-color: #FFFFFF;\n",
              "      --disabled-bg-color: #3B4455;\n",
              "      --disabled-fill-color: #666;\n",
              "  }\n",
              "\n",
              "  .colab-df-quickchart {\n",
              "    background-color: var(--bg-color);\n",
              "    border: none;\n",
              "    border-radius: 50%;\n",
              "    cursor: pointer;\n",
              "    display: none;\n",
              "    fill: var(--fill-color);\n",
              "    height: 32px;\n",
              "    padding: 0;\n",
              "    width: 32px;\n",
              "  }\n",
              "\n",
              "  .colab-df-quickchart:hover {\n",
              "    background-color: var(--hover-bg-color);\n",
              "    box-shadow: 0 1px 2px rgba(60, 64, 67, 0.3), 0 1px 3px 1px rgba(60, 64, 67, 0.15);\n",
              "    fill: var(--button-hover-fill-color);\n",
              "  }\n",
              "\n",
              "  .colab-df-quickchart-complete:disabled,\n",
              "  .colab-df-quickchart-complete:disabled:hover {\n",
              "    background-color: var(--disabled-bg-color);\n",
              "    fill: var(--disabled-fill-color);\n",
              "    box-shadow: none;\n",
              "  }\n",
              "\n",
              "  .colab-df-spinner {\n",
              "    border: 2px solid var(--fill-color);\n",
              "    border-color: transparent;\n",
              "    border-bottom-color: var(--fill-color);\n",
              "    animation:\n",
              "      spin 1s steps(1) infinite;\n",
              "  }\n",
              "\n",
              "  @keyframes spin {\n",
              "    0% {\n",
              "      border-color: transparent;\n",
              "      border-bottom-color: var(--fill-color);\n",
              "      border-left-color: var(--fill-color);\n",
              "    }\n",
              "    20% {\n",
              "      border-color: transparent;\n",
              "      border-left-color: var(--fill-color);\n",
              "      border-top-color: var(--fill-color);\n",
              "    }\n",
              "    30% {\n",
              "      border-color: transparent;\n",
              "      border-left-color: var(--fill-color);\n",
              "      border-top-color: var(--fill-color);\n",
              "      border-right-color: var(--fill-color);\n",
              "    }\n",
              "    40% {\n",
              "      border-color: transparent;\n",
              "      border-right-color: var(--fill-color);\n",
              "      border-top-color: var(--fill-color);\n",
              "    }\n",
              "    60% {\n",
              "      border-color: transparent;\n",
              "      border-right-color: var(--fill-color);\n",
              "    }\n",
              "    80% {\n",
              "      border-color: transparent;\n",
              "      border-right-color: var(--fill-color);\n",
              "      border-bottom-color: var(--fill-color);\n",
              "    }\n",
              "    90% {\n",
              "      border-color: transparent;\n",
              "      border-bottom-color: var(--fill-color);\n",
              "    }\n",
              "  }\n",
              "</style>\n",
              "\n",
              "  <script>\n",
              "    async function quickchart(key) {\n",
              "      const quickchartButtonEl =\n",
              "        document.querySelector('#' + key + ' button');\n",
              "      quickchartButtonEl.disabled = true;  // To prevent multiple clicks.\n",
              "      quickchartButtonEl.classList.add('colab-df-spinner');\n",
              "      try {\n",
              "        const charts = await google.colab.kernel.invokeFunction(\n",
              "            'suggestCharts', [key], {});\n",
              "      } catch (error) {\n",
              "        console.error('Error during call to suggestCharts:', error);\n",
              "      }\n",
              "      quickchartButtonEl.classList.remove('colab-df-spinner');\n",
              "      quickchartButtonEl.classList.add('colab-df-quickchart-complete');\n",
              "    }\n",
              "    (() => {\n",
              "      let quickchartButtonEl =\n",
              "        document.querySelector('#df-b7c5e2e4-3e4e-4efd-9d04-a55cf882873d button');\n",
              "      quickchartButtonEl.style.display =\n",
              "        google.colab.kernel.accessAllowed ? 'block' : 'none';\n",
              "    })();\n",
              "  </script>\n",
              "</div>\n",
              "\n",
              "    </div>\n",
              "  </div>\n"
            ],
            "application/vnd.google.colaboratory.intrinsic+json": {
              "type": "dataframe",
              "variable_name": "movie_ratings"
            }
          },
          "metadata": {},
          "execution_count": 7
        }
      ]
    },
    {
      "cell_type": "code",
      "source": [
        "movies.head()"
      ],
      "metadata": {
        "id": "c3mgVx1QmhgF",
        "colab": {
          "base_uri": "https://localhost:8080/",
          "height": 206
        },
        "outputId": "0f44767f-3bc7-49aa-9932-966f6806a782"
      },
      "execution_count": 8,
      "outputs": [
        {
          "output_type": "execute_result",
          "data": {
            "text/plain": [
              "   movieId                               title  \\\n",
              "0        1                    Toy Story (1995)   \n",
              "1        2                      Jumanji (1995)   \n",
              "2        3             Grumpier Old Men (1995)   \n",
              "3        4            Waiting to Exhale (1995)   \n",
              "4        5  Father of the Bride Part II (1995)   \n",
              "\n",
              "                                        genres  \n",
              "0  Adventure|Animation|Children|Comedy|Fantasy  \n",
              "1                   Adventure|Children|Fantasy  \n",
              "2                               Comedy|Romance  \n",
              "3                         Comedy|Drama|Romance  \n",
              "4                                       Comedy  "
            ],
            "text/html": [
              "\n",
              "  <div id=\"df-e19b965f-cf48-468f-a7d0-def9dd7736f6\" class=\"colab-df-container\">\n",
              "    <div>\n",
              "<style scoped>\n",
              "    .dataframe tbody tr th:only-of-type {\n",
              "        vertical-align: middle;\n",
              "    }\n",
              "\n",
              "    .dataframe tbody tr th {\n",
              "        vertical-align: top;\n",
              "    }\n",
              "\n",
              "    .dataframe thead th {\n",
              "        text-align: right;\n",
              "    }\n",
              "</style>\n",
              "<table border=\"1\" class=\"dataframe\">\n",
              "  <thead>\n",
              "    <tr style=\"text-align: right;\">\n",
              "      <th></th>\n",
              "      <th>movieId</th>\n",
              "      <th>title</th>\n",
              "      <th>genres</th>\n",
              "    </tr>\n",
              "  </thead>\n",
              "  <tbody>\n",
              "    <tr>\n",
              "      <th>0</th>\n",
              "      <td>1</td>\n",
              "      <td>Toy Story (1995)</td>\n",
              "      <td>Adventure|Animation|Children|Comedy|Fantasy</td>\n",
              "    </tr>\n",
              "    <tr>\n",
              "      <th>1</th>\n",
              "      <td>2</td>\n",
              "      <td>Jumanji (1995)</td>\n",
              "      <td>Adventure|Children|Fantasy</td>\n",
              "    </tr>\n",
              "    <tr>\n",
              "      <th>2</th>\n",
              "      <td>3</td>\n",
              "      <td>Grumpier Old Men (1995)</td>\n",
              "      <td>Comedy|Romance</td>\n",
              "    </tr>\n",
              "    <tr>\n",
              "      <th>3</th>\n",
              "      <td>4</td>\n",
              "      <td>Waiting to Exhale (1995)</td>\n",
              "      <td>Comedy|Drama|Romance</td>\n",
              "    </tr>\n",
              "    <tr>\n",
              "      <th>4</th>\n",
              "      <td>5</td>\n",
              "      <td>Father of the Bride Part II (1995)</td>\n",
              "      <td>Comedy</td>\n",
              "    </tr>\n",
              "  </tbody>\n",
              "</table>\n",
              "</div>\n",
              "    <div class=\"colab-df-buttons\">\n",
              "\n",
              "  <div class=\"colab-df-container\">\n",
              "    <button class=\"colab-df-convert\" onclick=\"convertToInteractive('df-e19b965f-cf48-468f-a7d0-def9dd7736f6')\"\n",
              "            title=\"Convert this dataframe to an interactive table.\"\n",
              "            style=\"display:none;\">\n",
              "\n",
              "  <svg xmlns=\"http://www.w3.org/2000/svg\" height=\"24px\" viewBox=\"0 -960 960 960\">\n",
              "    <path d=\"M120-120v-720h720v720H120Zm60-500h600v-160H180v160Zm220 220h160v-160H400v160Zm0 220h160v-160H400v160ZM180-400h160v-160H180v160Zm440 0h160v-160H620v160ZM180-180h160v-160H180v160Zm440 0h160v-160H620v160Z\"/>\n",
              "  </svg>\n",
              "    </button>\n",
              "\n",
              "  <style>\n",
              "    .colab-df-container {\n",
              "      display:flex;\n",
              "      gap: 12px;\n",
              "    }\n",
              "\n",
              "    .colab-df-convert {\n",
              "      background-color: #E8F0FE;\n",
              "      border: none;\n",
              "      border-radius: 50%;\n",
              "      cursor: pointer;\n",
              "      display: none;\n",
              "      fill: #1967D2;\n",
              "      height: 32px;\n",
              "      padding: 0 0 0 0;\n",
              "      width: 32px;\n",
              "    }\n",
              "\n",
              "    .colab-df-convert:hover {\n",
              "      background-color: #E2EBFA;\n",
              "      box-shadow: 0px 1px 2px rgba(60, 64, 67, 0.3), 0px 1px 3px 1px rgba(60, 64, 67, 0.15);\n",
              "      fill: #174EA6;\n",
              "    }\n",
              "\n",
              "    .colab-df-buttons div {\n",
              "      margin-bottom: 4px;\n",
              "    }\n",
              "\n",
              "    [theme=dark] .colab-df-convert {\n",
              "      background-color: #3B4455;\n",
              "      fill: #D2E3FC;\n",
              "    }\n",
              "\n",
              "    [theme=dark] .colab-df-convert:hover {\n",
              "      background-color: #434B5C;\n",
              "      box-shadow: 0px 1px 3px 1px rgba(0, 0, 0, 0.15);\n",
              "      filter: drop-shadow(0px 1px 2px rgba(0, 0, 0, 0.3));\n",
              "      fill: #FFFFFF;\n",
              "    }\n",
              "  </style>\n",
              "\n",
              "    <script>\n",
              "      const buttonEl =\n",
              "        document.querySelector('#df-e19b965f-cf48-468f-a7d0-def9dd7736f6 button.colab-df-convert');\n",
              "      buttonEl.style.display =\n",
              "        google.colab.kernel.accessAllowed ? 'block' : 'none';\n",
              "\n",
              "      async function convertToInteractive(key) {\n",
              "        const element = document.querySelector('#df-e19b965f-cf48-468f-a7d0-def9dd7736f6');\n",
              "        const dataTable =\n",
              "          await google.colab.kernel.invokeFunction('convertToInteractive',\n",
              "                                                    [key], {});\n",
              "        if (!dataTable) return;\n",
              "\n",
              "        const docLinkHtml = 'Like what you see? Visit the ' +\n",
              "          '<a target=\"_blank\" href=https://colab.research.google.com/notebooks/data_table.ipynb>data table notebook</a>'\n",
              "          + ' to learn more about interactive tables.';\n",
              "        element.innerHTML = '';\n",
              "        dataTable['output_type'] = 'display_data';\n",
              "        await google.colab.output.renderOutput(dataTable, element);\n",
              "        const docLink = document.createElement('div');\n",
              "        docLink.innerHTML = docLinkHtml;\n",
              "        element.appendChild(docLink);\n",
              "      }\n",
              "    </script>\n",
              "  </div>\n",
              "\n",
              "\n",
              "<div id=\"df-b15f0763-6e23-4a64-b1cc-1f5ec9cc2999\">\n",
              "  <button class=\"colab-df-quickchart\" onclick=\"quickchart('df-b15f0763-6e23-4a64-b1cc-1f5ec9cc2999')\"\n",
              "            title=\"Suggest charts\"\n",
              "            style=\"display:none;\">\n",
              "\n",
              "<svg xmlns=\"http://www.w3.org/2000/svg\" height=\"24px\"viewBox=\"0 0 24 24\"\n",
              "     width=\"24px\">\n",
              "    <g>\n",
              "        <path d=\"M19 3H5c-1.1 0-2 .9-2 2v14c0 1.1.9 2 2 2h14c1.1 0 2-.9 2-2V5c0-1.1-.9-2-2-2zM9 17H7v-7h2v7zm4 0h-2V7h2v10zm4 0h-2v-4h2v4z\"/>\n",
              "    </g>\n",
              "</svg>\n",
              "  </button>\n",
              "\n",
              "<style>\n",
              "  .colab-df-quickchart {\n",
              "      --bg-color: #E8F0FE;\n",
              "      --fill-color: #1967D2;\n",
              "      --hover-bg-color: #E2EBFA;\n",
              "      --hover-fill-color: #174EA6;\n",
              "      --disabled-fill-color: #AAA;\n",
              "      --disabled-bg-color: #DDD;\n",
              "  }\n",
              "\n",
              "  [theme=dark] .colab-df-quickchart {\n",
              "      --bg-color: #3B4455;\n",
              "      --fill-color: #D2E3FC;\n",
              "      --hover-bg-color: #434B5C;\n",
              "      --hover-fill-color: #FFFFFF;\n",
              "      --disabled-bg-color: #3B4455;\n",
              "      --disabled-fill-color: #666;\n",
              "  }\n",
              "\n",
              "  .colab-df-quickchart {\n",
              "    background-color: var(--bg-color);\n",
              "    border: none;\n",
              "    border-radius: 50%;\n",
              "    cursor: pointer;\n",
              "    display: none;\n",
              "    fill: var(--fill-color);\n",
              "    height: 32px;\n",
              "    padding: 0;\n",
              "    width: 32px;\n",
              "  }\n",
              "\n",
              "  .colab-df-quickchart:hover {\n",
              "    background-color: var(--hover-bg-color);\n",
              "    box-shadow: 0 1px 2px rgba(60, 64, 67, 0.3), 0 1px 3px 1px rgba(60, 64, 67, 0.15);\n",
              "    fill: var(--button-hover-fill-color);\n",
              "  }\n",
              "\n",
              "  .colab-df-quickchart-complete:disabled,\n",
              "  .colab-df-quickchart-complete:disabled:hover {\n",
              "    background-color: var(--disabled-bg-color);\n",
              "    fill: var(--disabled-fill-color);\n",
              "    box-shadow: none;\n",
              "  }\n",
              "\n",
              "  .colab-df-spinner {\n",
              "    border: 2px solid var(--fill-color);\n",
              "    border-color: transparent;\n",
              "    border-bottom-color: var(--fill-color);\n",
              "    animation:\n",
              "      spin 1s steps(1) infinite;\n",
              "  }\n",
              "\n",
              "  @keyframes spin {\n",
              "    0% {\n",
              "      border-color: transparent;\n",
              "      border-bottom-color: var(--fill-color);\n",
              "      border-left-color: var(--fill-color);\n",
              "    }\n",
              "    20% {\n",
              "      border-color: transparent;\n",
              "      border-left-color: var(--fill-color);\n",
              "      border-top-color: var(--fill-color);\n",
              "    }\n",
              "    30% {\n",
              "      border-color: transparent;\n",
              "      border-left-color: var(--fill-color);\n",
              "      border-top-color: var(--fill-color);\n",
              "      border-right-color: var(--fill-color);\n",
              "    }\n",
              "    40% {\n",
              "      border-color: transparent;\n",
              "      border-right-color: var(--fill-color);\n",
              "      border-top-color: var(--fill-color);\n",
              "    }\n",
              "    60% {\n",
              "      border-color: transparent;\n",
              "      border-right-color: var(--fill-color);\n",
              "    }\n",
              "    80% {\n",
              "      border-color: transparent;\n",
              "      border-right-color: var(--fill-color);\n",
              "      border-bottom-color: var(--fill-color);\n",
              "    }\n",
              "    90% {\n",
              "      border-color: transparent;\n",
              "      border-bottom-color: var(--fill-color);\n",
              "    }\n",
              "  }\n",
              "</style>\n",
              "\n",
              "  <script>\n",
              "    async function quickchart(key) {\n",
              "      const quickchartButtonEl =\n",
              "        document.querySelector('#' + key + ' button');\n",
              "      quickchartButtonEl.disabled = true;  // To prevent multiple clicks.\n",
              "      quickchartButtonEl.classList.add('colab-df-spinner');\n",
              "      try {\n",
              "        const charts = await google.colab.kernel.invokeFunction(\n",
              "            'suggestCharts', [key], {});\n",
              "      } catch (error) {\n",
              "        console.error('Error during call to suggestCharts:', error);\n",
              "      }\n",
              "      quickchartButtonEl.classList.remove('colab-df-spinner');\n",
              "      quickchartButtonEl.classList.add('colab-df-quickchart-complete');\n",
              "    }\n",
              "    (() => {\n",
              "      let quickchartButtonEl =\n",
              "        document.querySelector('#df-b15f0763-6e23-4a64-b1cc-1f5ec9cc2999 button');\n",
              "      quickchartButtonEl.style.display =\n",
              "        google.colab.kernel.accessAllowed ? 'block' : 'none';\n",
              "    })();\n",
              "  </script>\n",
              "</div>\n",
              "\n",
              "    </div>\n",
              "  </div>\n"
            ],
            "application/vnd.google.colaboratory.intrinsic+json": {
              "type": "dataframe",
              "variable_name": "movies",
              "summary": "{\n  \"name\": \"movies\",\n  \"rows\": 27278,\n  \"fields\": [\n    {\n      \"column\": \"movieId\",\n      \"properties\": {\n        \"dtype\": \"number\",\n        \"std\": 44429,\n        \"min\": 1,\n        \"max\": 131262,\n        \"num_unique_values\": 27278,\n        \"samples\": [\n          61116,\n          70697,\n          111931\n        ],\n        \"semantic_type\": \"\",\n        \"description\": \"\"\n      }\n    },\n    {\n      \"column\": \"title\",\n      \"properties\": {\n        \"dtype\": \"string\",\n        \"num_unique_values\": 27262,\n        \"samples\": [\n          \"Look (2007)\",\n          \"Return of the Living Dead: Rave to the Grave (2005)\",\n          \"Quare Fellow, The (a.k.a. The Condemned Man) (1962)\"\n        ],\n        \"semantic_type\": \"\",\n        \"description\": \"\"\n      }\n    },\n    {\n      \"column\": \"genres\",\n      \"properties\": {\n        \"dtype\": \"category\",\n        \"num_unique_values\": 1342,\n        \"samples\": [\n          \"Comedy|Horror|Romance|Sci-Fi\",\n          \"Action|Adventure|Animation|Fantasy|Sci-Fi\",\n          \"Thriller|War\"\n        ],\n        \"semantic_type\": \"\",\n        \"description\": \"\"\n      }\n    }\n  ]\n}"
            }
          },
          "metadata": {},
          "execution_count": 8
        }
      ]
    },
    {
      "cell_type": "code",
      "execution_count": 13,
      "metadata": {
        "id": "NPj1K_MgDv-S",
        "colab": {
          "base_uri": "https://localhost:8080/",
          "height": 424
        },
        "outputId": "c7020adf-811b-446c-c080-58980de49c05"
      },
      "outputs": [
        {
          "output_type": "execute_result",
          "data": {
            "text/plain": [
              "        userId  movieId  rating  timestamp\n",
              "0        False    False   False      False\n",
              "1        False    False   False      False\n",
              "2        False    False   False      False\n",
              "3        False    False   False      False\n",
              "4        False    False   False      False\n",
              "...        ...      ...     ...        ...\n",
              "994822   False    False   False      False\n",
              "994823   False    False   False      False\n",
              "994824   False    False   False      False\n",
              "994825   False    False   False      False\n",
              "994826   False    False   False      False\n",
              "\n",
              "[994827 rows x 4 columns]"
            ],
            "text/html": [
              "\n",
              "  <div id=\"df-b4efd593-9809-4809-9d77-cb3ce14b2af9\" class=\"colab-df-container\">\n",
              "    <div>\n",
              "<style scoped>\n",
              "    .dataframe tbody tr th:only-of-type {\n",
              "        vertical-align: middle;\n",
              "    }\n",
              "\n",
              "    .dataframe tbody tr th {\n",
              "        vertical-align: top;\n",
              "    }\n",
              "\n",
              "    .dataframe thead th {\n",
              "        text-align: right;\n",
              "    }\n",
              "</style>\n",
              "<table border=\"1\" class=\"dataframe\">\n",
              "  <thead>\n",
              "    <tr style=\"text-align: right;\">\n",
              "      <th></th>\n",
              "      <th>userId</th>\n",
              "      <th>movieId</th>\n",
              "      <th>rating</th>\n",
              "      <th>timestamp</th>\n",
              "    </tr>\n",
              "  </thead>\n",
              "  <tbody>\n",
              "    <tr>\n",
              "      <th>0</th>\n",
              "      <td>False</td>\n",
              "      <td>False</td>\n",
              "      <td>False</td>\n",
              "      <td>False</td>\n",
              "    </tr>\n",
              "    <tr>\n",
              "      <th>1</th>\n",
              "      <td>False</td>\n",
              "      <td>False</td>\n",
              "      <td>False</td>\n",
              "      <td>False</td>\n",
              "    </tr>\n",
              "    <tr>\n",
              "      <th>2</th>\n",
              "      <td>False</td>\n",
              "      <td>False</td>\n",
              "      <td>False</td>\n",
              "      <td>False</td>\n",
              "    </tr>\n",
              "    <tr>\n",
              "      <th>3</th>\n",
              "      <td>False</td>\n",
              "      <td>False</td>\n",
              "      <td>False</td>\n",
              "      <td>False</td>\n",
              "    </tr>\n",
              "    <tr>\n",
              "      <th>4</th>\n",
              "      <td>False</td>\n",
              "      <td>False</td>\n",
              "      <td>False</td>\n",
              "      <td>False</td>\n",
              "    </tr>\n",
              "    <tr>\n",
              "      <th>...</th>\n",
              "      <td>...</td>\n",
              "      <td>...</td>\n",
              "      <td>...</td>\n",
              "      <td>...</td>\n",
              "    </tr>\n",
              "    <tr>\n",
              "      <th>994822</th>\n",
              "      <td>False</td>\n",
              "      <td>False</td>\n",
              "      <td>False</td>\n",
              "      <td>False</td>\n",
              "    </tr>\n",
              "    <tr>\n",
              "      <th>994823</th>\n",
              "      <td>False</td>\n",
              "      <td>False</td>\n",
              "      <td>False</td>\n",
              "      <td>False</td>\n",
              "    </tr>\n",
              "    <tr>\n",
              "      <th>994824</th>\n",
              "      <td>False</td>\n",
              "      <td>False</td>\n",
              "      <td>False</td>\n",
              "      <td>False</td>\n",
              "    </tr>\n",
              "    <tr>\n",
              "      <th>994825</th>\n",
              "      <td>False</td>\n",
              "      <td>False</td>\n",
              "      <td>False</td>\n",
              "      <td>False</td>\n",
              "    </tr>\n",
              "    <tr>\n",
              "      <th>994826</th>\n",
              "      <td>False</td>\n",
              "      <td>False</td>\n",
              "      <td>False</td>\n",
              "      <td>False</td>\n",
              "    </tr>\n",
              "  </tbody>\n",
              "</table>\n",
              "<p>994827 rows × 4 columns</p>\n",
              "</div>\n",
              "    <div class=\"colab-df-buttons\">\n",
              "\n",
              "  <div class=\"colab-df-container\">\n",
              "    <button class=\"colab-df-convert\" onclick=\"convertToInteractive('df-b4efd593-9809-4809-9d77-cb3ce14b2af9')\"\n",
              "            title=\"Convert this dataframe to an interactive table.\"\n",
              "            style=\"display:none;\">\n",
              "\n",
              "  <svg xmlns=\"http://www.w3.org/2000/svg\" height=\"24px\" viewBox=\"0 -960 960 960\">\n",
              "    <path d=\"M120-120v-720h720v720H120Zm60-500h600v-160H180v160Zm220 220h160v-160H400v160Zm0 220h160v-160H400v160ZM180-400h160v-160H180v160Zm440 0h160v-160H620v160ZM180-180h160v-160H180v160Zm440 0h160v-160H620v160Z\"/>\n",
              "  </svg>\n",
              "    </button>\n",
              "\n",
              "  <style>\n",
              "    .colab-df-container {\n",
              "      display:flex;\n",
              "      gap: 12px;\n",
              "    }\n",
              "\n",
              "    .colab-df-convert {\n",
              "      background-color: #E8F0FE;\n",
              "      border: none;\n",
              "      border-radius: 50%;\n",
              "      cursor: pointer;\n",
              "      display: none;\n",
              "      fill: #1967D2;\n",
              "      height: 32px;\n",
              "      padding: 0 0 0 0;\n",
              "      width: 32px;\n",
              "    }\n",
              "\n",
              "    .colab-df-convert:hover {\n",
              "      background-color: #E2EBFA;\n",
              "      box-shadow: 0px 1px 2px rgba(60, 64, 67, 0.3), 0px 1px 3px 1px rgba(60, 64, 67, 0.15);\n",
              "      fill: #174EA6;\n",
              "    }\n",
              "\n",
              "    .colab-df-buttons div {\n",
              "      margin-bottom: 4px;\n",
              "    }\n",
              "\n",
              "    [theme=dark] .colab-df-convert {\n",
              "      background-color: #3B4455;\n",
              "      fill: #D2E3FC;\n",
              "    }\n",
              "\n",
              "    [theme=dark] .colab-df-convert:hover {\n",
              "      background-color: #434B5C;\n",
              "      box-shadow: 0px 1px 3px 1px rgba(0, 0, 0, 0.15);\n",
              "      filter: drop-shadow(0px 1px 2px rgba(0, 0, 0, 0.3));\n",
              "      fill: #FFFFFF;\n",
              "    }\n",
              "  </style>\n",
              "\n",
              "    <script>\n",
              "      const buttonEl =\n",
              "        document.querySelector('#df-b4efd593-9809-4809-9d77-cb3ce14b2af9 button.colab-df-convert');\n",
              "      buttonEl.style.display =\n",
              "        google.colab.kernel.accessAllowed ? 'block' : 'none';\n",
              "\n",
              "      async function convertToInteractive(key) {\n",
              "        const element = document.querySelector('#df-b4efd593-9809-4809-9d77-cb3ce14b2af9');\n",
              "        const dataTable =\n",
              "          await google.colab.kernel.invokeFunction('convertToInteractive',\n",
              "                                                    [key], {});\n",
              "        if (!dataTable) return;\n",
              "\n",
              "        const docLinkHtml = 'Like what you see? Visit the ' +\n",
              "          '<a target=\"_blank\" href=https://colab.research.google.com/notebooks/data_table.ipynb>data table notebook</a>'\n",
              "          + ' to learn more about interactive tables.';\n",
              "        element.innerHTML = '';\n",
              "        dataTable['output_type'] = 'display_data';\n",
              "        await google.colab.output.renderOutput(dataTable, element);\n",
              "        const docLink = document.createElement('div');\n",
              "        docLink.innerHTML = docLinkHtml;\n",
              "        element.appendChild(docLink);\n",
              "      }\n",
              "    </script>\n",
              "  </div>\n",
              "\n",
              "\n",
              "<div id=\"df-af2c9216-57d6-477d-a30c-e681a987da32\">\n",
              "  <button class=\"colab-df-quickchart\" onclick=\"quickchart('df-af2c9216-57d6-477d-a30c-e681a987da32')\"\n",
              "            title=\"Suggest charts\"\n",
              "            style=\"display:none;\">\n",
              "\n",
              "<svg xmlns=\"http://www.w3.org/2000/svg\" height=\"24px\"viewBox=\"0 0 24 24\"\n",
              "     width=\"24px\">\n",
              "    <g>\n",
              "        <path d=\"M19 3H5c-1.1 0-2 .9-2 2v14c0 1.1.9 2 2 2h14c1.1 0 2-.9 2-2V5c0-1.1-.9-2-2-2zM9 17H7v-7h2v7zm4 0h-2V7h2v10zm4 0h-2v-4h2v4z\"/>\n",
              "    </g>\n",
              "</svg>\n",
              "  </button>\n",
              "\n",
              "<style>\n",
              "  .colab-df-quickchart {\n",
              "      --bg-color: #E8F0FE;\n",
              "      --fill-color: #1967D2;\n",
              "      --hover-bg-color: #E2EBFA;\n",
              "      --hover-fill-color: #174EA6;\n",
              "      --disabled-fill-color: #AAA;\n",
              "      --disabled-bg-color: #DDD;\n",
              "  }\n",
              "\n",
              "  [theme=dark] .colab-df-quickchart {\n",
              "      --bg-color: #3B4455;\n",
              "      --fill-color: #D2E3FC;\n",
              "      --hover-bg-color: #434B5C;\n",
              "      --hover-fill-color: #FFFFFF;\n",
              "      --disabled-bg-color: #3B4455;\n",
              "      --disabled-fill-color: #666;\n",
              "  }\n",
              "\n",
              "  .colab-df-quickchart {\n",
              "    background-color: var(--bg-color);\n",
              "    border: none;\n",
              "    border-radius: 50%;\n",
              "    cursor: pointer;\n",
              "    display: none;\n",
              "    fill: var(--fill-color);\n",
              "    height: 32px;\n",
              "    padding: 0;\n",
              "    width: 32px;\n",
              "  }\n",
              "\n",
              "  .colab-df-quickchart:hover {\n",
              "    background-color: var(--hover-bg-color);\n",
              "    box-shadow: 0 1px 2px rgba(60, 64, 67, 0.3), 0 1px 3px 1px rgba(60, 64, 67, 0.15);\n",
              "    fill: var(--button-hover-fill-color);\n",
              "  }\n",
              "\n",
              "  .colab-df-quickchart-complete:disabled,\n",
              "  .colab-df-quickchart-complete:disabled:hover {\n",
              "    background-color: var(--disabled-bg-color);\n",
              "    fill: var(--disabled-fill-color);\n",
              "    box-shadow: none;\n",
              "  }\n",
              "\n",
              "  .colab-df-spinner {\n",
              "    border: 2px solid var(--fill-color);\n",
              "    border-color: transparent;\n",
              "    border-bottom-color: var(--fill-color);\n",
              "    animation:\n",
              "      spin 1s steps(1) infinite;\n",
              "  }\n",
              "\n",
              "  @keyframes spin {\n",
              "    0% {\n",
              "      border-color: transparent;\n",
              "      border-bottom-color: var(--fill-color);\n",
              "      border-left-color: var(--fill-color);\n",
              "    }\n",
              "    20% {\n",
              "      border-color: transparent;\n",
              "      border-left-color: var(--fill-color);\n",
              "      border-top-color: var(--fill-color);\n",
              "    }\n",
              "    30% {\n",
              "      border-color: transparent;\n",
              "      border-left-color: var(--fill-color);\n",
              "      border-top-color: var(--fill-color);\n",
              "      border-right-color: var(--fill-color);\n",
              "    }\n",
              "    40% {\n",
              "      border-color: transparent;\n",
              "      border-right-color: var(--fill-color);\n",
              "      border-top-color: var(--fill-color);\n",
              "    }\n",
              "    60% {\n",
              "      border-color: transparent;\n",
              "      border-right-color: var(--fill-color);\n",
              "    }\n",
              "    80% {\n",
              "      border-color: transparent;\n",
              "      border-right-color: var(--fill-color);\n",
              "      border-bottom-color: var(--fill-color);\n",
              "    }\n",
              "    90% {\n",
              "      border-color: transparent;\n",
              "      border-bottom-color: var(--fill-color);\n",
              "    }\n",
              "  }\n",
              "</style>\n",
              "\n",
              "  <script>\n",
              "    async function quickchart(key) {\n",
              "      const quickchartButtonEl =\n",
              "        document.querySelector('#' + key + ' button');\n",
              "      quickchartButtonEl.disabled = true;  // To prevent multiple clicks.\n",
              "      quickchartButtonEl.classList.add('colab-df-spinner');\n",
              "      try {\n",
              "        const charts = await google.colab.kernel.invokeFunction(\n",
              "            'suggestCharts', [key], {});\n",
              "      } catch (error) {\n",
              "        console.error('Error during call to suggestCharts:', error);\n",
              "      }\n",
              "      quickchartButtonEl.classList.remove('colab-df-spinner');\n",
              "      quickchartButtonEl.classList.add('colab-df-quickchart-complete');\n",
              "    }\n",
              "    (() => {\n",
              "      let quickchartButtonEl =\n",
              "        document.querySelector('#df-af2c9216-57d6-477d-a30c-e681a987da32 button');\n",
              "      quickchartButtonEl.style.display =\n",
              "        google.colab.kernel.accessAllowed ? 'block' : 'none';\n",
              "    })();\n",
              "  </script>\n",
              "</div>\n",
              "\n",
              "    </div>\n",
              "  </div>\n"
            ],
            "application/vnd.google.colaboratory.intrinsic+json": {
              "type": "dataframe"
            }
          },
          "metadata": {},
          "execution_count": 13
        }
      ],
      "source": [
        "# Creating a newId for every movie to reduce the range of existing movieId\n",
        "#this only gives us the unique values for movies.\n",
        "movies[\"newId\"] = range(1, movies[\"movieId\"].nunique()+1)\n",
        "movies.head()\n",
        "movie_ratings.isnull()"
      ]
    },
    {
      "cell_type": "code",
      "execution_count": 14,
      "metadata": {
        "id": "Pu3vydusDuhZ"
      },
      "outputs": [],
      "source": [
        "# Converting the the UTC timestamp to Datetime\n",
        "movie_ratings[\"timestamp\"] = movie_ratings[\"timestamp\"].apply(lambda x: datetime.utcfromtimestamp(x).strftime(\"%Y-%m-%d\"))\n",
        "\n",
        "# Merging the movies and ratings data files\n",
        "movie_ratings = movie_ratings.merge(movies, how=\"left\", on=\"movieId\")\n",
        "\n",
        "# Renaming the timestamp to date\n",
        "movie_ratings.rename(columns={\"timestamp\": \"date\"}, inplace=True)\n",
        "\n",
        "# Updating the movieId with the newId\n",
        "movie_ratings[\"movieId\"] = movie_ratings[\"newId\"]\n",
        "movies[\"movieId\"] = movies[\"newId\"]"
      ]
    },
    {
      "cell_type": "code",
      "execution_count": 15,
      "metadata": {
        "id": "UdHjouXUIB8H"
      },
      "outputs": [],
      "source": [
        "# Dropping the newId from the datasets\n",
        "movie_ratings.drop([\"newId\"], axis=1, inplace=True)\n",
        "movies.drop([\"newId\"], axis=1, inplace=True)\n",
        "\n",
        "# Sorting ratings based on date\n",
        "movie_ratings.sort_values(by = \"date\", inplace = True)\n",
        "movie_ratings.reset_index(drop=True, inplace=True)\n",
        "#reset index basically resets the indices of the data frame and gives it a default index"
      ]
    },
    {
      "cell_type": "code",
      "execution_count": 16,
      "metadata": {
        "id": "VxpAjFq85m3b",
        "colab": {
          "base_uri": "https://localhost:8080/",
          "height": 260
        },
        "outputId": "6a865f8d-47f0-44f8-b67b-20c554ae8a6d"
      },
      "outputs": [
        {
          "output_type": "stream",
          "name": "stdout",
          "text": [
            "The number of records are :  994827\n",
            "The number of features are :  6\n",
            "The list of features is :  Index(['userId', 'movieId', 'rating', 'date', 'title', 'genres'], dtype='object')\n"
          ]
        },
        {
          "output_type": "execute_result",
          "data": {
            "text/plain": [
              "   userId  movieId  rating        date                              title  \\\n",
              "0    6719     4964     4.0  1974-01-05  Little Dieter Needs to Fly (1997)   \n",
              "1    4864       79     1.0  1996-02-28                  Juror, The (1996)   \n",
              "2    4864       91     2.0  1996-02-28                 Mary Reilly (1996)   \n",
              "3    4864       17     5.0  1996-02-28       Sense and Sensibility (1995)   \n",
              "4    4864       14     4.0  1996-02-28                       Nixon (1995)   \n",
              "\n",
              "                  genres  \n",
              "0            Documentary  \n",
              "1         Drama|Thriller  \n",
              "2  Drama|Horror|Thriller  \n",
              "3          Drama|Romance  \n",
              "4                  Drama  "
            ],
            "text/html": [
              "\n",
              "  <div id=\"df-b0d8d754-a001-4858-a174-dcac73c1c522\" class=\"colab-df-container\">\n",
              "    <div>\n",
              "<style scoped>\n",
              "    .dataframe tbody tr th:only-of-type {\n",
              "        vertical-align: middle;\n",
              "    }\n",
              "\n",
              "    .dataframe tbody tr th {\n",
              "        vertical-align: top;\n",
              "    }\n",
              "\n",
              "    .dataframe thead th {\n",
              "        text-align: right;\n",
              "    }\n",
              "</style>\n",
              "<table border=\"1\" class=\"dataframe\">\n",
              "  <thead>\n",
              "    <tr style=\"text-align: right;\">\n",
              "      <th></th>\n",
              "      <th>userId</th>\n",
              "      <th>movieId</th>\n",
              "      <th>rating</th>\n",
              "      <th>date</th>\n",
              "      <th>title</th>\n",
              "      <th>genres</th>\n",
              "    </tr>\n",
              "  </thead>\n",
              "  <tbody>\n",
              "    <tr>\n",
              "      <th>0</th>\n",
              "      <td>6719</td>\n",
              "      <td>4964</td>\n",
              "      <td>4.0</td>\n",
              "      <td>1974-01-05</td>\n",
              "      <td>Little Dieter Needs to Fly (1997)</td>\n",
              "      <td>Documentary</td>\n",
              "    </tr>\n",
              "    <tr>\n",
              "      <th>1</th>\n",
              "      <td>4864</td>\n",
              "      <td>79</td>\n",
              "      <td>1.0</td>\n",
              "      <td>1996-02-28</td>\n",
              "      <td>Juror, The (1996)</td>\n",
              "      <td>Drama|Thriller</td>\n",
              "    </tr>\n",
              "    <tr>\n",
              "      <th>2</th>\n",
              "      <td>4864</td>\n",
              "      <td>91</td>\n",
              "      <td>2.0</td>\n",
              "      <td>1996-02-28</td>\n",
              "      <td>Mary Reilly (1996)</td>\n",
              "      <td>Drama|Horror|Thriller</td>\n",
              "    </tr>\n",
              "    <tr>\n",
              "      <th>3</th>\n",
              "      <td>4864</td>\n",
              "      <td>17</td>\n",
              "      <td>5.0</td>\n",
              "      <td>1996-02-28</td>\n",
              "      <td>Sense and Sensibility (1995)</td>\n",
              "      <td>Drama|Romance</td>\n",
              "    </tr>\n",
              "    <tr>\n",
              "      <th>4</th>\n",
              "      <td>4864</td>\n",
              "      <td>14</td>\n",
              "      <td>4.0</td>\n",
              "      <td>1996-02-28</td>\n",
              "      <td>Nixon (1995)</td>\n",
              "      <td>Drama</td>\n",
              "    </tr>\n",
              "  </tbody>\n",
              "</table>\n",
              "</div>\n",
              "    <div class=\"colab-df-buttons\">\n",
              "\n",
              "  <div class=\"colab-df-container\">\n",
              "    <button class=\"colab-df-convert\" onclick=\"convertToInteractive('df-b0d8d754-a001-4858-a174-dcac73c1c522')\"\n",
              "            title=\"Convert this dataframe to an interactive table.\"\n",
              "            style=\"display:none;\">\n",
              "\n",
              "  <svg xmlns=\"http://www.w3.org/2000/svg\" height=\"24px\" viewBox=\"0 -960 960 960\">\n",
              "    <path d=\"M120-120v-720h720v720H120Zm60-500h600v-160H180v160Zm220 220h160v-160H400v160Zm0 220h160v-160H400v160ZM180-400h160v-160H180v160Zm440 0h160v-160H620v160ZM180-180h160v-160H180v160Zm440 0h160v-160H620v160Z\"/>\n",
              "  </svg>\n",
              "    </button>\n",
              "\n",
              "  <style>\n",
              "    .colab-df-container {\n",
              "      display:flex;\n",
              "      gap: 12px;\n",
              "    }\n",
              "\n",
              "    .colab-df-convert {\n",
              "      background-color: #E8F0FE;\n",
              "      border: none;\n",
              "      border-radius: 50%;\n",
              "      cursor: pointer;\n",
              "      display: none;\n",
              "      fill: #1967D2;\n",
              "      height: 32px;\n",
              "      padding: 0 0 0 0;\n",
              "      width: 32px;\n",
              "    }\n",
              "\n",
              "    .colab-df-convert:hover {\n",
              "      background-color: #E2EBFA;\n",
              "      box-shadow: 0px 1px 2px rgba(60, 64, 67, 0.3), 0px 1px 3px 1px rgba(60, 64, 67, 0.15);\n",
              "      fill: #174EA6;\n",
              "    }\n",
              "\n",
              "    .colab-df-buttons div {\n",
              "      margin-bottom: 4px;\n",
              "    }\n",
              "\n",
              "    [theme=dark] .colab-df-convert {\n",
              "      background-color: #3B4455;\n",
              "      fill: #D2E3FC;\n",
              "    }\n",
              "\n",
              "    [theme=dark] .colab-df-convert:hover {\n",
              "      background-color: #434B5C;\n",
              "      box-shadow: 0px 1px 3px 1px rgba(0, 0, 0, 0.15);\n",
              "      filter: drop-shadow(0px 1px 2px rgba(0, 0, 0, 0.3));\n",
              "      fill: #FFFFFF;\n",
              "    }\n",
              "  </style>\n",
              "\n",
              "    <script>\n",
              "      const buttonEl =\n",
              "        document.querySelector('#df-b0d8d754-a001-4858-a174-dcac73c1c522 button.colab-df-convert');\n",
              "      buttonEl.style.display =\n",
              "        google.colab.kernel.accessAllowed ? 'block' : 'none';\n",
              "\n",
              "      async function convertToInteractive(key) {\n",
              "        const element = document.querySelector('#df-b0d8d754-a001-4858-a174-dcac73c1c522');\n",
              "        const dataTable =\n",
              "          await google.colab.kernel.invokeFunction('convertToInteractive',\n",
              "                                                    [key], {});\n",
              "        if (!dataTable) return;\n",
              "\n",
              "        const docLinkHtml = 'Like what you see? Visit the ' +\n",
              "          '<a target=\"_blank\" href=https://colab.research.google.com/notebooks/data_table.ipynb>data table notebook</a>'\n",
              "          + ' to learn more about interactive tables.';\n",
              "        element.innerHTML = '';\n",
              "        dataTable['output_type'] = 'display_data';\n",
              "        await google.colab.output.renderOutput(dataTable, element);\n",
              "        const docLink = document.createElement('div');\n",
              "        docLink.innerHTML = docLinkHtml;\n",
              "        element.appendChild(docLink);\n",
              "      }\n",
              "    </script>\n",
              "  </div>\n",
              "\n",
              "\n",
              "<div id=\"df-e41457c4-3c76-4b09-ab8e-3c1fa5bb908d\">\n",
              "  <button class=\"colab-df-quickchart\" onclick=\"quickchart('df-e41457c4-3c76-4b09-ab8e-3c1fa5bb908d')\"\n",
              "            title=\"Suggest charts\"\n",
              "            style=\"display:none;\">\n",
              "\n",
              "<svg xmlns=\"http://www.w3.org/2000/svg\" height=\"24px\"viewBox=\"0 0 24 24\"\n",
              "     width=\"24px\">\n",
              "    <g>\n",
              "        <path d=\"M19 3H5c-1.1 0-2 .9-2 2v14c0 1.1.9 2 2 2h14c1.1 0 2-.9 2-2V5c0-1.1-.9-2-2-2zM9 17H7v-7h2v7zm4 0h-2V7h2v10zm4 0h-2v-4h2v4z\"/>\n",
              "    </g>\n",
              "</svg>\n",
              "  </button>\n",
              "\n",
              "<style>\n",
              "  .colab-df-quickchart {\n",
              "      --bg-color: #E8F0FE;\n",
              "      --fill-color: #1967D2;\n",
              "      --hover-bg-color: #E2EBFA;\n",
              "      --hover-fill-color: #174EA6;\n",
              "      --disabled-fill-color: #AAA;\n",
              "      --disabled-bg-color: #DDD;\n",
              "  }\n",
              "\n",
              "  [theme=dark] .colab-df-quickchart {\n",
              "      --bg-color: #3B4455;\n",
              "      --fill-color: #D2E3FC;\n",
              "      --hover-bg-color: #434B5C;\n",
              "      --hover-fill-color: #FFFFFF;\n",
              "      --disabled-bg-color: #3B4455;\n",
              "      --disabled-fill-color: #666;\n",
              "  }\n",
              "\n",
              "  .colab-df-quickchart {\n",
              "    background-color: var(--bg-color);\n",
              "    border: none;\n",
              "    border-radius: 50%;\n",
              "    cursor: pointer;\n",
              "    display: none;\n",
              "    fill: var(--fill-color);\n",
              "    height: 32px;\n",
              "    padding: 0;\n",
              "    width: 32px;\n",
              "  }\n",
              "\n",
              "  .colab-df-quickchart:hover {\n",
              "    background-color: var(--hover-bg-color);\n",
              "    box-shadow: 0 1px 2px rgba(60, 64, 67, 0.3), 0 1px 3px 1px rgba(60, 64, 67, 0.15);\n",
              "    fill: var(--button-hover-fill-color);\n",
              "  }\n",
              "\n",
              "  .colab-df-quickchart-complete:disabled,\n",
              "  .colab-df-quickchart-complete:disabled:hover {\n",
              "    background-color: var(--disabled-bg-color);\n",
              "    fill: var(--disabled-fill-color);\n",
              "    box-shadow: none;\n",
              "  }\n",
              "\n",
              "  .colab-df-spinner {\n",
              "    border: 2px solid var(--fill-color);\n",
              "    border-color: transparent;\n",
              "    border-bottom-color: var(--fill-color);\n",
              "    animation:\n",
              "      spin 1s steps(1) infinite;\n",
              "  }\n",
              "\n",
              "  @keyframes spin {\n",
              "    0% {\n",
              "      border-color: transparent;\n",
              "      border-bottom-color: var(--fill-color);\n",
              "      border-left-color: var(--fill-color);\n",
              "    }\n",
              "    20% {\n",
              "      border-color: transparent;\n",
              "      border-left-color: var(--fill-color);\n",
              "      border-top-color: var(--fill-color);\n",
              "    }\n",
              "    30% {\n",
              "      border-color: transparent;\n",
              "      border-left-color: var(--fill-color);\n",
              "      border-top-color: var(--fill-color);\n",
              "      border-right-color: var(--fill-color);\n",
              "    }\n",
              "    40% {\n",
              "      border-color: transparent;\n",
              "      border-right-color: var(--fill-color);\n",
              "      border-top-color: var(--fill-color);\n",
              "    }\n",
              "    60% {\n",
              "      border-color: transparent;\n",
              "      border-right-color: var(--fill-color);\n",
              "    }\n",
              "    80% {\n",
              "      border-color: transparent;\n",
              "      border-right-color: var(--fill-color);\n",
              "      border-bottom-color: var(--fill-color);\n",
              "    }\n",
              "    90% {\n",
              "      border-color: transparent;\n",
              "      border-bottom-color: var(--fill-color);\n",
              "    }\n",
              "  }\n",
              "</style>\n",
              "\n",
              "  <script>\n",
              "    async function quickchart(key) {\n",
              "      const quickchartButtonEl =\n",
              "        document.querySelector('#' + key + ' button');\n",
              "      quickchartButtonEl.disabled = true;  // To prevent multiple clicks.\n",
              "      quickchartButtonEl.classList.add('colab-df-spinner');\n",
              "      try {\n",
              "        const charts = await google.colab.kernel.invokeFunction(\n",
              "            'suggestCharts', [key], {});\n",
              "      } catch (error) {\n",
              "        console.error('Error during call to suggestCharts:', error);\n",
              "      }\n",
              "      quickchartButtonEl.classList.remove('colab-df-spinner');\n",
              "      quickchartButtonEl.classList.add('colab-df-quickchart-complete');\n",
              "    }\n",
              "    (() => {\n",
              "      let quickchartButtonEl =\n",
              "        document.querySelector('#df-e41457c4-3c76-4b09-ab8e-3c1fa5bb908d button');\n",
              "      quickchartButtonEl.style.display =\n",
              "        google.colab.kernel.accessAllowed ? 'block' : 'none';\n",
              "    })();\n",
              "  </script>\n",
              "</div>\n",
              "\n",
              "    </div>\n",
              "  </div>\n"
            ],
            "application/vnd.google.colaboratory.intrinsic+json": {
              "type": "dataframe",
              "variable_name": "movie_ratings"
            }
          },
          "metadata": {},
          "execution_count": 16
        }
      ],
      "source": [
        "# Checking the features and no. of records in the dataset\n",
        "\n",
        "print(\"The number of records are : \", movie_ratings.shape[0])\n",
        "print(\"The number of features are : \", movie_ratings.shape[1])\n",
        "print(\"The list of features is : \", movie_ratings.columns)\n",
        "movie_ratings.head()"
      ]
    },
    {
      "cell_type": "code",
      "source": [
        "movie_ratings[\"genres\"].isnull().count()\n"
      ],
      "metadata": {
        "colab": {
          "base_uri": "https://localhost:8080/"
        },
        "id": "p3DIpBvTrnfh",
        "outputId": "1c4d0dc3-852d-4cb7-85ed-a77f8a094907"
      },
      "execution_count": 17,
      "outputs": [
        {
          "output_type": "execute_result",
          "data": {
            "text/plain": [
              "994827"
            ]
          },
          "metadata": {},
          "execution_count": 17
        }
      ]
    },
    {
      "cell_type": "markdown",
      "metadata": {
        "id": "_AuBVm-bMkyA"
      },
      "source": [
        "Observations:\n",
        "\n",
        "1. There are about 20+M records of the data.\n",
        "2. There are 6 features: userId, movieId, rating, date, title and genres."
      ]
    },
    {
      "cell_type": "markdown",
      "metadata": {
        "id": "bWrEBqC7M_sj"
      },
      "source": [
        "### **3.1 Data Cleaning**\n",
        "\n",
        "We will begin with data cleaning such that we can handle missing values, outliers, rare values and drop the unnecessary features that do not carry useful information.\n"
      ]
    },
    {
      "cell_type": "code",
      "execution_count": 18,
      "metadata": {
        "id": "YJDLOxeu-j8K",
        "colab": {
          "base_uri": "https://localhost:8080/"
        },
        "outputId": "ac9f17f6-3b77-45e5-f0db-8d4c263d9afc"
      },
      "outputs": [
        {
          "output_type": "stream",
          "name": "stdout",
          "text": [
            "No. of duplicates records in the dataset :  0\n"
          ]
        }
      ],
      "source": [
        "# Checking for duplicates\n",
        "\n",
        "print(\"No. of duplicates records in the dataset : \", movie_ratings.columns.duplicated().sum())"
      ]
    },
    {
      "cell_type": "markdown",
      "metadata": {
        "id": "pEsm51F7N8BN"
      },
      "source": [
        "Observations:\n",
        "1. There are no duplicate records in the dataset."
      ]
    },
    {
      "cell_type": "code",
      "execution_count": 19,
      "metadata": {
        "id": "cQHakfwPND5n",
        "colab": {
          "base_uri": "https://localhost:8080/"
        },
        "outputId": "79ffda9a-be9f-4eef-c65a-1e46b6412283"
      },
      "outputs": [
        {
          "output_type": "stream",
          "name": "stdout",
          "text": [
            "<class 'pandas.core.frame.DataFrame'>\n",
            "RangeIndex: 994827 entries, 0 to 994826\n",
            "Data columns (total 6 columns):\n",
            " #   Column   Non-Null Count   Dtype  \n",
            "---  ------   --------------   -----  \n",
            " 0   userId   994827 non-null  int64  \n",
            " 1   movieId  994827 non-null  int64  \n",
            " 2   rating   994827 non-null  float64\n",
            " 3   date     994827 non-null  object \n",
            " 4   title    994827 non-null  object \n",
            " 5   genres   994827 non-null  object \n",
            "dtypes: float64(1), int64(2), object(3)\n",
            "memory usage: 45.5+ MB\n"
          ]
        }
      ],
      "source": [
        "# Checking the columns' titles and datatypes\n",
        "\n",
        "movie_ratings.info()"
      ]
    },
    {
      "cell_type": "markdown",
      "metadata": {
        "id": "3-pi8pklOP5C"
      },
      "source": [
        "#### **3.1.1 Handling Missing Values**\n",
        "\n",
        "Identifying the features that have some missing values and imputing them."
      ]
    },
    {
      "cell_type": "code",
      "execution_count": 20,
      "metadata": {
        "id": "6lL_GiN0OFjJ",
        "colab": {
          "base_uri": "https://localhost:8080/",
          "height": 272
        },
        "outputId": "88aacc21-635d-49ab-ee7b-42503281c60b"
      },
      "outputs": [
        {
          "output_type": "execute_result",
          "data": {
            "text/plain": [
              "userId     0\n",
              "movieId    0\n",
              "rating     0\n",
              "date       0\n",
              "title      0\n",
              "genres     0\n",
              "dtype: int64"
            ],
            "text/html": [
              "<div>\n",
              "<style scoped>\n",
              "    .dataframe tbody tr th:only-of-type {\n",
              "        vertical-align: middle;\n",
              "    }\n",
              "\n",
              "    .dataframe tbody tr th {\n",
              "        vertical-align: top;\n",
              "    }\n",
              "\n",
              "    .dataframe thead th {\n",
              "        text-align: right;\n",
              "    }\n",
              "</style>\n",
              "<table border=\"1\" class=\"dataframe\">\n",
              "  <thead>\n",
              "    <tr style=\"text-align: right;\">\n",
              "      <th></th>\n",
              "      <th>0</th>\n",
              "    </tr>\n",
              "  </thead>\n",
              "  <tbody>\n",
              "    <tr>\n",
              "      <th>userId</th>\n",
              "      <td>0</td>\n",
              "    </tr>\n",
              "    <tr>\n",
              "      <th>movieId</th>\n",
              "      <td>0</td>\n",
              "    </tr>\n",
              "    <tr>\n",
              "      <th>rating</th>\n",
              "      <td>0</td>\n",
              "    </tr>\n",
              "    <tr>\n",
              "      <th>date</th>\n",
              "      <td>0</td>\n",
              "    </tr>\n",
              "    <tr>\n",
              "      <th>title</th>\n",
              "      <td>0</td>\n",
              "    </tr>\n",
              "    <tr>\n",
              "      <th>genres</th>\n",
              "      <td>0</td>\n",
              "    </tr>\n",
              "  </tbody>\n",
              "</table>\n",
              "</div><br><label><b>dtype:</b> int64</label>"
            ]
          },
          "metadata": {},
          "execution_count": 20
        }
      ],
      "source": [
        "# Checking the number of missing values in data\n",
        "\n",
        "movie_ratings.isna().sum()"
      ]
    },
    {
      "cell_type": "markdown",
      "metadata": {
        "id": "yYDOEv7uOtDl"
      },
      "source": [
        "Observations:\n",
        "\n",
        "1. It looks like that the dataset is well maintained as we do not see any missing values, which is good."
      ]
    },
    {
      "cell_type": "markdown",
      "metadata": {
        "id": "ZGNdRpgMO8Tx"
      },
      "source": [
        "### **3.2 Exploratory Data Analysis**\n",
        "\n",
        "After the data cleaning steps, we can now perform EDA on the dataset to discover patterns and relationships that will help in understanding the data better."
      ]
    },
    {
      "cell_type": "markdown",
      "metadata": {
        "id": "8eI1SDI4PRfr"
      },
      "source": [
        "#### **3.2.1 Univariate Analysis**\n",
        "\n",
        "Analyzing each feature inidividually to gain insights from the data and discover any outliers."
      ]
    },
    {
      "cell_type": "code",
      "execution_count": 21,
      "metadata": {
        "id": "IzzjiZ7bOUmO",
        "colab": {
          "base_uri": "https://localhost:8080/"
        },
        "outputId": "487aee2a-b8df-4eef-9754-99147eae1f60"
      },
      "outputs": [
        {
          "output_type": "stream",
          "name": "stdout",
          "text": [
            "The count of unique userID in the dataset is :  6719\n",
            "The top 5 userID in the dataset are : \n",
            " userId\n",
            "3907    2711\n",
            "2261    2644\n",
            "903     2608\n",
            "4358    2575\n",
            "4222    2553\n",
            "Name: count, dtype: int64\n"
          ]
        }
      ],
      "source": [
        "# Checking the feature \"userID\"\n",
        "\n",
        "total_users = len(np.unique(movie_ratings[\"userId\"]))\n",
        "print(\"The count of unique userID in the dataset is : \", total_users)\n",
        "print(\"The top 5 userID in the dataset are : \\n\", movie_ratings[\"userId\"].value_counts()[:5])"
      ]
    },
    {
      "cell_type": "markdown",
      "metadata": {
        "id": "J5YZPCo4tvbM"
      },
      "source": [
        "Observations:\n",
        "\n",
        "1. \"userId\" are the Users that were selected at random for inclusion and their ids have been anonymized.\n",
        "2. There are 138K+ unique users in the dataset.\n",
        "3. userId 118205 has around 9K records in the dataset."
      ]
    },
    {
      "cell_type": "code",
      "execution_count": 22,
      "metadata": {
        "id": "1q0t8e48UPpe",
        "colab": {
          "base_uri": "https://localhost:8080/"
        },
        "outputId": "f60bbd70-6c2f-41a2-817c-94a8e314bb49"
      },
      "outputs": [
        {
          "output_type": "stream",
          "name": "stdout",
          "text": [
            "The count of unique movieID in the dataset is :  13937\n",
            "The top 5 movieID in the dataset are : \n",
            " movieId\n",
            "294    3305\n",
            "353    3301\n",
            "588    3066\n",
            "316    3046\n",
            "477    2968\n",
            "Name: count, dtype: int64\n"
          ]
        }
      ],
      "source": [
        "# Checking the feature \"movieID\"\n",
        "\n",
        "total_movies = len(np.unique(movie_ratings[\"movieId\"]))\n",
        "print(\"The count of unique movieID in the dataset is : \", total_movies)\n",
        "print(\"The top 5 movieID in the dataset are : \\n\", movie_ratings[\"movieId\"].value_counts()[:5])"
      ]
    },
    {
      "cell_type": "markdown",
      "metadata": {
        "id": "Rr1Gz-Ctx2gX"
      },
      "source": [
        "Observations:\n",
        "\n",
        "1. \"movieId\" represents the movies with at least one rating or tag in the dataset.\n",
        "2. There are close to 26K+ unique movies in the dataset.\n",
        "3. movieId 294, 353, 316 and 588 are few popular movies which has been rated over 60K times."
      ]
    },
    {
      "cell_type": "code",
      "execution_count": 23,
      "metadata": {
        "id": "_IIIt4wtdNyi"
      },
      "outputs": [],
      "source": [
        "# Helper function to Change the numeric label in terms of Millions\n",
        "\n",
        "def changingLabels(number):\n",
        "\n",
        "    return str(number/10**6) + \"M\""
      ]
    },
    {
      "cell_type": "code",
      "execution_count": 24,
      "metadata": {
        "id": "FM1u-zOzVQiT",
        "colab": {
          "base_uri": "https://localhost:8080/",
          "height": 375
        },
        "outputId": "253ff15e-cffa-4ecf-ed7a-e809498187dd"
      },
      "outputs": [
        {
          "output_type": "display_data",
          "data": {
            "text/plain": [
              "<Figure size 2500x500 with 1 Axes>"
            ],
            "image/png": "[encoded data removed]"
          },
          "metadata": {}
        }
      ],
      "source": [
        "# Checking the feature \"rating\"\n",
        "\n",
        "sns.set(style=\"darkgrid\")\n",
        "#set the style to darkgrid with a grid\n",
        "\n",
        "fig, axes = plt.subplots(1, 1, figsize=(25, 5), sharey=True)\n",
        "# fig, axes: Creates a large plot area (canvas) where we can draw.\n",
        "# figsize=(25, 5): The size of the plot is set to be wide (25 units) and not very tall (5 units).\n",
        "# sharey=True: If there were more plots, they would share the same y-axis scale.\n",
        "\n",
        "sns.countplot(x =\"rating\", data=movie_ratings, ax=axes)\n",
        "axes.set_yticklabels([changingLabels(num) for num in axes.get_yticks()])\n",
        "#set custom labels in the y axis\n",
        "#changingLabels(num): This function, which we defined earlier, formats the y-axis labels (e.g., changing 1000000 to 1M).\n",
        "for p in axes.patches:\n",
        "    axes.annotate('{}'.format(p.get_height()), (p.get_x()+0.2, p.get_height()+100))\n",
        "\n",
        "# #loops over each bar in the plot\n",
        "# p.get_height(): Gets the height (count) of the bar and displays it as text on the bar.\n",
        "# (p.get_x() + 0.2, p.get_height() + 100): Positions the text slightly to the right of the bar and above its top.\n",
        "\n",
        "plt.tick_params(labelsize = 15)\n",
        "#to make numbers and labels on the x and y axes bigger for better readability\n",
        "\n",
        "plt.title(\"Distribution of Ratings in the dataset\", fontsize = 20)\n",
        "plt.xlabel(\"Ratings\", fontsize = 10)\n",
        "plt.ylabel(\"Counts(in Millions)\", fontsize = 10)\n",
        "plt.show()"
      ]
    },
    {
      "cell_type": "markdown",
      "metadata": {
        "id": "tUhy3vwgyaci"
      },
      "source": [
        "Observations:\n",
        "\n",
        "1. The ratings given by users to movies lies in between 0.5 to 5.\n",
        "2. A high proportion of the movies have been rated 3, 3.5 or 4 by the users.\n",
        "3. The distribution of ratings look a bit left skewed as large proportion of ratings is in between 3 to 5."
      ]
    },
    {
      "cell_type": "code",
      "execution_count": 25,
      "metadata": {
        "id": "GiL5J031WvkM",
        "colab": {
          "base_uri": "https://localhost:8080/"
        },
        "outputId": "104a81c3-62ff-4b9d-9306-ab8ec2c99b36"
      },
      "outputs": [
        {
          "output_type": "stream",
          "name": "stdout",
          "text": [
            "The count of unique date in the dataset is :  6573\n",
            "The first rating was given on :  1974-01-05\n",
            "The latest rating was given on :  2015-03-31\n",
            "The top 5 date in the dataset are : \n",
            " date\n",
            "2000-11-20    5238\n",
            "2005-03-23    3830\n",
            "1999-12-11    3683\n",
            "2005-03-22    3122\n",
            "2000-11-21    3056\n",
            "Name: count, dtype: int64\n"
          ]
        }
      ],
      "source": [
        "# Checking the feature \"date\"\n",
        "\n",
        "print(\"The count of unique date in the dataset is : \", movie_ratings[\"date\"].nunique())\n",
        "print(\"The first rating was given on : \", movie_ratings[\"date\"].min())\n",
        "print(\"The latest rating was given on : \", movie_ratings[\"date\"].max())\n",
        "print(\"The top 5 date in the dataset are : \\n\", movie_ratings[\"date\"].value_counts()[:5])\n",
        "#Return a Series containing counts of unique values\n",
        "#The resulting object will be in descending order so that the first element is the most frequently-occurring element. Excludes NA values by default."
      ]
    },
    {
      "cell_type": "markdown",
      "metadata": {
        "id": "lKW2vZENzIvR"
      },
      "source": [
        "Observations:\n",
        "\n",
        "1. There are ~7K unique dates when the ratings were given by a user to a movie.\n",
        "2. The first rating was given on 1995-01-09 and the latest rating was given on 2015-03-31.\n",
        "3. Around 91K+ ratings were observed on 2000-11-20."
      ]
    },
    {
      "cell_type": "code",
      "execution_count": 26,
      "metadata": {
        "id": "Ua2AI1OUW6Qw",
        "colab": {
          "base_uri": "https://localhost:8080/"
        },
        "outputId": "58d3f398-eacc-4827-dcc2-6448eb2d4ab6"
      },
      "outputs": [
        {
          "output_type": "stream",
          "name": "stdout",
          "text": [
            "The count of unique title in the dataset is :  13932\n",
            "The top 5 title in the dataset are : \n",
            " title\n",
            "Pulp Fiction (1994)                 3305\n",
            "Forrest Gump (1994)                 3301\n",
            "Silence of the Lambs, The (1991)    3066\n",
            "Shawshank Redemption, The (1994)    3046\n",
            "Jurassic Park (1993)                2968\n",
            "Name: count, dtype: int64\n"
          ]
        }
      ],
      "source": [
        "# Checking the feature \"title\"\n",
        "\n",
        "movie_list = movie_ratings[\"title\"].unique()\n",
        "print(\"The count of unique title in the dataset is : \", movie_ratings[\"title\"].nunique())\n",
        "print(\"The top 5 title in the dataset are : \\n\", movie_ratings[\"title\"].value_counts()[:5])"
      ]
    },
    {
      "cell_type": "markdown",
      "metadata": {
        "id": "z_p8YjqM79lI"
      },
      "source": [
        "Observations:\n",
        "\n",
        "1. There are 26K+ unique movie titles in the dataset.\n",
        "2. Pulp Fiction, Forrest Gump, Shawshank Redemption and Silence of the Lambs are the top 4 movies in terms of no. of ratings received which are over 60K+ for each one."
      ]
    },
    {
      "cell_type": "code",
      "execution_count": 27,
      "metadata": {
        "id": "uj6XTZErXPrh",
        "colab": {
          "base_uri": "https://localhost:8080/"
        },
        "outputId": "2266cc72-0e32-4f1a-be0c-68b7b3c48dbc"
      },
      "outputs": [
        {
          "output_type": "stream",
          "name": "stdout",
          "text": [
            "Genres Extracted from the dataset.\n"
          ]
        }
      ],
      "source": [
        "# Extract unique Genres along with their count\n",
        "\n",
        "unique_genres = {}\n",
        "#empty dictionary\n",
        "\n",
        "def ExtractGenres(x):\n",
        "    for g in x.split(\"|\"):\n",
        "      #if x is \"Adventure|Action|Comedy\", it splits into [\"Adventure\", \"Action\", \"Comedy\"]\n",
        "      #go through each genre in the list\n",
        "        if g not in unique_genres.keys():\n",
        "          #we ll check if the genre exists as key in the unique value dictionary\n",
        "            unique_genres[g] = 1\n",
        "            #the first occurence of the genre\n",
        "        else:\n",
        "            unique_genres[g] = unique_genres[g] + 1\n",
        "            #simply increment the count of the genre by one\n",
        "\n",
        "movie_ratings[\"genres\"].apply(ExtractGenres)\n",
        "#to each value in the genres column of the movie_ratings dataset ; This goes through all the rows and extracts and counts the genres\n",
        "print(\"Genres Extracted from the dataset.\")"
      ]
    },
    {
      "cell_type": "code",
      "execution_count": 28,
      "metadata": {
        "id": "xE1fM8wTauFS",
        "colab": {
          "base_uri": "https://localhost:8080/",
          "height": 624
        },
        "outputId": "6a83ebff-25f8-48c2-8296-13ff6d38b460"
      },
      "outputs": [
        {
          "output_type": "display_data",
          "data": {
            "text/plain": [
              "<Figure size 2500x800 with 1 Axes>"
            ],
            "image/png": "[encoded data removed]"
          },
          "metadata": {}
        }
      ],
      "source": [
        "# Visualizing the feature \"Genres\"\n",
        "\n",
        "genres_df = pd.DataFrame(list(unique_genres.items()))\n",
        "#if unique_genres is {'Action': 10, 'Comedy': 7}, then unique_genres.items() will output [('Action', 10), ('Comedy', 7)]\n",
        "#We convert the items of the dictionary to a list of tuples and then create a DataFrame from the list with the tuples.\n",
        "\n",
        "genres_df.columns = [\"Genre\", \"Count\"]\n",
        "#label the columns\n",
        "\n",
        "sns.set(style=\"darkgrid\")\n",
        "\n",
        "fig, axes = plt.subplots(1, 1, figsize=(25, 8), sharey=True)\n",
        "#1 single space for a single plot\n",
        "\n",
        "sns.barplot(y=\"Count\", x=\"Genre\", data=genres_df, ax=axes)\n",
        "#we've plotted a bar plot over the figure\n",
        "\n",
        "axes.set_yticklabels([changingLabels(num) for num in axes.get_yticks()])\n",
        "#retrieves the y-axis tick positions, applies a transformation (through changingLabels) to each tick(y label), and then sets those transformed values as the new y-axis labels\n",
        "\n",
        "for p in axes.patches:\n",
        "  #for each bar in the plot\n",
        "    axes.annotate('{}'.format(int(p.get_height())), (p.get_x(), p.get_height()+100))\n",
        "    #gets the integer value of the height of each bar and positions it to the center and a little higher than the plot itself\n",
        "\n",
        "plt.tick_params(labelsize = 15)\n",
        "#size of the text displayed\n",
        "\n",
        "plt.title(\"Distribution of Genres in the dataset\", fontsize = 20)\n",
        "plt.xlabel(\"Genres\", fontsize = 15)\n",
        "plt.xticks(rotation=60, fontsize=10)\n",
        "#roatates the value on the x label\n",
        "plt.yticks(fontsize=10)\n",
        "plt.ylabel(\"Counts (in Millions)\", fontsize = 15)\n",
        "plt.show()"
      ]
    },
    {
      "cell_type": "markdown",
      "metadata": {
        "id": "_ACrmXF68wZr"
      },
      "source": [
        "Observations:\n",
        "\n",
        "1. There are 19 different genres of movies while there are few whose genre has not been mentioned.\n",
        "2. Drama, Comedy, Action and Thriller are top 4 genres of movies present in the dataset."
      ]
    },
    {
      "cell_type": "code",
      "execution_count": null,
      "metadata": {
        "id": "HZMqYP1wUPvy"
      },
      "outputs": [],
      "source": [
        "movie_ratings.head()"
      ]
    },
    {
      "cell_type": "markdown",
      "metadata": {
        "id": "rfT4KHdm9on5"
      },
      "source": [
        "#### **3.2.2 Train & test Splitting**\n",
        "\n",
        "Splitting the data into train and test sets before proceeding towards further EDA and Feature Engineering."
      ]
    },
    {
      "cell_type": "code",
      "source": [],
      "metadata": {
        "id": "_QMY5ILa5RHo"
      },
      "execution_count": null,
      "outputs": []
    },
    {
      "cell_type": "code",
      "execution_count": 29,
      "metadata": {
        "id": "abdj3LNVUThD",
        "colab": {
          "base_uri": "https://localhost:8080/"
        },
        "outputId": "a0dc9056-d770-4862-b0c9-d47c7185239c"
      },
      "outputs": [
        {
          "output_type": "stream",
          "name": "stdout",
          "text": [
            "Creating Train Data and saving it..\n",
            "Creating Test Data and saving it..\n"
          ]
        }
      ],
      "source": [
        "import os\n",
        "\n",
        "# Define the local file path where data will be saved\n",
        "file_path = \"/content\"  # This is the default working directory in Colab\n",
        "\n",
        "# Check and create TrainData if it doesn't exist\n",
        "if not os.path.isfile(file_path + \"/TrainData.pkl\"):\n",
        "    print(\"Creating Train Data and saving it..\")\n",
        "    movie_ratings.iloc[:int(movie_ratings.shape[0] * 0.80)].to_pickle(file_path + \"/TrainData.pkl\")\n",
        "    #This line selects the first 80% of the data from the movie_ratings DataFrame for the training set.\n",
        "    # movie_ratings.shape[0] * 0.80 gives the number of rows that represent 80% of the dataset.\n",
        "    # iloc[:int(...)] selects the rows from index 0 up to 80% of the dataset.\n",
        "    #shape fetches the number of rows here\n",
        "    # 80% of the data is used for training\n",
        "    # 20% of the data is used for testing\n",
        "\n",
        "    Train_Data = pd.read_pickle(file_path + \"/TrainData.pkl\")\n",
        "    Train_Data.reset_index(drop=True, inplace=True)\n",
        "else:\n",
        "    print(\"Loading Train Data..\")\n",
        "    Train_Data = pd.read_pickle(file_path + \"/TrainData.pkl\")\n",
        "    Train_Data.reset_index(drop=True, inplace=True)\n",
        "\n",
        "# Check and create TestData if it doesn't exist\n",
        "if not os.path.isfile(file_path + \"/TestData.pkl\"):\n",
        "    print(\"Creating Test Data and saving it..\")\n",
        "    movie_ratings.iloc[int(movie_ratings.shape[0] * 0.80):].to_pickle(file_path + \"/TestData.pkl\")\n",
        "    #int(movie_ratings.shape[0] * 0.80) calculates the index from where to start the test data (80% of the dataset).\n",
        "    Test_Data = pd.read_pickle(file_path + \"/TestData.pkl\")\n",
        "    Test_Data.reset_index(drop=True, inplace=True)\n",
        "else:\n",
        "    print(\"Loading Test Data..\")\n",
        "    Test_Data = pd.read_pickle(file_path + \"/TestData.pkl\")\n",
        "    Test_Data.reset_index(drop=True, inplace=True)\n"
      ]
    },
    {
      "cell_type": "code",
      "execution_count": 30,
      "metadata": {
        "id": "npkvqmeHfXHu",
        "colab": {
          "base_uri": "https://localhost:8080/",
          "height": 206
        },
        "outputId": "8351e7e2-93e6-48e9-dcda-4e3c693bf4e7"
      },
      "outputs": [
        {
          "output_type": "execute_result",
          "data": {
            "text/plain": [
              "   userId  movieId  rating        date                              title  \\\n",
              "0    6719     4964     4.0  1974-01-05  Little Dieter Needs to Fly (1997)   \n",
              "1    4864       79     1.0  1996-02-28                  Juror, The (1996)   \n",
              "2    4864       91     2.0  1996-02-28                 Mary Reilly (1996)   \n",
              "3    4864       17     5.0  1996-02-28       Sense and Sensibility (1995)   \n",
              "4    4864       14     4.0  1996-02-28                       Nixon (1995)   \n",
              "\n",
              "                  genres  \n",
              "0            Documentary  \n",
              "1         Drama|Thriller  \n",
              "2  Drama|Horror|Thriller  \n",
              "3          Drama|Romance  \n",
              "4                  Drama  "
            ],
            "text/html": [
              "\n",
              "  <div id=\"df-4aeff5c1-2e49-4d3a-9540-b60fb6266b7c\" class=\"colab-df-container\">\n",
              "    <div>\n",
              "<style scoped>\n",
              "    .dataframe tbody tr th:only-of-type {\n",
              "        vertical-align: middle;\n",
              "    }\n",
              "\n",
              "    .dataframe tbody tr th {\n",
              "        vertical-align: top;\n",
              "    }\n",
              "\n",
              "    .dataframe thead th {\n",
              "        text-align: right;\n",
              "    }\n",
              "</style>\n",
              "<table border=\"1\" class=\"dataframe\">\n",
              "  <thead>\n",
              "    <tr style=\"text-align: right;\">\n",
              "      <th></th>\n",
              "      <th>userId</th>\n",
              "      <th>movieId</th>\n",
              "      <th>rating</th>\n",
              "      <th>date</th>\n",
              "      <th>title</th>\n",
              "      <th>genres</th>\n",
              "    </tr>\n",
              "  </thead>\n",
              "  <tbody>\n",
              "    <tr>\n",
              "      <th>0</th>\n",
              "      <td>6719</td>\n",
              "      <td>4964</td>\n",
              "      <td>4.0</td>\n",
              "      <td>1974-01-05</td>\n",
              "      <td>Little Dieter Needs to Fly (1997)</td>\n",
              "      <td>Documentary</td>\n",
              "    </tr>\n",
              "    <tr>\n",
              "      <th>1</th>\n",
              "      <td>4864</td>\n",
              "      <td>79</td>\n",
              "      <td>1.0</td>\n",
              "      <td>1996-02-28</td>\n",
              "      <td>Juror, The (1996)</td>\n",
              "      <td>Drama|Thriller</td>\n",
              "    </tr>\n",
              "    <tr>\n",
              "      <th>2</th>\n",
              "      <td>4864</td>\n",
              "      <td>91</td>\n",
              "      <td>2.0</td>\n",
              "      <td>1996-02-28</td>\n",
              "      <td>Mary Reilly (1996)</td>\n",
              "      <td>Drama|Horror|Thriller</td>\n",
              "    </tr>\n",
              "    <tr>\n",
              "      <th>3</th>\n",
              "      <td>4864</td>\n",
              "      <td>17</td>\n",
              "      <td>5.0</td>\n",
              "      <td>1996-02-28</td>\n",
              "      <td>Sense and Sensibility (1995)</td>\n",
              "      <td>Drama|Romance</td>\n",
              "    </tr>\n",
              "    <tr>\n",
              "      <th>4</th>\n",
              "      <td>4864</td>\n",
              "      <td>14</td>\n",
              "      <td>4.0</td>\n",
              "      <td>1996-02-28</td>\n",
              "      <td>Nixon (1995)</td>\n",
              "      <td>Drama</td>\n",
              "    </tr>\n",
              "  </tbody>\n",
              "</table>\n",
              "</div>\n",
              "    <div class=\"colab-df-buttons\">\n",
              "\n",
              "  <div class=\"colab-df-container\">\n",
              "    <button class=\"colab-df-convert\" onclick=\"convertToInteractive('df-4aeff5c1-2e49-4d3a-9540-b60fb6266b7c')\"\n",
              "            title=\"Convert this dataframe to an interactive table.\"\n",
              "            style=\"display:none;\">\n",
              "\n",
              "  <svg xmlns=\"http://www.w3.org/2000/svg\" height=\"24px\" viewBox=\"0 -960 960 960\">\n",
              "    <path d=\"M120-120v-720h720v720H120Zm60-500h600v-160H180v160Zm220 220h160v-160H400v160Zm0 220h160v-160H400v160ZM180-400h160v-160H180v160Zm440 0h160v-160H620v160ZM180-180h160v-160H180v160Zm440 0h160v-160H620v160Z\"/>\n",
              "  </svg>\n",
              "    </button>\n",
              "\n",
              "  <style>\n",
              "    .colab-df-container {\n",
              "      display:flex;\n",
              "      gap: 12px;\n",
              "    }\n",
              "\n",
              "    .colab-df-convert {\n",
              "      background-color: #E8F0FE;\n",
              "      border: none;\n",
              "      border-radius: 50%;\n",
              "      cursor: pointer;\n",
              "      display: none;\n",
              "      fill: #1967D2;\n",
              "      height: 32px;\n",
              "      padding: 0 0 0 0;\n",
              "      width: 32px;\n",
              "    }\n",
              "\n",
              "    .colab-df-convert:hover {\n",
              "      background-color: #E2EBFA;\n",
              "      box-shadow: 0px 1px 2px rgba(60, 64, 67, 0.3), 0px 1px 3px 1px rgba(60, 64, 67, 0.15);\n",
              "      fill: #174EA6;\n",
              "    }\n",
              "\n",
              "    .colab-df-buttons div {\n",
              "      margin-bottom: 4px;\n",
              "    }\n",
              "\n",
              "    [theme=dark] .colab-df-convert {\n",
              "      background-color: #3B4455;\n",
              "      fill: #D2E3FC;\n",
              "    }\n",
              "\n",
              "    [theme=dark] .colab-df-convert:hover {\n",
              "      background-color: #434B5C;\n",
              "      box-shadow: 0px 1px 3px 1px rgba(0, 0, 0, 0.15);\n",
              "      filter: drop-shadow(0px 1px 2px rgba(0, 0, 0, 0.3));\n",
              "      fill: #FFFFFF;\n",
              "    }\n",
              "  </style>\n",
              "\n",
              "    <script>\n",
              "      const buttonEl =\n",
              "        document.querySelector('#df-4aeff5c1-2e49-4d3a-9540-b60fb6266b7c button.colab-df-convert');\n",
              "      buttonEl.style.display =\n",
              "        google.colab.kernel.accessAllowed ? 'block' : 'none';\n",
              "\n",
              "      async function convertToInteractive(key) {\n",
              "        const element = document.querySelector('#df-4aeff5c1-2e49-4d3a-9540-b60fb6266b7c');\n",
              "        const dataTable =\n",
              "          await google.colab.kernel.invokeFunction('convertToInteractive',\n",
              "                                                    [key], {});\n",
              "        if (!dataTable) return;\n",
              "\n",
              "        const docLinkHtml = 'Like what you see? Visit the ' +\n",
              "          '<a target=\"_blank\" href=https://colab.research.google.com/notebooks/data_table.ipynb>data table notebook</a>'\n",
              "          + ' to learn more about interactive tables.';\n",
              "        element.innerHTML = '';\n",
              "        dataTable['output_type'] = 'display_data';\n",
              "        await google.colab.output.renderOutput(dataTable, element);\n",
              "        const docLink = document.createElement('div');\n",
              "        docLink.innerHTML = docLinkHtml;\n",
              "        element.appendChild(docLink);\n",
              "      }\n",
              "    </script>\n",
              "  </div>\n",
              "\n",
              "\n",
              "<div id=\"df-174b317a-2f32-415a-a171-67e2b1fe517b\">\n",
              "  <button class=\"colab-df-quickchart\" onclick=\"quickchart('df-174b317a-2f32-415a-a171-67e2b1fe517b')\"\n",
              "            title=\"Suggest charts\"\n",
              "            style=\"display:none;\">\n",
              "\n",
              "<svg xmlns=\"http://www.w3.org/2000/svg\" height=\"24px\"viewBox=\"0 0 24 24\"\n",
              "     width=\"24px\">\n",
              "    <g>\n",
              "        <path d=\"M19 3H5c-1.1 0-2 .9-2 2v14c0 1.1.9 2 2 2h14c1.1 0 2-.9 2-2V5c0-1.1-.9-2-2-2zM9 17H7v-7h2v7zm4 0h-2V7h2v10zm4 0h-2v-4h2v4z\"/>\n",
              "    </g>\n",
              "</svg>\n",
              "  </button>\n",
              "\n",
              "<style>\n",
              "  .colab-df-quickchart {\n",
              "      --bg-color: #E8F0FE;\n",
              "      --fill-color: #1967D2;\n",
              "      --hover-bg-color: #E2EBFA;\n",
              "      --hover-fill-color: #174EA6;\n",
              "      --disabled-fill-color: #AAA;\n",
              "      --disabled-bg-color: #DDD;\n",
              "  }\n",
              "\n",
              "  [theme=dark] .colab-df-quickchart {\n",
              "      --bg-color: #3B4455;\n",
              "      --fill-color: #D2E3FC;\n",
              "      --hover-bg-color: #434B5C;\n",
              "      --hover-fill-color: #FFFFFF;\n",
              "      --disabled-bg-color: #3B4455;\n",
              "      --disabled-fill-color: #666;\n",
              "  }\n",
              "\n",
              "  .colab-df-quickchart {\n",
              "    background-color: var(--bg-color);\n",
              "    border: none;\n",
              "    border-radius: 50%;\n",
              "    cursor: pointer;\n",
              "    display: none;\n",
              "    fill: var(--fill-color);\n",
              "    height: 32px;\n",
              "    padding: 0;\n",
              "    width: 32px;\n",
              "  }\n",
              "\n",
              "  .colab-df-quickchart:hover {\n",
              "    background-color: var(--hover-bg-color);\n",
              "    box-shadow: 0 1px 2px rgba(60, 64, 67, 0.3), 0 1px 3px 1px rgba(60, 64, 67, 0.15);\n",
              "    fill: var(--button-hover-fill-color);\n",
              "  }\n",
              "\n",
              "  .colab-df-quickchart-complete:disabled,\n",
              "  .colab-df-quickchart-complete:disabled:hover {\n",
              "    background-color: var(--disabled-bg-color);\n",
              "    fill: var(--disabled-fill-color);\n",
              "    box-shadow: none;\n",
              "  }\n",
              "\n",
              "  .colab-df-spinner {\n",
              "    border: 2px solid var(--fill-color);\n",
              "    border-color: transparent;\n",
              "    border-bottom-color: var(--fill-color);\n",
              "    animation:\n",
              "      spin 1s steps(1) infinite;\n",
              "  }\n",
              "\n",
              "  @keyframes spin {\n",
              "    0% {\n",
              "      border-color: transparent;\n",
              "      border-bottom-color: var(--fill-color);\n",
              "      border-left-color: var(--fill-color);\n",
              "    }\n",
              "    20% {\n",
              "      border-color: transparent;\n",
              "      border-left-color: var(--fill-color);\n",
              "      border-top-color: var(--fill-color);\n",
              "    }\n",
              "    30% {\n",
              "      border-color: transparent;\n",
              "      border-left-color: var(--fill-color);\n",
              "      border-top-color: var(--fill-color);\n",
              "      border-right-color: var(--fill-color);\n",
              "    }\n",
              "    40% {\n",
              "      border-color: transparent;\n",
              "      border-right-color: var(--fill-color);\n",
              "      border-top-color: var(--fill-color);\n",
              "    }\n",
              "    60% {\n",
              "      border-color: transparent;\n",
              "      border-right-color: var(--fill-color);\n",
              "    }\n",
              "    80% {\n",
              "      border-color: transparent;\n",
              "      border-right-color: var(--fill-color);\n",
              "      border-bottom-color: var(--fill-color);\n",
              "    }\n",
              "    90% {\n",
              "      border-color: transparent;\n",
              "      border-bottom-color: var(--fill-color);\n",
              "    }\n",
              "  }\n",
              "</style>\n",
              "\n",
              "  <script>\n",
              "    async function quickchart(key) {\n",
              "      const quickchartButtonEl =\n",
              "        document.querySelector('#' + key + ' button');\n",
              "      quickchartButtonEl.disabled = true;  // To prevent multiple clicks.\n",
              "      quickchartButtonEl.classList.add('colab-df-spinner');\n",
              "      try {\n",
              "        const charts = await google.colab.kernel.invokeFunction(\n",
              "            'suggestCharts', [key], {});\n",
              "      } catch (error) {\n",
              "        console.error('Error during call to suggestCharts:', error);\n",
              "      }\n",
              "      quickchartButtonEl.classList.remove('colab-df-spinner');\n",
              "      quickchartButtonEl.classList.add('colab-df-quickchart-complete');\n",
              "    }\n",
              "    (() => {\n",
              "      let quickchartButtonEl =\n",
              "        document.querySelector('#df-174b317a-2f32-415a-a171-67e2b1fe517b button');\n",
              "      quickchartButtonEl.style.display =\n",
              "        google.colab.kernel.accessAllowed ? 'block' : 'none';\n",
              "    })();\n",
              "  </script>\n",
              "</div>\n",
              "\n",
              "    </div>\n",
              "  </div>\n"
            ],
            "application/vnd.google.colaboratory.intrinsic+json": {
              "type": "dataframe",
              "variable_name": "Train_Data"
            }
          },
          "metadata": {},
          "execution_count": 30
        }
      ],
      "source": [
        "Train_Data.head()"
      ]
    },
    {
      "cell_type": "code",
      "execution_count": 31,
      "metadata": {
        "id": "IVeQT3u0Wqdo",
        "colab": {
          "base_uri": "https://localhost:8080/",
          "height": 206
        },
        "outputId": "1fbe88c3-ecb1-425f-840c-672b84e20173"
      },
      "outputs": [
        {
          "output_type": "execute_result",
          "data": {
            "text/plain": [
              "   movieId                              title                 genres\n",
              "0     4964  Little Dieter Needs to Fly (1997)            Documentary\n",
              "1       79                  Juror, The (1996)         Drama|Thriller\n",
              "2       91                 Mary Reilly (1996)  Drama|Horror|Thriller\n",
              "3       17       Sense and Sensibility (1995)          Drama|Romance\n",
              "4       14                       Nixon (1995)                  Drama"
            ],
            "text/html": [
              "\n",
              "  <div id=\"df-80fd172d-19e1-4cbc-b4bd-12345bac1f16\" class=\"colab-df-container\">\n",
              "    <div>\n",
              "<style scoped>\n",
              "    .dataframe tbody tr th:only-of-type {\n",
              "        vertical-align: middle;\n",
              "    }\n",
              "\n",
              "    .dataframe tbody tr th {\n",
              "        vertical-align: top;\n",
              "    }\n",
              "\n",
              "    .dataframe thead th {\n",
              "        text-align: right;\n",
              "    }\n",
              "</style>\n",
              "<table border=\"1\" class=\"dataframe\">\n",
              "  <thead>\n",
              "    <tr style=\"text-align: right;\">\n",
              "      <th></th>\n",
              "      <th>movieId</th>\n",
              "      <th>title</th>\n",
              "      <th>genres</th>\n",
              "    </tr>\n",
              "  </thead>\n",
              "  <tbody>\n",
              "    <tr>\n",
              "      <th>0</th>\n",
              "      <td>4964</td>\n",
              "      <td>Little Dieter Needs to Fly (1997)</td>\n",
              "      <td>Documentary</td>\n",
              "    </tr>\n",
              "    <tr>\n",
              "      <th>1</th>\n",
              "      <td>79</td>\n",
              "      <td>Juror, The (1996)</td>\n",
              "      <td>Drama|Thriller</td>\n",
              "    </tr>\n",
              "    <tr>\n",
              "      <th>2</th>\n",
              "      <td>91</td>\n",
              "      <td>Mary Reilly (1996)</td>\n",
              "      <td>Drama|Horror|Thriller</td>\n",
              "    </tr>\n",
              "    <tr>\n",
              "      <th>3</th>\n",
              "      <td>17</td>\n",
              "      <td>Sense and Sensibility (1995)</td>\n",
              "      <td>Drama|Romance</td>\n",
              "    </tr>\n",
              "    <tr>\n",
              "      <th>4</th>\n",
              "      <td>14</td>\n",
              "      <td>Nixon (1995)</td>\n",
              "      <td>Drama</td>\n",
              "    </tr>\n",
              "  </tbody>\n",
              "</table>\n",
              "</div>\n",
              "    <div class=\"colab-df-buttons\">\n",
              "\n",
              "  <div class=\"colab-df-container\">\n",
              "    <button class=\"colab-df-convert\" onclick=\"convertToInteractive('df-80fd172d-19e1-4cbc-b4bd-12345bac1f16')\"\n",
              "            title=\"Convert this dataframe to an interactive table.\"\n",
              "            style=\"display:none;\">\n",
              "\n",
              "  <svg xmlns=\"http://www.w3.org/2000/svg\" height=\"24px\" viewBox=\"0 -960 960 960\">\n",
              "    <path d=\"M120-120v-720h720v720H120Zm60-500h600v-160H180v160Zm220 220h160v-160H400v160Zm0 220h160v-160H400v160ZM180-400h160v-160H180v160Zm440 0h160v-160H620v160ZM180-180h160v-160H180v160Zm440 0h160v-160H620v160Z\"/>\n",
              "  </svg>\n",
              "    </button>\n",
              "\n",
              "  <style>\n",
              "    .colab-df-container {\n",
              "      display:flex;\n",
              "      gap: 12px;\n",
              "    }\n",
              "\n",
              "    .colab-df-convert {\n",
              "      background-color: #E8F0FE;\n",
              "      border: none;\n",
              "      border-radius: 50%;\n",
              "      cursor: pointer;\n",
              "      display: none;\n",
              "      fill: #1967D2;\n",
              "      height: 32px;\n",
              "      padding: 0 0 0 0;\n",
              "      width: 32px;\n",
              "    }\n",
              "\n",
              "    .colab-df-convert:hover {\n",
              "      background-color: #E2EBFA;\n",
              "      box-shadow: 0px 1px 2px rgba(60, 64, 67, 0.3), 0px 1px 3px 1px rgba(60, 64, 67, 0.15);\n",
              "      fill: #174EA6;\n",
              "    }\n",
              "\n",
              "    .colab-df-buttons div {\n",
              "      margin-bottom: 4px;\n",
              "    }\n",
              "\n",
              "    [theme=dark] .colab-df-convert {\n",
              "      background-color: #3B4455;\n",
              "      fill: #D2E3FC;\n",
              "    }\n",
              "\n",
              "    [theme=dark] .colab-df-convert:hover {\n",
              "      background-color: #434B5C;\n",
              "      box-shadow: 0px 1px 3px 1px rgba(0, 0, 0, 0.15);\n",
              "      filter: drop-shadow(0px 1px 2px rgba(0, 0, 0, 0.3));\n",
              "      fill: #FFFFFF;\n",
              "    }\n",
              "  </style>\n",
              "\n",
              "    <script>\n",
              "      const buttonEl =\n",
              "        document.querySelector('#df-80fd172d-19e1-4cbc-b4bd-12345bac1f16 button.colab-df-convert');\n",
              "      buttonEl.style.display =\n",
              "        google.colab.kernel.accessAllowed ? 'block' : 'none';\n",
              "\n",
              "      async function convertToInteractive(key) {\n",
              "        const element = document.querySelector('#df-80fd172d-19e1-4cbc-b4bd-12345bac1f16');\n",
              "        const dataTable =\n",
              "          await google.colab.kernel.invokeFunction('convertToInteractive',\n",
              "                                                    [key], {});\n",
              "        if (!dataTable) return;\n",
              "\n",
              "        const docLinkHtml = 'Like what you see? Visit the ' +\n",
              "          '<a target=\"_blank\" href=https://colab.research.google.com/notebooks/data_table.ipynb>data table notebook</a>'\n",
              "          + ' to learn more about interactive tables.';\n",
              "        element.innerHTML = '';\n",
              "        dataTable['output_type'] = 'display_data';\n",
              "        await google.colab.output.renderOutput(dataTable, element);\n",
              "        const docLink = document.createElement('div');\n",
              "        docLink.innerHTML = docLinkHtml;\n",
              "        element.appendChild(docLink);\n",
              "      }\n",
              "    </script>\n",
              "  </div>\n",
              "\n",
              "\n",
              "<div id=\"df-d12e105b-bbf1-4d1d-9196-77a2457b7e6e\">\n",
              "  <button class=\"colab-df-quickchart\" onclick=\"quickchart('df-d12e105b-bbf1-4d1d-9196-77a2457b7e6e')\"\n",
              "            title=\"Suggest charts\"\n",
              "            style=\"display:none;\">\n",
              "\n",
              "<svg xmlns=\"http://www.w3.org/2000/svg\" height=\"24px\"viewBox=\"0 0 24 24\"\n",
              "     width=\"24px\">\n",
              "    <g>\n",
              "        <path d=\"M19 3H5c-1.1 0-2 .9-2 2v14c0 1.1.9 2 2 2h14c1.1 0 2-.9 2-2V5c0-1.1-.9-2-2-2zM9 17H7v-7h2v7zm4 0h-2V7h2v10zm4 0h-2v-4h2v4z\"/>\n",
              "    </g>\n",
              "</svg>\n",
              "  </button>\n",
              "\n",
              "<style>\n",
              "  .colab-df-quickchart {\n",
              "      --bg-color: #E8F0FE;\n",
              "      --fill-color: #1967D2;\n",
              "      --hover-bg-color: #E2EBFA;\n",
              "      --hover-fill-color: #174EA6;\n",
              "      --disabled-fill-color: #AAA;\n",
              "      --disabled-bg-color: #DDD;\n",
              "  }\n",
              "\n",
              "  [theme=dark] .colab-df-quickchart {\n",
              "      --bg-color: #3B4455;\n",
              "      --fill-color: #D2E3FC;\n",
              "      --hover-bg-color: #434B5C;\n",
              "      --hover-fill-color: #FFFFFF;\n",
              "      --disabled-bg-color: #3B4455;\n",
              "      --disabled-fill-color: #666;\n",
              "  }\n",
              "\n",
              "  .colab-df-quickchart {\n",
              "    background-color: var(--bg-color);\n",
              "    border: none;\n",
              "    border-radius: 50%;\n",
              "    cursor: pointer;\n",
              "    display: none;\n",
              "    fill: var(--fill-color);\n",
              "    height: 32px;\n",
              "    padding: 0;\n",
              "    width: 32px;\n",
              "  }\n",
              "\n",
              "  .colab-df-quickchart:hover {\n",
              "    background-color: var(--hover-bg-color);\n",
              "    box-shadow: 0 1px 2px rgba(60, 64, 67, 0.3), 0 1px 3px 1px rgba(60, 64, 67, 0.15);\n",
              "    fill: var(--button-hover-fill-color);\n",
              "  }\n",
              "\n",
              "  .colab-df-quickchart-complete:disabled,\n",
              "  .colab-df-quickchart-complete:disabled:hover {\n",
              "    background-color: var(--disabled-bg-color);\n",
              "    fill: var(--disabled-fill-color);\n",
              "    box-shadow: none;\n",
              "  }\n",
              "\n",
              "  .colab-df-spinner {\n",
              "    border: 2px solid var(--fill-color);\n",
              "    border-color: transparent;\n",
              "    border-bottom-color: var(--fill-color);\n",
              "    animation:\n",
              "      spin 1s steps(1) infinite;\n",
              "  }\n",
              "\n",
              "  @keyframes spin {\n",
              "    0% {\n",
              "      border-color: transparent;\n",
              "      border-bottom-color: var(--fill-color);\n",
              "      border-left-color: var(--fill-color);\n",
              "    }\n",
              "    20% {\n",
              "      border-color: transparent;\n",
              "      border-left-color: var(--fill-color);\n",
              "      border-top-color: var(--fill-color);\n",
              "    }\n",
              "    30% {\n",
              "      border-color: transparent;\n",
              "      border-left-color: var(--fill-color);\n",
              "      border-top-color: var(--fill-color);\n",
              "      border-right-color: var(--fill-color);\n",
              "    }\n",
              "    40% {\n",
              "      border-color: transparent;\n",
              "      border-right-color: var(--fill-color);\n",
              "      border-top-color: var(--fill-color);\n",
              "    }\n",
              "    60% {\n",
              "      border-color: transparent;\n",
              "      border-right-color: var(--fill-color);\n",
              "    }\n",
              "    80% {\n",
              "      border-color: transparent;\n",
              "      border-right-color: var(--fill-color);\n",
              "      border-bottom-color: var(--fill-color);\n",
              "    }\n",
              "    90% {\n",
              "      border-color: transparent;\n",
              "      border-bottom-color: var(--fill-color);\n",
              "    }\n",
              "  }\n",
              "</style>\n",
              "\n",
              "  <script>\n",
              "    async function quickchart(key) {\n",
              "      const quickchartButtonEl =\n",
              "        document.querySelector('#' + key + ' button');\n",
              "      quickchartButtonEl.disabled = true;  // To prevent multiple clicks.\n",
              "      quickchartButtonEl.classList.add('colab-df-spinner');\n",
              "      try {\n",
              "        const charts = await google.colab.kernel.invokeFunction(\n",
              "            'suggestCharts', [key], {});\n",
              "      } catch (error) {\n",
              "        console.error('Error during call to suggestCharts:', error);\n",
              "      }\n",
              "      quickchartButtonEl.classList.remove('colab-df-spinner');\n",
              "      quickchartButtonEl.classList.add('colab-df-quickchart-complete');\n",
              "    }\n",
              "    (() => {\n",
              "      let quickchartButtonEl =\n",
              "        document.querySelector('#df-d12e105b-bbf1-4d1d-9196-77a2457b7e6e button');\n",
              "      quickchartButtonEl.style.display =\n",
              "        google.colab.kernel.accessAllowed ? 'block' : 'none';\n",
              "    })();\n",
              "  </script>\n",
              "</div>\n",
              "\n",
              "    </div>\n",
              "  </div>\n"
            ],
            "application/vnd.google.colaboratory.intrinsic+json": {
              "type": "dataframe",
              "variable_name": "movie_list_in_training",
              "summary": "{\n  \"name\": \"movie_list_in_training\",\n  \"rows\": 9807,\n  \"fields\": [\n    {\n      \"column\": \"movieId\",\n      \"properties\": {\n        \"dtype\": \"number\",\n        \"std\": 3627,\n        \"min\": 1,\n        \"max\": 13818,\n        \"num_unique_values\": 9807,\n        \"samples\": [\n          4074,\n          4671,\n          1703\n        ],\n        \"semantic_type\": \"\",\n        \"description\": \"\"\n      }\n    },\n    {\n      \"column\": \"title\",\n      \"properties\": {\n        \"dtype\": \"string\",\n        \"num_unique_values\": 9807,\n        \"samples\": [\n          \"15 Minutes (2001)\",\n          \"Our Lady of the Assassins (Virgen de los sicarios, La) (2000)\",\n          \"Night Flier (1997)\"\n        ],\n        \"semantic_type\": \"\",\n        \"description\": \"\"\n      }\n    },\n    {\n      \"column\": \"genres\",\n      \"properties\": {\n        \"dtype\": \"category\",\n        \"num_unique_values\": 828,\n        \"samples\": [\n          \"Musical|Sci-Fi\",\n          \"Action|Crime|Mystery|Romance|Thriller\",\n          \"Action|Adventure|Children\"\n        ],\n        \"semantic_type\": \"\",\n        \"description\": \"\"\n      }\n    }\n  ]\n}"
            }
          },
          "metadata": {},
          "execution_count": 31
        }
      ],
      "source": [
        "# Creating list of unique movies from Train Set\n",
        "\n",
        "movie_list_in_training = Train_Data.drop_duplicates(subset=[\"title\"], keep=\"first\")[[\"movieId\", \"title\", \"genres\"]]\n",
        "#keeps the first occurence of that \"title\" from the title column\n",
        "#After removing duplicates, this selects the relevant columns (movieId, title, and genres) from the dataset.\n",
        "#This will help in having only essential information for each movie: the movieId, the title, and the genres\n",
        "\n",
        "movie_list_in_training = movie_list_in_training.reset_index(drop=True)\n",
        "#reset the indices to default\n",
        "movie_list_in_training.head()"
      ]
    },
    {
      "cell_type": "code",
      "execution_count": 32,
      "metadata": {
        "id": "87v_BcQfibPI",
        "colab": {
          "base_uri": "https://localhost:8080/"
        },
        "outputId": "2d683437-d1a3-477b-fc1f-e42de9ce06ca"
      },
      "outputs": [
        {
          "output_type": "stream",
          "name": "stdout",
          "text": [
            "Total Train Data..\n",
            "Total number of movie ratings in train data :  795861\n",
            "Number of unique users in train data :  5405\n",
            "Number of unique movies in train data :  9809\n"
          ]
        }
      ],
      "source": [
        "# Checking the basic statistics for the training data\n",
        "\n",
        "print(\"Total Train Data..\")\n",
        "print(\"Total number of movie ratings in train data : \", str(Train_Data.shape[0]))\n",
        "print(\"Number of unique users in train data : \", str(len(np.unique(Train_Data[\"userId\"]))))\n",
        "print(\"Number of unique movies in train data : \", str(len(np.unique(Train_Data[\"movieId\"]))))"
      ]
    },
    {
      "cell_type": "markdown",
      "metadata": {
        "id": "tNSaqdZQh1qU"
      },
      "source": [
        "#### **3.2.3 Bi-variate Analysis**\n",
        "\n",
        "Analyzing multiple features together to discover relations, correlations and patterns.  "
      ]
    },
    {
      "cell_type": "markdown",
      "metadata": {
        "id": "rO_gOCdX1giz"
      },
      "source": [
        "---\n",
        "\n",
        "#####**1. Analyzing the Distribution of Ratings**"
      ]
    },
    {
      "cell_type": "code",
      "execution_count": 33,
      "metadata": {
        "id": "234Iut9-uKMf",
        "colab": {
          "base_uri": "https://localhost:8080/"
        },
        "outputId": "b96f39af-766a-42e9-ed77-e6cea2f314d5"
      },
      "outputs": [
        {
          "output_type": "stream",
          "name": "stdout",
          "text": [
            "The basic statistics for the feature is : \n",
            " count    795861.000000\n",
            "mean          3.512691\n",
            "std           1.057479\n",
            "min           0.500000\n",
            "25%           3.000000\n",
            "50%           3.500000\n",
            "75%           4.000000\n",
            "max           5.000000\n",
            "Name: rating, dtype: float64\n"
          ]
        }
      ],
      "source": [
        "# Checking basic statistics for \"rating\"\n",
        "\n",
        "print(\"The basic statistics for the feature is : \\n\", Train_Data[\"rating\"].describe())"
      ]
    },
    {
      "cell_type": "code",
      "execution_count": 34,
      "metadata": {
        "id": "cgysPhqifaBO",
        "colab": {
          "base_uri": "https://localhost:8080/",
          "height": 375
        },
        "outputId": "62cc7077-007a-41bd-829a-99de34eaed6f"
      },
      "outputs": [
        {
          "output_type": "display_data",
          "data": {
            "text/plain": [
              "<Figure size 2500x500 with 1 Axes>"
            ],
            "image/png": "[encoded data removed]"
          },
          "metadata": {}
        }
      ],
      "source": [
        "# Visualizing the \"rating\" for the train set\n",
        "\n",
        "sns.set(style=\"darkgrid\")\n",
        "fig, axes = plt.subplots(1, 1, figsize=(25, 5), sharey=True)\n",
        "#drawing space for a single plot, with fig width and height, cna draw multiple plots on the same space\n",
        "\n",
        "sns.countplot(x=\"rating\", data=Train_Data, ax=axes)\n",
        "#rating countplot\n",
        "axes.set_yticklabels([changingLabels(num) for num in axes.get_yticks()])\n",
        "#custom labels for the y axis, by converting the large numerical values into value+million\n",
        "\n",
        "for p in axes.patches:\n",
        "  #for each bar in the barplot\n",
        "    axes.annotate('{}'.format(p.get_height()), (p.get_x()+0.2, p.get_height()+100))\n",
        "    #annotate or provide the height of the bars, or the y label values exact, positioned towards the center.\n",
        "\n",
        "plt.tick_params(labelsize = 15)\n",
        "plt.title(\"Distribution of Ratings in the training dataset\", fontsize = 20)\n",
        "plt.xlabel(\"Ratings\", fontsize = 10)\n",
        "plt.ylabel(\"Counts(in Millions)\", fontsize = 10)\n",
        "plt.show()"
      ]
    },
    {
      "cell_type": "markdown",
      "metadata": {
        "id": "NiRMfRDjuCj_"
      },
      "source": [
        "Observations:\n",
        "\n",
        "1. The distribution of ratings seems to be similar as before.\n",
        "2. The mean and median value are very close to around 3.5."
      ]
    },
    {
      "cell_type": "markdown",
      "metadata": {
        "id": "CAPcjPED14xc"
      },
      "source": [
        "---\n",
        "\n",
        "#####**2. Analyzing the number of ratings with date.**"
      ]
    },
    {
      "cell_type": "code",
      "execution_count": 35,
      "metadata": {
        "id": "eeIXk9WhiQNY"
      },
      "outputs": [],
      "source": [
        "# Extracting the day of week from the date when rating was provided\n",
        "import pandas as pd\n",
        "\n",
        "Train_Data[\"date\"] = pd.to_datetime(Train_Data[\"date\"], errors='coerce')\n",
        "#This function converts the values in the \"date\" column to datetime objects. This is necessary because the data may have been read as strings or in an inconsistent format,\n",
        "#and converting it to datetime makes it easier to work with and extract specific information like the day of the week.\n",
        "#any invalid date values (e.g., improperly formatted dates), they are turned into NaT (Not a Time)\n",
        "\n",
        "Train_Data[\"DayOfWeek\"] = Train_Data[\"date\"].dt.strftime('%A')\n",
        "#accesses the datetime attributes of the \"date\" column (.dt)\n",
        "#date into the full name of the day of the week and stored in the day of week column\n",
        "\n",
        "Train_Data[\"Weekday\"] = Train_Data[\"date\"].apply(lambda x : 1 if x.dayofweek > 5 else 0)\n",
        "#binary attribute to identify is the day of the week is a weekday(1) or a weekend(0)"
      ]
    },
    {
      "cell_type": "code",
      "execution_count": null,
      "metadata": {
        "id": "Z8VtMZ4Dz9Db"
      },
      "outputs": [],
      "source": [
        "# Converting the number into 'Ks.\n",
        "#previously we did the same for millions\n",
        "def ChangingLabelsInK(number):\n",
        "    return str(int(number/10**3)) + \"K\""
      ]
    },
    {
      "cell_type": "code",
      "execution_count": null,
      "metadata": {
        "id": "GKga7VY8iQTs"
      },
      "outputs": [],
      "source": [
        "# Visualizing the count of total ratings made per month\n",
        "\n",
        "sns.set(style=\"darkgrid\")\n",
        "#similarly set the background to dark, and enable grid\n",
        "fig, axes = plt.subplots(1, 1, figsize=(25, 5), sharey=True)\n",
        "#create a plot in a single column and row, allocate 25 spaces horizontally, and 5 vertically, allow other plots to be plotted over the same space\n",
        "\n",
        "axes = Train_Data.resample(\"m\", on = \"date\")[\"rating\"].count().plot()\n",
        "#Train_Data.resample(\"m\", on=\"date\"): This resamples the data by month. The argument \"m\" stands for monthly resampling,\n",
        "#and on=\"date\" tells the code to resample based on the \"date\" column.\n",
        "# [\"rating\"].count(): After resampling the data by month, this counts the number of ratings made each month.\n",
        "# .plot(): This plots the resampled data (the count of ratings per month) on the axes.\n",
        "\n",
        "axes.set_yticklabels([ChangingLabelsInK(num) for num in axes.get_yticks()])\n",
        "#this time we consider values in thousands and hence we change the y label values in terms of thousands.\n",
        "\n",
        "axes.set_title(\"Count of Total Ratings per Month\", fontsize = 20)\n",
        "axes.set_xlabel(\"Date\", fontsize = 15)\n",
        "axes.set_ylabel(\"Number of Ratings (in thousands)\", fontsize = 15)\n",
        "plt.tick_params(labelsize = 15)\n",
        "plt.show()\n",
        "\n",
        "# The y-axis labels represent the count of ratings over time, so these values are continuous\n",
        "#line plot is used in this scenario because you're trying to visualize how the count of ratings changes over time, specifically by month\n",
        "#time series"
      ]
    },
    {
      "cell_type": "markdown",
      "metadata": {
        "id": "0rgONWsH2MmW"
      },
      "source": [
        "Observations:\n",
        "\n",
        "1. The no. of ratings per month was very high in few of the months between 1996 to 1998.\n",
        "2. Similarly, post the 2000s, there are few month that have few months of very high no. of ratings.\n",
        "3. The count remains steady after 2001 till 2010, with a spike at few month of 2006."
      ]
    },
    {
      "cell_type": "code",
      "execution_count": null,
      "metadata": {
        "id": "8mbeBZMYVBjz"
      },
      "outputs": [],
      "source": [
        "# Visualizing the count of ratings by weekday\n",
        "\n",
        "sns.set(style=\"darkgrid\")\n",
        "fig, axes = plt.subplots(1, 1, figsize=(25, 5), sharey=True)\n",
        "\n",
        "sns.barplot(x=\"Weekday\", y=\"rating\" , data=Train_Data.groupby(by=[\"Weekday\"], as_index=False)[\"rating\"].count(), ax=axes)\n",
        "#we use group by to create a bar plot segragating the weekdays and weekends.\n",
        "#[\"rating\"].count(): After grouping by \"Weekday\", this counts how many ratings were made for each group (i.e., how many ratings occurred on weekdays and weekends).\n",
        "#in totality, This gives a new dataframe where the \"Weekday\" column shows the group (either 0 for weekdays or 1 for weekends), and the \"rating\" column shows the total number of ratings for each group.\n",
        "\n",
        "for p in axes.patches:\n",
        "    axes.annotate('{}'.format(int(p.get_height())), (p.get_x(), p.get_height()+100))\n",
        "    #again this annotates the heights of the bars on the plot at specified position.\n",
        "\n",
        "axes.set_yticklabels([changingLabels(num) for num in axes.get_yticks()])\n",
        "plt.tick_params(labelsize = 15)\n",
        "plt.title(\"Distribution of number of ratings by Weekday\", fontsize = 20)\n",
        "plt.xlabel(\"Weekday\", fontsize = 15)\n",
        "plt.xticks(fontsize=10)\n",
        "plt.yticks(fontsize=10)\n",
        "plt.ylabel(\"Counts (in Millions)\", fontsize = 15)\n",
        "plt.show()"
      ]
    },
    {
      "cell_type": "code",
      "execution_count": null,
      "metadata": {
        "id": "or8vWOp-cFSk"
      },
      "outputs": [],
      "source": [
        "# Visualizing the count of ratings by individual days of the week\n",
        "\n",
        "sns.set(style=\"darkgrid\")\n",
        "fig, axes = plt.subplots(1, 1, figsize=(25, 5), sharey=True)\n",
        "\n",
        "sns.barplot(x=\"DayOfWeek\", y=\"rating\" , data=Train_Data.groupby(by=[\"DayOfWeek\"], as_index=False)[\"rating\"].count(), ax=axes)\n",
        "#compare by days of the week -> get the count of the ratings and plot in a bar graph.\n",
        "\n",
        "for p in axes.patches:\n",
        "    axes.annotate('{}'.format(int(p.get_height())), (p.get_x(), p.get_height()+100))\n",
        "    #annoate the height on the specified positions on each bar.\n",
        "\n",
        "axes.set_yticklabels([changingLabels(num) for num in axes.get_yticks()])\n",
        "#custom y labels instead of the default labels\n",
        "\n",
        "plt.tick_params(labelsize = 15)\n",
        "plt.title(\"Distribution of number of ratings by individual days\", fontsize = 20)\n",
        "plt.xlabel(\"Days\", fontsize = 15)\n",
        "plt.xticks(fontsize=10)\n",
        "plt.yticks(fontsize=10)\n",
        "plt.ylabel(\"Counts (in Millions)\", fontsize = 15)\n",
        "plt.show()"
      ]
    },
    {
      "cell_type": "markdown",
      "metadata": {
        "id": "JE0sHGz3dLy8"
      },
      "source": [
        "Observations:\n",
        "\n",
        "1. The no. of ratings does not vary too much the days of the week.\n",
        "2. \"Monday\" and \"Tuesday\" clearly has more no. of ratings than any other days.\n",
        "3. The number of ratings in weekend is clearly extremly less than weekdays."
      ]
    },
    {
      "cell_type": "markdown",
      "metadata": {
        "id": "jYZjWSsQekK5"
      },
      "source": [
        "---\n",
        "\n",
        "#####**3. Analyzing the average ratings by date.**"
      ]
    },
    {
      "cell_type": "code",
      "execution_count": null,
      "metadata": {
        "id": "oXhL3W7rfOv7"
      },
      "outputs": [],
      "source": [
        "# Visualizing the average ratings by weekday\n",
        "\n",
        "sns.set(style=\"darkgrid\")\n",
        "fig, axes = plt.subplots(1, 1, figsize=(25, 5), sharey=True)\n",
        "\n",
        "sns.boxplot(x=\"Weekday\", y=\"rating\" , data=Train_Data, ax=axes)\n",
        "\n",
        "plt.tick_params(labelsize = 15)\n",
        "plt.title(\"Boxplot of Average Ratings by Weekday\", fontsize = 20)\n",
        "plt.xlabel(\"Weekday\", fontsize = 15)\n",
        "plt.xticks(fontsize=10)\n",
        "plt.ylabel(\"Ratings\", fontsize = 15)\n",
        "plt.yticks(fontsize=10)\n",
        "plt.show()"
      ]
    },
    {
      "cell_type": "code",
      "execution_count": null,
      "metadata": {
        "id": "cHspQk46gSnM"
      },
      "outputs": [],
      "source": [
        "# Visualizing the average ratings by individual Days of the Week\n",
        "\n",
        "sns.set(style=\"darkgrid\")\n",
        "fig, axes = plt.subplots(1, 1, figsize=(25, 5), sharey=True)\n",
        "\n",
        "sns.boxplot(x=\"DayOfWeek\", y=\"rating\", data=Train_Data, ax=axes)\n",
        "\n",
        "plt.tick_params(labelsize = 15)\n",
        "plt.title(\"Boxplot of Average Ratings by Days of Week\", fontsize = 20)\n",
        "plt.xlabel(\"Days\", fontsize = 15)\n",
        "plt.xticks(fontsize=10)\n",
        "plt.ylabel(\"Ratings\", fontsize = 15)\n",
        "plt.yticks(fontsize=10)\n",
        "plt.show()"
      ]
    },
    {
      "cell_type": "markdown",
      "metadata": {
        "id": "h7Lb91l3giuY"
      },
      "source": [
        "Observations:\n",
        "\n",
        "1. The average ratings given by the user does not seem to differ by weekday and weekends.\n",
        "2. Even when we plot the average ratings by individual days, they seem to be similar for all the individual days."
      ]
    },
    {
      "cell_type": "markdown",
      "metadata": {
        "id": "HQtwVLiS2F_3"
      },
      "source": [
        "---\n",
        "\n",
        "#####**4. Analyzing the Ratings given by Users.**"
      ]
    },
    {
      "cell_type": "code",
      "execution_count": null,
      "metadata": {
        "id": "N6lbT7PilnzO"
      },
      "outputs": [],
      "source": [
        "# Calculating the number of ratings given by individual users\n",
        "\n",
        "no_of_rated_movies_per_user = Train_Data.groupby(by=[\"userId\"], as_index=False)[\"rating\"].count().sort_values(by=\"rating\", ascending=False)\n",
        "#grouping by users, counting number of ratings given by each user  in descending order.\n",
        "no_of_rated_movies_per_user.reset_index(drop=True, inplace=True)"
      ]
    },
    {
      "cell_type": "code",
      "execution_count": null,
      "metadata": {
        "id": "KBr10x8vCUT9"
      },
      "outputs": [],
      "source": [
        "# Visualizing the count of ratings by individual users\n",
        "\n",
        "sns.set(style=\"darkgrid\")\n",
        "fig, axes = plt.subplots(1, 1, figsize=(25, 5), sharey=True)\n",
        "#fig, axes: fig is the Figure object, representing the overall container for all plots, while axes is the Axes object, representing the specific plot area.\n",
        "#plt.subplots(1, 1): Creates a single subplot (1 row, 1 column). The result is a single Axes object (not an array of Axes, since there’s only one plot).\n",
        "#figsize=(25, 5): Specifies the size of the figure in inches. The width is set to 25 inches, and the height is set to 5 inches, resulting in a very wide, short plot.\n",
        "#sharey=True: Ensures that if there were multiple subplots, they would share the same y-axis scale. Since there’s only one plot here, this parameter does not have much effect.\n",
        "sns.barplot(x=\"userId\", y=\"rating\" , data=no_of_rated_movies_per_user[:15], ax=axes)\n",
        "#picks up only 15 rows\n",
        "for p in axes.patches:\n",
        "  #for each bar in the bar plot\n",
        "    axes.annotate('{}'.format(int(p.get_height())), (p.get_x(), p.get_height()+100))\n",
        "    #annotate the height to the bars\n",
        "\n",
        "axes.set_yticklabels([ChangingLabelsInK(num) for num in axes.get_yticks()])\n",
        "plt.tick_params(labelsize = 15)\n",
        "plt.title(\"Number of ratings for Top 15 Users\", fontsize = 20)\n",
        "plt.xlabel(\"UserID\", fontsize = 15)\n",
        "plt.xticks(fontsize=10)\n",
        "plt.yticks(fontsize=10)\n",
        "plt.ylabel(\"Counts\", fontsize = 15)\n",
        "plt.show()"
      ]
    },
    {
      "cell_type": "code",
      "execution_count": null,
      "metadata": {
        "id": "F0lgJDHmlG6a"
      },
      "outputs": [],
      "source": [
        "# Visualizing the count of ratings by individual users\n",
        "\n",
        "sns.set(style=\"darkgrid\")\n",
        "fig, axes = plt.subplots(1, 2, figsize=(25, 8))\n",
        "#two subplots, one row, two columns\n",
        "\n",
        "sns.kdeplot(no_of_rated_movies_per_user[\"rating\"], shade = True, ax = axes[0])\n",
        "#uses Seaborn's kdeplot function to create a Kernel Density Estimate (KDE) plot,\n",
        "#which shows the probability density of rating values from the no_of_rated_movies_per_user dataset\n",
        "#we can simply use axes if there is a single subplot\n",
        "axes[0].set_title(\"PDF\", fontsize = 18)\n",
        "axes[0].set_xlabel(\"Number of Ratings by users\", fontsize = 18)\n",
        "axes[0].tick_params(labelsize = 15)\n",
        "\n",
        "sns.kdeplot(no_of_rated_movies_per_user[\"rating\"], shade = True, cumulative = True, ax = axes[1])\n",
        "#This option turns the KDE plot into a cumulative distribution function (CDF). Instead of showing the density at each point,\n",
        "#it shows the cumulative probability, giving a rising curve that indicates the cumulative probability of the ratings up to each point.\n",
        "\n",
        "axes[1].set_title(\"CDF\", fontsize = 18)\n",
        "axes[1].set_xlabel(\"Number of Ratings by user\", fontsize = 18)\n",
        "axes[1].tick_params(labelsize = 15)\n",
        "\n",
        "fig.subplots_adjust(wspace=2)\n",
        "plt.tight_layout()\n",
        "plt.show()"
      ]
    },
    {
      "cell_type": "markdown",
      "source": [
        "**Sharp peak near zero**: The PDF shows that the majority of users have rated only a few items, as indicated by the high peak near zero. This suggests that most users provide only a small number of ratings.\n",
        "\n",
        "**Long tail**: There is a long tail extending towards the right, which indicates that while most users rate very few items, a small number of users rate a lot more items (potentially power users or very active raters).\n",
        "\n",
        "**Density decreasing rapidly**: The density drops quickly as the number of ratings increases, confirming that high rating counts are rare.\n",
        "\n",
        "\n",
        "\n",
        "**CDF**\n",
        "\n",
        "**Steep initial rise**: The CDF rises steeply near zero, indicating that a large percentage of users fall within the lower range of ratings. This confirms the PDF observation that many users rate only a few items.\n",
        "\n",
        "**Plateau towards 1**: The curve flattens and approaches a cumulative density of 1 (or 100%) as it reaches the higher number of ratings. This means that almost all users are accounted for by the time the number of ratings reaches a certain point on the x-axis.\n",
        "\n",
        "**Interpretation of 80-90% range**: Based on the CDF, it’s likely that around 80-90% of users rate fewer than a specific threshold (e.g., around 1000 ratings), with only a very small proportion rating significantly more."
      ],
      "metadata": {
        "id": "yJm1LWALZx5R"
      }
    },
    {
      "cell_type": "code",
      "execution_count": null,
      "metadata": {
        "id": "I6QF5E8wzBxm"
      },
      "outputs": [],
      "source": [
        "# Checking the basic statistics for the number of ratings per user\n",
        "\n",
        "print(\"Information about no. of ratings by users : \\n\", no_of_rated_movies_per_user[\"rating\"].describe())"
      ]
    },
    {
      "cell_type": "code",
      "execution_count": null,
      "metadata": {
        "id": "aRs_EUc6zUan"
      },
      "outputs": [],
      "source": [
        "quantiles = no_of_rated_movies_per_user[\"rating\"].quantile(np.arange(0.9, 1.01,0.01))\n",
        "qvalue = np.arange(0.9, 1.01,0.01)\n",
        "#Creates an array of values from 0.9 to 1.0 (inclusive) with a step of 0.01.\n",
        "#this represents the range of quantiles we want to calculate, from the 90th percentile (0.9) to the 100th percentile (1.0)\n",
        "\n",
        "for ctr in qvalue:\n",
        "    print(\"The {}th quantile value is : {}\".format(int(ctr*100), quantiles[ctr]))\n",
        "    #we're putting the values of the quantiles mutliplied by 100 into the placeholders, and then printing their values in the second placeholder\n"
      ]
    },
    {
      "cell_type": "code",
      "execution_count": null,
      "metadata": {
        "id": "6TLJd4RAy-kJ"
      },
      "outputs": [],
      "source": [
        "# Plotting the quantile values\n",
        "quantiles = no_of_rated_movies_per_user[\"rating\"].quantile(np.arange(0, 1.01,0.01))\n",
        "\n",
        "fig = plt.figure(figsize=(25, 5))\n",
        "# figure of the specified size\n",
        "\n",
        "axes = fig.add_axes([0.1,0.1,1,1])\n",
        "# adds axes to the figure with specific dimensions, allowing for customization of the plotting area.\n",
        "\n",
        "axes.set_title(\"Quantile values of Ratings Per User\", fontsize=20)\n",
        "axes.set_xlabel(\"Quantiles\", fontsize=20)\n",
        "axes.set_ylabel(\"Ratings Per User\", fontsize=20)\n",
        "axes.plot(quantiles)\n",
        "\n",
        "plt.scatter(x=quantiles.index[::5], y=quantiles.values[::5], c=\"blue\", s=70, label=\"quantiles with 0.05 intervals\")\n",
        "#x values are the quantiles' indices separated by 0.05\n",
        "#y values are the vaalues of those quantiles\n",
        "\n",
        "plt.scatter(x=quantiles.index[::25], y=quantiles.values[::25], c=\"red\", s=70, label=\"quantiles with 0.25 intervals\")\n",
        "plt.legend(loc='upper left', fontsize=20)\n",
        "#quantitles with separation of 0.25\n",
        "#y values are the values of the corresponding quantiles.\n",
        "\n",
        "\n",
        "for x, y in zip(quantiles.index[::25], quantiles.values[::25]):\n",
        "  #zips together slices of the index and values from the quantiles data, with every 25th value from the index and values.\n",
        "    plt.annotate(text='({},{})'.format(x, int(y)), xy=(x, y), fontweight='bold', fontsize=16, xytext=(x-0.05, y+180))\n",
        "    #here we're trying to annotate the plot with the quantile position, and its value.\n",
        "\n",
        "axes.tick_params(labelsize=15)\n"
      ]
    },
    {
      "cell_type": "markdown",
      "metadata": {
        "id": "k1mByTJWktMX"
      },
      "source": [
        "Observations:\n",
        "\n",
        "1. The top 10 users tend to have rated more than 4K times, which seems bit extreme behaviour.\n",
        "2. The userId 118205 has rated over 7K+ times, which seems surprising.\n",
        "3. From the KDE plot, it is clearly evident that the number of ratings is highly right skewed, and most of the user's ratings is between 0-1000.\n",
        "4. Similarly, above CDF graph shows that almost 99% of users give very few ratings.\n",
        "5. The mean no. of ratings a user gives is 142 while the median is 69.\n",
        "6. The no. of movies start to increase drastically from 90th percentile."
      ]
    },
    {
      "cell_type": "code",
      "execution_count": null,
      "metadata": {
        "id": "kzb7hpuZ7p0B"
      },
      "outputs": [],
      "source": [
        "# Calculating average ratings given by individual users\n",
        "\n",
        "avg_ratings_per_user = Train_Data.groupby(by = [\"userId\"], as_index=False)[\"rating\"].mean()\n",
        "#group by the users, and then calculate the average of the total ratings by each user\n",
        "avg_ratings_per_user = avg_ratings_per_user.reset_index(drop=True)\n",
        "#set index to default values\n",
        "avg_ratings_per_user = avg_ratings_per_user.merge(no_of_rated_movies_per_user[[\"userId\", \"rating\"]], how=\"left\", on=\"userId\")\n",
        "#no of rated movies per user is basically no of movies that the user has rated dataframe\n",
        "#after left join, a \"rating\" column will have been added to the dataframe.\n",
        "# we ll have the user id, avg rating by the user, and the no of movies that the user has rated.\n",
        "\n",
        "avg_ratings_per_user.rename(columns={\"rating_x\":\"avg_rating\", \"rating_y\": \"num_of_rating\"}, inplace=True)\n",
        "#rating x to avg_rating\n",
        "#rating y to num_of rating\n",
        "\n",
        "avg_ratings_per_user = avg_ratings_per_user.sort_values(\"num_of_rating\", ascending=False)"
      ]
    },
    {
      "cell_type": "code",
      "execution_count": null,
      "metadata": {
        "id": "OqFXz5W28K2x"
      },
      "outputs": [],
      "source": [
        "# Visualizing the average ratings by individual Days of the Week\n",
        "\n",
        "sns.set(style=\"darkgrid\")\n",
        "fig, axes = plt.subplots(1, 1, figsize=(25, 5), sharey=True)\n",
        "\n",
        "sns.barplot(x=\"userId\", y=\"avg_rating\", data=avg_ratings_per_user[:15], ax=axes)\n",
        "\n",
        "for p in axes.patches:\n",
        "    axes.annotate('{}'.format(round(p.get_height(), 2)), (p.get_x()+0.3, p.get_height()))\n",
        "    #average ratings rounded off to two decimal places.\n",
        "\n",
        "plt.tick_params(labelsize = 15)\n",
        "plt.title(\"Average Ratings by top 15 Users\", fontsize = 20)\n",
        "plt.xlabel(\"User ID\", fontsize = 15)\n",
        "plt.xticks(fontsize=10)\n",
        "plt.ylabel(\"Rating\", fontsize = 15)\n",
        "plt.yticks(fontsize=10)\n",
        "plt.show()"
      ]
    },
    {
      "cell_type": "code",
      "execution_count": null,
      "metadata": {
        "id": "FeyRAPQe88qH"
      },
      "outputs": [],
      "source": [
        "# Plotting the PDF and CDF for Avg. rating by Users\n",
        "\n",
        "sns.set(style=\"darkgrid\")\n",
        "fig, axes = plt.subplots(1, 2, figsize=(25, 5))\n",
        "fig.suptitle(\"Avg Ratings per User\", fontsize=25)\n",
        "\n",
        "sns.distplot(avg_ratings_per_user[\"avg_rating\"], hist = False, ax = axes[0], label = \"PDF\")\n",
        "axes[0].set_title(\"PDF\", fontsize = 18)\n",
        "axes[0].set_xlabel(\"Average Ratings by users\", fontsize = 18)\n",
        "axes[0].tick_params(labelsize = 15)\n",
        "#can be used for both a histogram and a kde\n",
        "#no cumulative distributions herehere is\n",
        "\n",
        "sns.kdeplot(avg_ratings_per_user[\"avg_rating\"], cumulative = True, ax = axes[1], shade=True, label = \"CDF\")\n",
        "#axes 1 for the second column\n",
        "axes[1].set_title(\"CDF\", fontsize = 18)\n",
        "axes[1].set_xlabel(\"Average Ratings by user\", fontsize = 18)\n",
        "axes[1].tick_params(labelsize = 15)\n",
        "#used for smooth distribution estimation, which is helpful for understanding the shape\n",
        "#of the distribution of data, especially when you want to avoid the \"blocky\" appearance of a histogram.\n",
        "\n",
        "fig.subplots_adjust(wspace=2)\n",
        "plt.tight_layout()\n",
        "plt.show()"
      ]
    },
    {
      "cell_type": "markdown",
      "metadata": {
        "id": "szikNlHGAApS"
      },
      "source": [
        "Observations:\n",
        "\n",
        "1. User ID 125794 has the highest avg. rating of 3.81.\n",
        "2. The pdf of average ratings given by a user seems to be a bit left skewed, with most of the values centered around 3.5 to 4.\n",
        "3. THe cdf also shows that avg. ratings is most frequent in between 3 to 5."
      ]
    },
    {
      "cell_type": "markdown",
      "metadata": {
        "id": "V6noWWxg2yp2"
      },
      "source": [
        "---\n",
        "\n",
        "#####**5. Analyzing the Ratings given to the Movies.**"
      ]
    },
    {
      "cell_type": "code",
      "execution_count": null,
      "metadata": {
        "id": "66iNX45A3uPT"
      },
      "outputs": [],
      "source": [
        "# Calculating count of ratings received for movies\n",
        "\n",
        "no_of_ratings_per_movie = Train_Data.groupby(by = [\"movieId\", \"title\"], as_index=False)[\"rating\"].count().sort_values(by=[\"rating\"], ascending = False)\n",
        "#we re counting and sorting the ratings received by each individual movie in descending order.\n",
        "no_of_ratings_per_movie = no_of_ratings_per_movie.reset_index(drop=True)"
      ]
    },
    {
      "cell_type": "code",
      "execution_count": null,
      "metadata": {
        "id": "qmBJZxHC3-4V"
      },
      "outputs": [],
      "source": [
        "# Visualizing the number of ratings for the movies\n",
        "\n",
        "sns.set(style=\"darkgrid\")\n",
        "\n",
        "fig = plt.figure(figsize = (25, 5))\n",
        "#figure object with width 25 and 5\n",
        "\n",
        "axes = fig.add_axes([0.1, 0.1, 1, 1])\n",
        "# 0.1: The x-position of the lower-left corner of the axes (10% from the left).\n",
        "# 0.1: The y-position of the lower-left corner of the axes (10% from the bottom).\n",
        "# 1: The width of the axes (100% of the available space).\n",
        "# 1: The height of the axes (100% of the available space).\n",
        "\n",
        "plt.title(\"Number of Ratings Per Movie\", fontsize = 20)\n",
        "plt.xlabel(\"Movie\", fontsize = 15)\n",
        "plt.ylabel(\"Count of Ratings\", fontsize = 15)\n",
        "\n",
        "plt.plot(no_of_ratings_per_movie[\"rating\"].values)\n",
        "\n",
        "plt.tick_params(labelsize = 15)\n",
        "axes.set_xticklabels([])\n",
        "plt.show()"
      ]
    },
    {
      "cell_type": "markdown",
      "metadata": {
        "id": "iipBg8fJtgUr"
      },
      "source": [
        "Observations:\n",
        "\n",
        "1. It is quite clear that there are some movies which are very popular and were rated by many users as comapared to other movies which has caused the plot to be skewed.\n",
        "\n"
      ]
    },
    {
      "cell_type": "code",
      "execution_count": null,
      "metadata": {
        "id": "f6JlOn_sttfb"
      },
      "outputs": [],
      "source": [
        "# Visualizing top 5 movies heavily rated movies.\n",
        "\n",
        "sns.set(style=\"darkgrid\")\n",
        "fig, axes = plt.subplots(1, 1, figsize=(25, 5), sharey=True)\n",
        "\n",
        "sns.barplot(x=\"title\", y=\"rating\", data=no_of_ratings_per_movie[:15], ax=axes)\n",
        "for p in axes.patches:\n",
        "    axes.annotate('{}'.format(int(p.get_height())), (p.get_x(), p.get_height()+100))\n",
        "\n",
        "axes.set_yticklabels([ChangingLabelsInK(num) for num in axes.get_yticks()])\n",
        "#custom label in K for thousands using changinglabelsinK function for all numbers in the axes(y_ticks).\n",
        "plt.tick_params(labelsize = 15)\n",
        "plt.title(\"Number of ratings for Top 15 Movies\", fontsize = 20)\n",
        "plt.xlabel(\"Movie\", fontsize = 15)\n",
        "plt.xticks(rotation=70, fontsize=10)\n",
        "plt.ylabel(\"Counts\", fontsize = 15)\n",
        "plt.yticks(fontsize=10)\n",
        "plt.show()"
      ]
    },
    {
      "cell_type": "code",
      "execution_count": null,
      "metadata": {
        "id": "qAfTF5Aq2SxR"
      },
      "outputs": [],
      "source": [
        "# Calculating average ratings for movies\n",
        "\n",
        "avg_ratings_per_movie = Train_Data.groupby(by = [\"movieId\", \"title\"], as_index=False)[\"rating\"].mean()\n",
        "#average rating per movie\n",
        "avg_ratings_per_movie = avg_ratings_per_movie.reset_index(drop=True)\n",
        "\n",
        "avg_ratings_per_movie = avg_ratings_per_movie.merge(no_of_ratings_per_movie[[\"movieId\", \"rating\"]], how=\"left\", on=\"movieId\")\n",
        "#merge avg_ratings_per_movie with no_of_ratings_per_movie on movie_id -> we re left with movieId,rating, avg_ratings_per_movie\n",
        "\n",
        "avg_ratings_per_movie.rename(columns={\"rating_x\":\"avg_rating\", \"rating_y\": \"num_of_rating\"}, inplace=True)\n",
        "avg_ratings_per_movie = avg_ratings_per_movie.sort_values(\"num_of_rating\", ascending=False)\n",
        "#sort the movies in descending with the max average at the top row"
      ]
    },
    {
      "cell_type": "code",
      "execution_count": null,
      "metadata": {
        "id": "e5jsP56AzMw4"
      },
      "outputs": [],
      "source": [
        "# Visualizing the average ratings by individual Days of the Week\n",
        "\n",
        "sns.set(style=\"darkgrid\")\n",
        "fig, axes = plt.subplots(1, 1, figsize=(25, 5), sharey=True)\n",
        "\n",
        "sns.barplot(x=\"title\", y=\"avg_rating\", data=avg_ratings_per_movie[:15], ax=axes)\n",
        "\n",
        "for p in axes.patches:\n",
        "    axes.annotate('{}'.format(round(p.get_height(), 2)), (p.get_x()+0.3, p.get_height()))\n",
        "\n",
        "plt.tick_params(labelsize = 15)\n",
        "plt.title(\"Average Ratings For top 15 movies\", fontsize = 20)\n",
        "plt.xlabel(\"Top 15 Movie\", fontsize = 15)\n",
        "plt.xticks(rotation=70, fontsize=10)\n",
        "plt.ylabel(\"Rating\", fontsize = 15)\n",
        "plt.yticks(fontsize=10)\n",
        "plt.show()"
      ]
    },
    {
      "cell_type": "markdown",
      "metadata": {
        "id": "3zDuxiRoyxUW"
      },
      "source": [
        "Observations:\n",
        "\n",
        "1. The cult movies form 1990s have been rated the most.\n",
        "2. Pulp Fiction, Forrest Gump, Shawshank Redemption and Silience of the Lambs have been rated over 50K times.\n",
        "3. Shawshank Redemption has the highest average rating of 4.56 based on 50K+ ratings."
      ]
    },
    {
      "cell_type": "code",
      "execution_count": null,
      "metadata": {
        "id": "tZeqBC_45PaJ"
      },
      "outputs": [],
      "source": [
        "# Plotting the PDF and CDF for Avg. rating by Movies\n",
        "\n",
        "sns.set(style=\"darkgrid\")\n",
        "fig, axes = plt.subplots(1, 2, figsize=(25, 5))\n",
        "fig.suptitle(\"Avg Ratings per Movie\", fontsize=25)\n",
        "\n",
        "sns.distplot(avg_ratings_per_movie[\"avg_rating\"], hist = False, ax = axes[0], label = \"PDF\")\n",
        "#deprecated function that can plot both histograms and kde plots\n",
        "axes[0].set_title(\"PDF\", fontsize = 18)\n",
        "axes[0].set_xlabel(\"Average Ratings by Movie\", fontsize = 18)\n",
        "axes[0].tick_params(labelsize = 15)\n",
        "\n",
        "sns.kdeplot(avg_ratings_per_movie[\"avg_rating\"], cumulative = True, ax = axes[1], shade=True, label = \"CDF\")\n",
        "#can plot for continuous or cumulative\n",
        "axes[1].set_title(\"CDF\", fontsize = 18)\n",
        "axes[1].set_xlabel(\"Average Ratings by Movie\", fontsize = 18)\n",
        "axes[1].tick_params(labelsize = 15)\n",
        "\n",
        "fig.subplots_adjust(wspace=2)\n",
        "plt.tight_layout()\n",
        "plt.show()"
      ]
    },
    {
      "cell_type": "markdown",
      "metadata": {
        "id": "DZk_rpWDBMmt"
      },
      "source": [
        "Observations:\n",
        "\n",
        "1. The distribution of average rating for movie is fairly normal one.\n",
        "2. The cdf shows that the avg. rating is more frequent after 3.\n",
        "3. Curve peaks around a rating of 3-4, indicating that most movies have an average rating in this range.\n",
        "4. Density at lower ratings (0-1) is low, indicating that very few movies have extremely low average ratings.\n",
        "5. CDF Increases steeply between ratings 2 and 4, indicating that a majority of movies have average ratings within this range.\n",
        "6. Curve flattens near 1 as it approaches an average rating of 5, meaning almost all movies fall within the 2-4 rating range, with very few having an average rating close to 5."
      ]
    },
    {
      "cell_type": "code",
      "execution_count": null,
      "metadata": {
        "id": "uL0s57q3iQa8"
      },
      "outputs": [],
      "source": [
        "Train_Data.head()"
      ]
    },
    {
      "cell_type": "markdown",
      "metadata": {
        "id": "MaX3B7524VZ5"
      },
      "source": [
        "### **3.3. Feature Engineering**\n",
        "\n",
        "Now that we have completed the data exploration part, we can start the Feature Engineering in order to prepare the data for the ML algorithms."
      ]
    },
    {
      "cell_type": "markdown",
      "metadata": {
        "id": "h1b6Nr8ZNZfy"
      },
      "source": [
        "#### **3.3.1 Creating Matrices**\n",
        "\n",
        "We will be creating matrices like: User-Item matrix, User-User and Item-Item similarity matrix."
      ]
    },
    {
      "cell_type": "markdown",
      "metadata": {
        "id": "-yvL8KRiNjvy"
      },
      "source": [
        "---\n",
        "\n",
        "#####**1. Creating USER-ITEM sparse matrix.**"
      ]
    },
    {
      "cell_type": "code",
      "execution_count": null,
      "metadata": {
        "id": "lkTaat0uNi5x"
      },
      "outputs": [],
      "source": [
        "from scipy import sparse\n",
        "import os\n",
        "from datetime import datetime\n",
        "\n",
        "startTime = datetime.now()\n",
        "\n",
        "print(\"Creating USER_ITEM sparse matrix for train Data..\")\n",
        "\n",
        "# Check if the sparse matrix file already exists in the current directory\n",
        "if os.path.isfile(\"TrainUISparseData.npz\"):\n",
        "    print(\"Sparse Data is already present in your disk, no need to create further. Loading Sparse Matrix\")\n",
        "    TrainUISparseData = sparse.load_npz(\"TrainUISparseData.npz\")\n",
        "    print(\"Shape of Train Sparse matrix = \" + str(TrainUISparseData.shape))\n",
        "else:\n",
        "    print(\"We are creating sparse data..\")\n",
        "\n",
        "    # Assuming Train_Data contains 'rating', 'userId', and 'movieId' columns\n",
        "    TrainUISparseData = sparse.csr_matrix((Train_Data.rating, (Train_Data.userId, Train_Data.movieId)))\n",
        "    #Compressed Sparse Row (CSR) matrix called TrainUISparseData using the scipy.sparse.csr_matrix function.\n",
        "    #This type of sparse matrix is memory-efficient and ideal for storing large, sparse datasets where most of the elements are zero\n",
        "    #Train_Data.userId contains the user IDs, which will be the row indices.\n",
        "\n",
        " # Train_Data.movieId contains the movie IDs, which will be the column indices.\n",
        " # For each entry in Train_Data.rating, there is a corresponding (userId, movieId) pair that specifies where that rating should be placed in the matrix.\n",
        "\n",
        "\n",
        "    print(\"Creation done. Shape of sparse matrix: \", str(TrainUISparseData.shape))\n",
        "    print(\"Saving it into disk for further usage.\")\n",
        "    sparse.save_npz(\"TrainUISparseData.npz\", TrainUISparseData)\n",
        "    print(\"Done\\n\")\n",
        "\n",
        "print(\"Time taken: \", datetime.now() - startTime)\n"
      ]
    },
    {
      "cell_type": "code",
      "execution_count": null,
      "metadata": {
        "id": "LYlQ6kydSI10"
      },
      "outputs": [],
      "source": [
        "rows,cols = TrainUISparseData.shape\n",
        "presentElements = TrainUISparseData.count_nonzero()\n",
        "#equivalent to counting how many user-movie pairs have a rating\n",
        "\n",
        "print(\"Sparsity Of Train matrix : {}% \".format((1-(presentElements/(rows*cols)))*100))\n",
        "#rows*columns->gives the total number of elements\n",
        "#presentElements gives the no of non zero elements (user+movie pair with a rating)\n",
        "#we subtract with 1 to give us the probability of absent elements\n",
        "#sparsity = 1-density\n",
        "#we get the final answer as a percentage\n"
      ]
    },
    {
      "cell_type": "markdown",
      "source": [
        "**The sparsity value tells us how much of the matrix consists of zeros. In recommendation systems, high sparsity is common because most users rate only a small subset of all available movies. Calculating sparsity is useful to understand the dataset’s characteristics and to optimize memory usage and computational efficiency.**"
      ],
      "metadata": {
        "id": "jNa2rqOIbchN"
      }
    },
    {
      "cell_type": "code",
      "execution_count": null,
      "metadata": {
        "id": "NGRaA1zRsde-"
      },
      "outputs": [],
      "source": [
        "from scipy import sparse\n",
        "import os\n",
        "from datetime import datetime\n",
        "\n",
        "startTime = datetime.now()\n",
        "\n",
        "print(\"Creating USER_ITEM sparse matrix for test Data..\")\n",
        "\n",
        "# Check if the sparse matrix file already exists in the current directory\n",
        "if os.path.isfile(\"TestUISparseData.npz\"):\n",
        "    print(\"Sparse Data is already present in your disk, no need to create further. Loading Sparse Matrix\")\n",
        "    TestUISparseData = sparse.load_npz(\"TestUISparseData.npz\")\n",
        "    print(\"Shape of Test Sparse Matrix: \", str(TestUISparseData.shape))\n",
        "else:\n",
        "    print(\"We are creating sparse data..\")\n",
        "    # Assuming Test_Data contains 'rating', 'userId', and 'movieId' columns\n",
        "    TestUISparseData = sparse.csr_matrix((Test_Data.rating, (Test_Data.userId, Test_Data.movieId)))\n",
        "    #a matrix with users as rows, movies as columns, and the values that fill in the boxes being the rating given to the movies\n",
        "    print(\"Creation done. Shape of sparse matrix: \", str(TestUISparseData.shape))\n",
        "    print(\"Saving it into disk for further usage.\")\n",
        "    sparse.save_npz(\"TestUISparseData.npz\", TestUISparseData)\n",
        "    print(\"Done\\n\")\n",
        "\n",
        "print(\"Time Taken: \", datetime.now() - startTime)\n",
        "\n",
        "#a user-item (user-movie) matrix where each cell shows the rating given by a user to a movie, with unfilled cells representing unrated items.\n"
      ]
    },
    {
      "cell_type": "code",
      "execution_count": null,
      "metadata": {
        "id": "9Gsd1K3RSSsM"
      },
      "outputs": [],
      "source": [
        "rows,cols = TestUISparseData.shape\n",
        "presentElements = TestUISparseData.count_nonzero()\n",
        "\n",
        "print(\"Sparsity Of Test matrix : {}% \".format((1-(presentElements/(rows*cols)))*100))"
      ]
    },
    {
      "cell_type": "markdown",
      "metadata": {
        "id": "bX9ehvPFR-D8"
      },
      "source": [
        "Observations:\n",
        "\n",
        "1. Shape of sparse matrix depends on highest value of userId and highest value of movieId.\n",
        "2. In the test set, there are few users from train set which are not present in the test set.\n",
        "3. For the movieId, there are less movies in the train set as compared to test set. The reason stems from the fact that we split the data based on time, and newer movies would have fallen into test set.\n",
        "4. The sparsity of train set is 99.19% while the sparsity of test set is 99.89%.\n",
        "\n",
        "Users in the Test Set:\n",
        "\n",
        "    There are fewer users in the test set than in the train set, and some users from the train set may not appear in the test set. This is common in train-test splits where certain users might only have ratings in the training data but not in the test data, which can affect the model's performance on unseen users.\n",
        "\n",
        "Movies in the Test Set:\n",
        "\n",
        "    There are fewer movies in the train set than in the test set. This is likely because the data split was based on time, meaning that newer movies are more likely to appear in the test set. This observation implies that movies added later are included in the test set but may not be present in the training data, which can pose challenges for models predicting ratings for new movies.\n"
      ]
    },
    {
      "cell_type": "code",
      "execution_count": null,
      "metadata": {
        "id": "bNYQe-1oN5ne"
      },
      "outputs": [],
      "source": [
        "# Function to Calculate Average rating for users or movies from User-movie sparse matrix\n",
        "\n",
        "def getAverageRatings(sparseMatrix, if_user):\n",
        "\n",
        "    #axis = 1 means rows and axis = 0 means columns\n",
        "    ax = 1 if if_user else 0\n",
        "    #the axis would be a row if the value is of a user\n",
        "\n",
        "    sumOfRatings = sparseMatrix.sum(axis = ax).A1 #summation along a row or column, convert to a 1D array\n",
        "    noOfRatings = (sparseMatrix!=0).sum(axis = ax).A1\n",
        "#     (sparseMatrix != 0): Creates a boolean matrix where each cell is True if the rating is non-zero and False otherwise.\n",
        "# .sum(axis=ax): Sums the True values along the specified axis, which counts the number of non-zero ratings for each user or movie.\n",
        "# .A1: Converts the result to a flat 1D array format, so each element represents the count of ratings for one user or movie.\n",
        "\n",
        "    rows, cols = sparseMatrix.shape\n",
        "    #returns the no of users and and the no of movies.\n",
        "\n",
        "    averageRatings = {i: sumOfRatings[i]/noOfRatings[i] for i in range(rows if if_user else cols) if noOfRatings[i]!=0}\n",
        "    # Calculate average ratings, avoiding division by zero\n",
        "    #calculates the average of ratings for each i where i either belongs to users if (\"1\") else movies (cols)(0)\n",
        "    #his is a dictionary comprehension that creates a dictionary with keys as user IDs (if if_user=True) or movie IDs (if if_user=False) and\n",
        "    #values as their average ratings.\n",
        "    #i is the key and the avg(sumofratings/noofratings) is the average_rating for users or movies\n",
        "\n",
        "    return averageRatings"
      ]
    },
    {
      "cell_type": "code",
      "execution_count": null,
      "metadata": {
        "id": "1tQIVIAXN5uZ"
      },
      "outputs": [],
      "source": [
        "AvgRatingUser = getAverageRatings(TrainUISparseData, True) #corresponding to if_user\n",
        "AvgRatingMovie = getAverageRatings(TrainUISparseData, False)\n",
        "train_users = len(AvgRatingUser)\n",
        "uncommonUsers = total_users - train_users\n",
        "\n",
        "print(\"Total no. of Users : \", total_users)\n",
        "print(\"No. of Users in Train data : \", train_users)\n",
        "print(\"No. of Users not present in Train data : {}({}%)\".format(uncommonUsers, np.round((uncommonUsers/total_users)*100), 2))\n",
        "#calculate the percentage of absent_users and round of the percentage to two decimal places.\n"
      ]
    },
    {
      "cell_type": "code",
      "execution_count": null,
      "metadata": {
        "id": "tLbmfladXog0"
      },
      "outputs": [],
      "source": [
        "train_movies = len(AvgRatingMovie)\n",
        "uncommonMovies = total_movies - train_movies\n",
        "\n",
        "print(\"Total no. of Movies : \", total_movies)\n",
        "print(\"No. of Movies in Train data : \", train_movies)\n",
        "print(\"No. of Movies not present in Train data = {}({}%)\".format(uncommonMovies, np.round((uncommonMovies/total_movies)*100), 2))"
      ]
    },
    {
      "cell_type": "markdown",
      "metadata": {
        "id": "raOq33hoYSyq"
      },
      "source": [
        "Observations:\n",
        "\n",
        "1. Recommendation System suffers from Cold Start problems, which needs to be tackled wisely in order to design a effective system.\n",
        "2. There are 26027, ie 19% of the users are not present in the training data.\n",
        "3. There are 12387, ie 54% of the movies which are not present in the training data."
      ]
    },
    {
      "cell_type": "markdown",
      "source": [
        "The **“cold start problem”** is a common challenge that occurs in recommender systems. It refers to a situation where a system or algorithm runs into difficulties when it has little or no historical data about a user or an item. Obviously, this makes it challenging to provide relevant personalized recommendations.  \n",
        "\n",
        "In the context of recommender systems, there are two main types of cold start problems — user cold start and item cold start.  \n",
        "\n",
        "**User cold start:** When a user first becomes part of a recommender system, the system has limited information about their preferences and behavior. This makes it difficult to provide personalized recommendations. In such cases, the system may rely on generic recommendations or ask the user to provide explicit feedback, such as ratings or preferences, to build a user profile.\n",
        "\n",
        "**Item cold start:** New items, such as products or content, may not have accumulated enough user interactions or ratings to generate accurate recommendations. As a result, the system may struggle to recommend these new items effectively to the users in the system. Sometimes, collaborative filtering methods that rely on user-item interactions may not work well for item cold start problems.\n",
        "\n"
      ],
      "metadata": {
        "id": "stYl3adHPJF-"
      }
    },
    {
      "cell_type": "markdown",
      "metadata": {
        "id": "-j7TcFjFmRwy"
      },
      "source": [
        "---\n",
        "\n",
        "#####**2. Creating Similarity Matrix**\n",
        "\n",
        "Computation of user-user or item-item similarity matrix is impossible if computational power is limited given we have a user vector of size 112K. There will be a matrix of size 14K x 14K.\n",
        "\n",
        "On the other hand, if we try to reduce the dimension say by truncated SVD then it would take even more time because truncated SVD creates dense matrix and amount of multiplication for creation of user-user similarity matrix would increase dramatically.\n",
        "\n",
        "For the workaround, we will maintain a binary Vector for users, which tells us whether we already computed similarity for this user or not or compute top (let's just say, 1000) most similar users for this given user, and add this to our datastructure, so that we can just access it(similar users) without recomputing it again.\n",
        "\n",
        "If it is already computed, just get it directly from our datastructure, which has that information. In production time, We might have to recompute similarities, if it is computed a long time ago. Because user preferences changes over time. If we could maintain some kind of Timer, which when expires, we have to update it ( recompute it ).\n",
        "\n",
        "The datastructure to be used is purely implementation dependant.One simple method is to maintain a Dictionary Of Dictionaries:\n",
        "  - key : userid\n",
        "  - value : Again a dictionary\n",
        "       - key : _Similar User\n",
        "       - value: Similarity Value>\n",
        "\n",
        "Key: The outer dictionary’s key is the user_id for whom we are storing similarities.\n",
        "\n",
        "Value: The value is another dictionary where:\n",
        "\n",
        "  The inner dictionary’s keys are IDs of the similar users.\n",
        "  The inner dictionary’s values are similarity scores between the user_id and each of its most similar users.\n",
        "\n",
        "This structure is efficient because:\n",
        "\n",
        "  You only store similarities for the top 1,000 users per user, which limits memory usage.\n",
        "  Retrieving the top similar users for a given user is quick and easy since it’s just a lookup in the dictionary.\n",
        "\n",
        "\n",
        "  Each time you retrieve similarity data, check if the timer has expired.\n",
        "If it has expired (indicating the similarity scores might be outdated), recompute the similarity scores and update the similarity_data dictionary with the new values.\n",
        "Reset the timer for the next check.\n"
      ]
    },
    {
      "cell_type": "markdown",
      "metadata": {
        "id": "jZMNstbtlQ53"
      },
      "source": [
        "---\n",
        "\n",
        "**2.1. Computing Item-Item Similarity Matrix**"
      ]
    },
    {
      "cell_type": "code",
      "execution_count": null,
      "metadata": {
        "id": "kbdipwGqlYsd"
      },
      "outputs": [],
      "source": [
        "# Computing user-user similarity matrix for the train data\n",
        "# We have 138K sized sparse vectors using which a 14K x 14K movie similarity matrix would be calculated\n",
        "\n",
        "start = datetime.now()\n",
        "\n",
        "if not os.path.isfile(file_path + \"/m_m_similarity.npz\"):\n",
        "    print(\"Movie-Movie Similarity file does not exist in your disk. Creating Movie-Movie Similarity Matrix...\")\n",
        "    m_m_similarity = cosine_similarity(TrainUISparseData.T, dense_output = False)\n",
        "    #Here, cosine_similarity is used to calculate the similarity between movies based on their ratings by users.\n",
        "    #here, the rows are movies, the columns being users.\n",
        "\n",
        "    print(\"Dimension of Matrix : \", m_m_similarity.shape)\n",
        "    print(\"Storing the Movie Similarity matrix on disk for further usage\")\n",
        "    sparse.save_npz(file_path + \"/m_m_similarity.npz\", m_m_similarity)\n",
        "else:\n",
        "    print(\"File exists in the disk. Loading the file...\")\n",
        "    m_m_similarity = sparse.load_npz(file_path + \"/m_m_similarity.npz\")\n",
        "    print(\"Dimension of Matrix : \", m_m_similarity.shape)\n",
        "\n",
        "print(\"The time taken to compute movie-movie similarity matrix is : \", datetime.now() - start)"
      ]
    },
    {
      "cell_type": "code",
      "execution_count": null,
      "metadata": {
        "id": "5XX21MasR4tG"
      },
      "outputs": [],
      "source": [
        "# Creating a function to take Movie Name and generate the top matched name and generate its N similar movies based on M-M Similary\n",
        "\n",
        "def GetSimilarMoviesUsingMovieMovieSimilarity(movie_name, num_of_similar_movies):\n",
        "    matches = process.extract(movie_name, movie_list_in_training[\"title\"], scorer=fuzz.partial_ratio)\n",
        "    #each element in matches is a tuple containing:->\n",
        "    #The movie title that matches (matches[0][0]),\n",
        "    # The similarity score between movie_name and the matched title (matches[0][1]), and\n",
        "    # The index of the matched movie title in movie_list_in_training (matches[0][2]).\n",
        "\n",
        "  #This line uses fuzzy matching to find the closest matching movie title in the dataset (movie_list_in_training[\"title\"]).\n",
        "  # process.extract() from the fuzzywuzzy library returns a list of possible matches, based on similarity scoring.\n",
        "  # fuzz.partial_ratio allows for partial matching, making it robust even if the user enters only part of the movie title.\n",
        "\n",
        "  # matches will be a list of tuples where each tuple contains:-\n",
        "  #  The matched movie title,\n",
        "  #  The similarity score,\n",
        "  #  The index of the match in movie_list_in_training.\n",
        "    #movies list in training consists of the movie title and 3 other columns.\n",
        "\n",
        "    if len(matches) == 0:\n",
        "        return \"No Match Found\"\n",
        "    movie_id = movie_list_in_training.iloc[matches[0][2]][\"movieId\"]\n",
        "    # get the movie id of the closest match\n",
        "    # matches[0] represents the best match (the first result in the list),\n",
        "    # and matches[0][2] gives the index of this best match in movie_list_in_training.\n",
        "\n",
        "# If matches[0] is (\"The Matrix\", 90, 1234), then matches[0][2] would be 1234.\n",
        "# This index 1234 tells us the row in movie_list_in_training where the best matching movie title is located.\n",
        "\n",
        "    similar_movie_id_list = np.argsort(-m_m_similarity[movie_id].toarray().ravel())[0:num_of_similar_movies+1]\n",
        "    # m_m_similarity[movie_id] retrieves the row corresponding to movie_id. This row contains similarity scores\n",
        "    # between movie_id and every other movie in the matrix.\n",
        "    #the first part gives us the similarity score between that movie and all other movies as a sparse matrix that will get converted to a\n",
        "    # 2d array, .ravel() is used to flatten the dense 2D array into a 1D array. The result is a 1D array where each element\n",
        "    # represents the similarity score between movie_id and each other movie. np argsort() - sorts in ascending order.\n",
        "    # returns all indices in sorted order, but we only need the top num_of_similar_movies similar movies.\n",
        "    # We add 1 here because the movie itself (movie_id) will likely be the most similar (with a similarity score of 1),\n",
        "    # and we may want to include it for reference or exclude it as needed.\n",
        "\n",
        " # -(negative) sign to invert the similarity scores. This is done because we want the most similar movies\n",
        " # (i.e., the highest scores) to come first in the sorted list, and np.argsort sorts in ascending order.\n",
        " #By negating the scores, we ensure that movies with higher similarity scores(hence, more negative)\n",
        " #appear earlier in the sorted array.\n",
        "\n",
        "\n",
        "\n",
        "\n",
        "\n",
        "    sm_df = movie_list_in_training[movie_list_in_training[\"movieId\"].isin(similar_movie_id_list)]\n",
        "    #sm_df is a dataframe that contains only the movies in similar_movie_id_list\n",
        "    #The outer movie_list_in_training[...] applies this condition to select only rows where the movieId is in similar_movie_id_list.\n",
        "\n",
        "    sm_df[\"order\"] = sm_df.apply(lambda x: list(similar_movie_id_list).index(x[\"movieId\"]), axis=1)\n",
        "    #new column- order- to specify the order of similarity for each movie relative to the target movie.\n",
        "    #sm_df.apply(...) applies a function to each row of sm_df.\n",
        "#     x[\"movieId\"] accesses the movieId of the current row.\n",
        "#     list(similar_movie_id_list).index(x[\"movieId\"]) finds the index of this movieId in similar_movie_id_list.\n",
        "#         This index corresponds to the similarity rank: for example, if movieId = 2 is the most similar movie,\n",
        "#     it will have an index of 0 in similar_movie_id_list.\n",
        "\n",
        "# The result is that each row in sm_df gets an order value based on its similarity rank.\n",
        "# The most similar movie will have order = 0, the next most similar will have order = 1, and so on.\n",
        "\n",
        "    return sm_df.sort_values(\"order\")\n",
        "\n"
      ]
    },
    {
      "cell_type": "code",
      "source": [],
      "metadata": {
        "id": "9QTkTz4dHv2m"
      },
      "execution_count": null,
      "outputs": []
    },
    {
      "cell_type": "code",
      "execution_count": null,
      "metadata": {
        "id": "KSMtUYbrdBpG"
      },
      "outputs": [],
      "source": [
        "# Picking random movie and checking it's top 10 most similar movies\n",
        "\n",
        "GetSimilarMoviesUsingMovieMovieSimilarity(\"Star Wars\", 10)"
      ]
    },
    {
      "cell_type": "markdown",
      "metadata": {
        "id": "NJ0chmC-ZLGR"
      },
      "source": [
        "---\n",
        "\n",
        "**2.2. Computing User-User Similarity Matrix.**\n",
        "\n"
      ]
    },
    {
      "cell_type": "code",
      "execution_count": null,
      "metadata": {
        "id": "mP-pRQhRsJCY"
      },
      "outputs": [],
      "source": [
        "# Getting highest user id\n",
        "\n",
        "row_index, col_index = TrainUISparseData.nonzero()\n",
        "# row indices of the non-zero elements (i.e., the user IDs for which there is a rating or interaction),\n",
        "# and col_index contains the column indices of the non-zero elements (i.e., the item or movie IDs for which there is a rating).\n",
        "\n",
        "unique_user_id = np.unique(row_index)\n",
        "#returns the unique values in the row_index\n",
        "#np.unique(row_index) returns the unique values in row_index, which represent all the user IDs that have at least one rating or interaction in the dataset.\n",
        "# unique_user_id now holds a sorted array of all distinct user IDs with non-zero ratings.\n",
        "\n",
        "print(\"Max User id is :\", np.max(unique_user_id))\n",
        "#the user with the max no of ratings.\n"
      ]
    },
    {
      "cell_type": "code",
      "execution_count": null,
      "metadata": {
        "id": "6U7QV74grsCf"
      },
      "outputs": [],
      "source": [
        "# Here, we are calculating user-user similarity matrix only for first 100 users in our sparse matrix. And we are calculating\n",
        "# Top 100 most similar users with them.\n",
        "#user-user matrix to compute similarities.\n",
        "\n",
        "def getUser_UserSimilarity(sparseMatrix, top = 100):\n",
        "    startTimestamp20 = datetime.now()\n",
        "\n",
        "    row_index, col_index = sparseMatrix.nonzero()\n",
        "    #non zero ratings; fetch the rows and the cols indices of non zero ratings.\n",
        "    rows = np.unique(row_index)\n",
        "    #find all unique users.\n",
        "\n",
        "    similarMatrix = np.zeros(13849300).reshape(138493,100)    # 138493*100 = 13849300. As we are building similarity matrix only\n",
        "    #for top 100 most similar users.\n",
        "    #np.zeros(13849300) creates a 1D array of zeros with 13,849,300 entries.\n",
        "    #.reshape(138493, 100) reshapes it into a 2D array with 138,493 rows and 100 columns.\n",
        "# Here, 138493 could represent the total number of users, and 100 represents the number of top similar users we want to store per user.\n",
        "\n",
        "    timeTaken = []\n",
        "    #time takne for each user's similarity comparision\n",
        "\n",
        "    howManyDone = 0\n",
        "    #counter to track the count of processed users\n",
        "\n",
        "    for row in rows[:top]:\n",
        "      #since we re doing this for a 100 users, extract from top 100 rows\n",
        "        howManyDone += 1\n",
        "        #increment the count by 1 for each user\n",
        "\n",
        "        startTimestamp = datetime.now().timestamp()  #timestamp at the start of a user's computation\n",
        "\n",
        "        sim = cosine_similarity(sparseMatrix.getrow(row), sparseMatrix).ravel()\n",
        "        #calculate the cosine similarity between user (sparsematrix.getrow(row)), adn the total number of users (SparseMatrix)\n",
        "        #ravel will convert this data into a 1d array for better understanding\n",
        "        #If sparseMatrix.getrow(row) is [1, 0, 3] and sparseMatrix has rows like [0, 2, 1] and [1, 0, 3],\n",
        "        #then sim will store similarities between [1, 0, 3] and all other rows.\n",
        "\n",
        "        top100_similar_indices = sim.argsort()[-top:]\n",
        "        #sim.argsort () - returns the indices of the sorted values,\n",
        "        #we want the top 100 indices. so we select the last top 100, it selects the indices after the -100th item (100 items to the end)\n",
        "\n",
        "        top100_similar = sim[top100_similar_indices]\n",
        "        #extract the values from the similarity matrix via their indices\n",
        "        #returns an array with the top 100 similarity scores, arranged in descending order\n",
        "\n",
        "        similarMatrix[row] = top100_similar\n",
        "        #stores the top 100 users in the similiarity matrix that we created earlier.\n",
        "        #13k rows (users) - columns(100 similar users)\n",
        "\n",
        "        timeforOne = datetime.now().timestamp() - startTimestamp #current-start\n",
        "        #we re calculating the total time taken for computation of similarity score for one user\n",
        "        timeTaken.append(timeforOne)\n",
        "        #timeTaken = [0.12, 0.15, 0.10, 0.13, 0.14] #consider 5 users and their respective time taken.\n",
        "\n",
        "        if howManyDone % 20 == 0:\n",
        "            print(\"Time elapsed for {} users = {}sec\".format(howManyDone, (datetime.now() - startTimestamp20)))\n",
        "            #prints the cumulative time taken for every 20 users.\n",
        "\n",
        "    print(\"Average Time taken to compute similarity matrix for 1 user = \"+str(sum(timeTaken)/len(timeTaken))+\"seconds\")\n",
        "    #compute the average time taken for one user\n",
        "\n",
        "    sns.set(style=\"darkgrid\")\n",
        "    #set the style for the sns plot\n",
        "    fig = plt.figure(figsize = (25, 5))\n",
        "    #create a figure object of width 25 length 5\n",
        "\n",
        "    plt.plot(timeTaken, label = 'Time Taken For Each User')\n",
        "    plt.plot(np.cumsum(timeTaken), label='Cumulative Time')\n",
        "    #the array if 2d is first converted to a 1 d(flattened by deafult) and then the sum is calculated along an axis\n",
        "\n",
        "    plt.legend(loc='upper left', fontsize = 15)\n",
        "    plt.xlabel('Users', fontsize = 20)\n",
        "    plt.ylabel('Time(Seconds)', fontsize = 20)\n",
        "    plt.tick_params(labelsize = 15)\n",
        "    plt.show()\n",
        "\n",
        "    return similarMatrix\n",
        "\n",
        "simMatrix = getUser_UserSimilarity(TrainUISparseData, 100)\n",
        "# calls the function with TrainUISparseData (a sparse matrix) as input and stores the result in simMatrix.\n",
        "# This will be the 138,493 x 100 matrix of similarity scores for each of the first 100 users.\n",
        "\n",
        "# {TrainUISparseData = sparse.csr_matrix((Train_Data.rating, (Train_Data.userId, Train_Data.movieId))) -\n",
        "# where the columns are movies_id, and the the rows are the users_id, with the values being the rating given to a movie}"
      ]
    },
    {
      "cell_type": "code",
      "execution_count": null,
      "metadata": {
        "id": "NK6TWLZB-c7R"
      },
      "outputs": [],
      "source": [
        "# Calculating user-user similarity only for particular users in our sparse matrix and return user_ids\n",
        "\n",
        "def Calculate_User_User_Similarity(sparseMatrix, user_id, num_of_similar_users=10):\n",
        "  #we ve specified a particular user_id, and given the no_of_similar users we require\n",
        "\n",
        "    if user_id in unique_user_id:\n",
        "        # Calculating the cosine similarity for user_id with all the \"userId\"\n",
        "        #if the user exists in the list of users(unique)\n",
        "\n",
        "        sim = cosine_similarity(sparseMatrix.getrow(user_id), sparseMatrix).ravel()\n",
        "        #calculate the cosine similarity between the given_user and all the other users(all other rows) and then convert into a ONE D array\n",
        "        # Sorting the indexs(user_id) based on the similarity score for all the user ids\n",
        "        #If sim = [1.0, 0.8, 0.2, 0.9], this means:\n",
        "        # The similarity score with User 0 is 1.0, with User 1 is 0.8, with User 2 is 0.2, and with User 3 is 0.9.\n",
        "\n",
        "        top_similar_user_ids = sim.argsort()[::-1]\n",
        "        # Sorted the similarity values in descending order starting from the last and return their indices, not the values.\n",
        "\n",
        "        top_similarity_values = sim[top_similar_user_ids]\n",
        "        #get the similarity values from the indices\n",
        "\n",
        "    return top_similar_user_ids[1: num_of_similar_users+1]\n",
        "    #returns the top similar user ids from 1 to n+1 (skipping the first entry [0] - because that would be the user themself)"
      ]
    },
    {
      "cell_type": "code",
      "execution_count": null,
      "metadata": {
        "id": "P7ZvajxRZOFe"
      },
      "outputs": [],
      "source": [
        "# Getting top 5 users similar to userId: 1\n",
        "\n",
        "#Calculate_User_User_Similarity(sparseMatrix, user_id, num_of_similar_users):\n",
        "similar_users_1 = Calculate_User_User_Similarity(TrainUISparseData, 1, 5)\n",
        "similar_users_1"
      ]
    },
    {
      "cell_type": "markdown",
      "metadata": {
        "id": "rU01nw0IG9wP"
      },
      "source": [
        "---\n",
        "\n",
        "#### **3.3.2 Feature Extraction**\n",
        "\n",
        "Now we can start extracting meaningful features in order to prepare the data for ML algorithms."
      ]
    },
    {
      "cell_type": "code",
      "source": [
        "from google.colab import drive\n",
        "drive.mount('/content/drive')"
      ],
      "metadata": {
        "id": "HgWTKhPn7D3r"
      },
      "execution_count": null,
      "outputs": []
    },
    {
      "cell_type": "code",
      "execution_count": null,
      "metadata": {
        "id": "5G5N7nCJDyWH"
      },
      "outputs": [],
      "source": [
        "# Path for saving/loading files\n",
        "\n",
        "file_path = \"/content\""
      ]
    },
    {
      "cell_type": "code",
      "execution_count": null,
      "metadata": {
        "id": "iSGx8rcl5Skk"
      },
      "outputs": [],
      "source": [
        "# Since the given dataset might not completely fit into computaton capacity that we have, we will sample the data and work it\n",
        "\n",
        "# Function for Sampling random movies and users to reduce the size of rating matrix\n",
        "def get_sample_sparse_matrix(sparseMatrix, n_users, n_movies, matrix_name):\n",
        "\n",
        "    np.random.seed(15)   #this will give same random number everytime, without replacement\n",
        "    startTime = datetime.now()\n",
        "\n",
        "    users, movies, ratings = sparse.find(sparseMatrix)\n",
        "    #sparse.find(sparseMatrix) is a method that returns the indices and values of the non-zero elements in a sparse matrix.\n",
        "    #In the case of a user-item ratings matrix, these are the cells where a user has rated a movie.\n",
        "    # returns the rows for every non-zero rating. if there are two non zero ratings in the first row, we get 0,0 and so forth\n",
        "    #similarly for every column\n",
        "    #ratings - returns the actual non zero values of ratings of each cell.\n",
        "\n",
        "    uniq_users = np.unique(users)\n",
        "    #returns the indices of all unique users\n",
        "    uniq_movies = np.unique(movies)\n",
        "    #returns the indices of all unique movies\n",
        "\n",
        "    userS = np.random.choice(uniq_users, n_users, replace = False)\n",
        "    #randomly sample the population into a sample, with no replacement into n users, n_movies, in one sample from unique_users.\n",
        "\n",
        "    movieS = np.random.choice(uniq_movies, n_movies, replace = False)\n",
        "    #similarly for movies\n",
        "\n",
        "    mask = np.logical_and(np.isin(users, userS), np.isin(movies, movieS))\n",
        "    # A mask is created to select only the ratings that correspond to the sampled users and\n",
        "    # movies using np.isin to check whether each user and movie is in the sampled list\n",
        "    # checks each user index in the users array to see if it is in the userS array (the randomly selected subset of users).\n",
        "    # the result is boolean array of the same length as users\n",
        "    # returns a boolean array where each element is True only\n",
        "    # if the corresponding elements in both input arrays are True. Otherwise, it will be False\n",
        "    # only the ratings where both the user and movie are in the sampled sets are marked as True.\n",
        "    # This mask will then be used to filter the ratings to build the smaller sampled sparse matrix.\n",
        "\n",
        "    sparse_sample = sparse.csr_matrix((ratings[mask], (users[mask], movies[mask])), shape = (max(userS)+1, max(movieS)+1))\n",
        "    #create a Compressed Sparse Row (CSR) format matrix with values of ratings(As tuples) from the sample, are stored in a single box, indexed by the\n",
        "    # row(user) and column(movie) no. from the sample. its shape is the largest user index (max number of users) + 1\n",
        "    # because the indexing starts from 0. therefore max(5) would be 0,1,2,3,4,5 - 6 users. similarly, for the movies as well.\n",
        "\n",
        "    print(\"Sparse Matrix creation done. Saving it for later use.\")\n",
        "    sparse.save_npz(file_path + \"/\" + matrix_name, sparse_sample)\n",
        "    print(\"Shape of Sparse Sampled Matrix = \" + str(sparse_sample.shape))\n",
        "    print(\"Time taken : \", datetime.now() - startTime)\n",
        "\n",
        "    return sparse_sample"
      ]
    },
    {
      "cell_type": "code",
      "execution_count": null,
      "metadata": {
        "id": "8Vr783V36k38"
      },
      "outputs": [],
      "source": [
        "# Creating Sample Sparse Matrix for Train Data\n",
        "\n",
        "if not os.path.isfile(file_path + \"/TrainUISparseData_Sample.npz\"):\n",
        "    print(\"Sample sparse matrix is not present in the disk. We are creating it...\")\n",
        "    train_sample_sparse = get_sample_sparse_matrix(TrainUISparseData, 5000, 1000, \"TrainUISparseData_Sample.npz\")\n",
        "    #get_sample_sparse_matrix(sparseMatrix, n_users, n_movies, matrix_name):\n",
        "\n",
        "else:\n",
        "    print(\"File is already present in the disk. Loading the file...\")\n",
        "    train_sample_sparse = sparse.load_npz(file_path + \"/TrainUISparseData_Sample.npz\")\n",
        "    print(\"Shape of Train Sample Sparse Matrix = \" + str(train_sample_sparse.shape))"
      ]
    },
    {
      "cell_type": "code",
      "execution_count": null,
      "metadata": {
        "id": "dbRxDP937UqG"
      },
      "outputs": [],
      "source": [
        "# Creating Sample Sparse Matrix for Test Data\n",
        "\n",
        "if not os.path.isfile(file_path + \"/TestUISparseData_Sample.npz\"):\n",
        "    print(\"Sample sparse matrix is not present in the disk. We are creating it...\")\n",
        "    test_sample_sparse = get_sample_sparse_matrix(TestUISparseData, 2000, 200, \"TestUISparseData_Sample.npz\")\n",
        "else:\n",
        "    print(\"File is already present in the disk. Loading the file...\")\n",
        "    test_sample_sparse = sparse.load_npz(file_path + \"/TestUISparseData_Sample.npz\")\n",
        "    print(\"Shape of Test Sample Sparse Matrix = \" + str(test_sample_sparse.shape))"
      ]
    },
    {
      "cell_type": "code",
      "execution_count": null,
      "metadata": {
        "id": "jmG6YmgYFflc"
      },
      "outputs": [],
      "source": [
        "# Checking the shape of Training and test data\n",
        "\n",
        "print(\"Shape of Train Sparse Matrix : \", train_sample_sparse.shape)\n",
        "print(\"Shape of Test Sparse Matrix : \", test_sample_sparse.shape)"
      ]
    },
    {
      "cell_type": "code",
      "execution_count": null,
      "metadata": {
        "id": "TkRx0mYhJjcT"
      },
      "outputs": [],
      "source": [
        "# Calculating few GlobalAverageRating, AvgMovieRating, AvgUserRating and TotalNoOfRatings\n",
        "\n",
        "globalAvgRating = np.round((train_sample_sparse.sum()/train_sample_sparse.count_nonzero()), 2)\n",
        "#getAverageRatings(sparseMatrix, if_user)\n",
        "globalAvgMovies = getAverageRatings(train_sample_sparse, False)\n",
        "globalAvgUsers = getAverageRatings(train_sample_sparse, True)\n",
        "print(\"Global average of all movies ratings in Train Set is : \", globalAvgRating)\n",
        "print(\"No. of ratings in the train matrix is : \", train_sample_sparse.count_nonzero())"
      ]
    },
    {
      "cell_type": "code",
      "execution_count": null,
      "metadata": {
        "id": "j22PzgfHJkSD"
      },
      "outputs": [],
      "source": [
        "# Function to extract features and create row using the sparse matrix\n",
        "\n",
        "def CreateFeaturesForTrainData(SampledSparseData, TrainSampledSparseData):\n",
        "#trying to create features for the training data\n",
        "    startTime = datetime.now()\n",
        "\n",
        "    # Extracting userId list, movieId list and Ratings that are non zero\n",
        "    sample_users, sample_movies, sample_ratings = sparse.find(SampledSparseData)\n",
        "\n",
        "    print(\"No. of rows in the returned dataset : \", len(sample_ratings))\n",
        "    #return count of ratings\n",
        "\n",
        "    count = 0\n",
        "    data = []\n",
        "    #data will store each generated feature row for all user-movie-rating triplets\n",
        "\n",
        "    for user, movie, rating in zip(sample_users, sample_movies, sample_ratings):\n",
        "      #creating a single tuple from users, movies, ratings - a triplet\n",
        "\n",
        "        row = list()\n",
        "        #a new row list to store all features for the current triplet.\n",
        "\n",
        "#----------------------------------Appending \"user Id\" average, \"movie Id\" average & global average rating-----------#\n",
        "        row.append(user)\n",
        "        row.append(movie)\n",
        "        row.append(globalAvgRating)\n",
        "\n",
        "#----------------------------------Appending \"user\" average, \"movie\" average & rating of \"user\"\"movie\"-----------#\n",
        "        try:\n",
        "            row.append(globalAvgUsers[user])\n",
        "        except (KeyError):\n",
        "            global_average_rating = globalAvgRating\n",
        "            row.append(global_average_rating)\n",
        "            #The user's average rating (globalAvgUsers[user]) is appended if it exists; otherwise,\n",
        "            #the global average rating is used (to handle cases where there is no prior rating data for that user).\n",
        "        except:\n",
        "            raise\n",
        "        try:\n",
        "            row.append(globalAvgMovies[movie])\n",
        "            #trying to append the average rrating of the movie\n",
        "        except (KeyError):\n",
        "            global_average_rating = globalAvgRating\n",
        "            #append a general global avg in case no prior rating exists\n",
        "            row.append(global_average_rating)\n",
        "        except:\n",
        "            raise\n",
        "\n",
        "#----------------------------------Ratings given to \"movie\" by top 5 similar users with \"user\"--------------------#\n",
        "        try:\n",
        "            similar_users = cosine_similarity(TrainSampledSparseData[user], TrainSampledSparseData).ravel()\n",
        "            #each user’s rating pattern, to indicate how alike they are. The result is a flattened (1D) array similar_users\n",
        "            #where each value shows how similar each user is to the specified user.\n",
        "\n",
        "            similar_users_indices = np.argsort(-similar_users)[1:]\n",
        "            #a list containing the indices of all similar users arranged in descending order, by negating the values -\n",
        "            #excludes the first, since it's the given user themselves\n",
        "\n",
        "            similar_users_ratings = TrainSampledSparseData[similar_users_indices, movie].toarray().ravel()\n",
        "            #tracts the ratings given by these most similar users to the specified movie, converting the results to a 1D array.\n",
        "            #The similar_users_indices array helps select the rows (users) from the sparse matrix, and movie specifies the column (movie) being targeted.\n",
        "\n",
        "            top_similar_user_ratings = list(similar_users_ratings[similar_users_ratings != 0][:5])\n",
        "            #creates a list of the top 5 similar user ratings given to a particular movie, where the rating is not zero for a movie\n",
        "\n",
        "            top_similar_user_ratings.extend([globalAvgMovies[movie]]*(5-len(top_similar_user_ratings)))\n",
        "            #extends adds each iterable object to the list unlike appends which adds as a single object\n",
        "            #above line means that if top 5 ratings are not available then rest of the ratings will be filled by \"movie\" average\n",
        "            #rating. Let say only 3 out of 5 ratings are available then rest 2 will be \"movie\" average rating.\n",
        "\n",
        "            #[globalAvgMovies[movie]] * (5 - len(top_similar_user_ratings)) creates a list that repeats the movie’s average\n",
        "            #rating (globalAvgMovies[movie]) as many times as needed to make up the five total entries.\n",
        "\n",
        "            row.extend(top_similar_user_ratings)\n",
        "            #adds the five values in one step, without having to append five values separately.\n",
        "\n",
        "        #########Cold Start Problem, for a new user or a new movie#########\n",
        "        except (IndexError, KeyError):\n",
        "            global_average_rating = [globalAvgRating]*5\n",
        "            row.extend(global_average_rating)\n",
        "            #f there’s an IndexError or KeyError, it means there was insufficient data for similar users or the movie itself, such as in a cold-start situation (e.g., a new user or new movie).\n",
        "            #In this case, the function adds a list of five global average ratings to the feature row as a fallback.\n",
        "\n",
        "        except:\n",
        "            raise\n",
        "\n",
        "#----------------------------------Ratings given by \"user\" to top 5 similar movies with \"movie\"------------------#\n",
        "        try:\n",
        "            similar_movies = cosine_similarity(TrainSampledSparseData[:,movie].T, TrainSampledSparseData.T).ravel()\n",
        "            #columns to rows and then convert to a 1D array\n",
        "            #selects all users’ ratings for the specified movie and turns the column vector to a row vector and\n",
        "            #then finds similarity between the specified movie and all the movies in the matrix\n",
        "\n",
        "            similar_movies_indices = np.argsort(-similar_movies)[1:]\n",
        "            # sorts the indices of the similar movie list in descending order excluding the movie itself.\n",
        "\n",
        "            similar_movies_ratings = TrainSampledSparseData[user, similar_movies_indices].toarray().ravel()\n",
        "            #extracts the similar movies' ratings for a given user, converts to a oneD array\n",
        "            #collects the ratings that the specified user (user) gave to the top similar movies.\n",
        "\n",
        "             # Before .ravel(): similar_movies_ratings = [[4, 0, 5]]  # shape: (1, 3), a 2D array\n",
        "             # After .ravel() : similar_movies_ratings = [4, 0, 5]  # shape: (3,), a 1D array\n",
        "\n",
        "            top_similar_movie_ratings = list(similar_movies_ratings[similar_movies_ratings != 0][:5])\n",
        "            # creates a list of top 5 similar non-zero movie ratings.\n",
        "\n",
        "            top_similar_movie_ratings.extend([globalAvgUsers[user]]*(5-len(top_similar_movie_ratings)))\n",
        "            #above line means that if top 5 ratings are not available then rest of the ratings will be filled by \"user\" average\n",
        "            #rating. Let say only 3 out of 5 ratings are available then rest 2 will be \"user\" average rating.\n",
        "\n",
        "            row.extend(top_similar_movie_ratings)\n",
        "        ########Cold Start Problem, for a new user or a new movie#########\n",
        "        except (IndexError, KeyError):\n",
        "            global_average_rating = [globalAvgRating] * 5 #add the same value of global average rating 5 times\n",
        "            row.extend(global_average_rating)\n",
        "        except:\n",
        "            raise\n",
        "\n",
        "#----------------------------------Appending rating of \"user\"\"movie\"-----------#\n",
        "        row.append(rating)\n",
        "        #pends the actual rating value (rating) from the (user, movie, rating) triplet to row.\n",
        "        #This rating represents the target variable or label in a supervised learning context,\n",
        "        #which the model aims to predict using the features in row\n",
        "\n",
        "        count += 1\n",
        "\n",
        "        data.append(row)\n",
        "\n",
        "        if count % 5000 == 0:\n",
        "            print(\"Done for {}. Time elapsed: {}\".format(count, (datetime.now() - startTime)))\n",
        "\n",
        "    print(\"Total Time for {} rows = {}\".format(len(data), (datetime.now() - startTime)))\n",
        "    print(\"Completed..\")\n",
        "    return data"
      ]
    },
    {
      "cell_type": "code",
      "execution_count": null,
      "metadata": {
        "id": "F-iqU5rnJkaN"
      },
      "outputs": [],
      "source": [
        "# Using sampled train data, creating Features for each row and saving it into the list\n",
        "\n",
        "data_rows = CreateFeaturesForTrainData(train_sample_sparse, train_sample_sparse)"
      ]
    },
    {
      "cell_type": "code",
      "execution_count": null,
      "metadata": {
        "id": "qz2rH6xlKiLq"
      },
      "outputs": [],
      "source": [
        "# Using sampled train data, creating Features for each row and saving it into the list\n",
        "\n",
        "test_data_rows = CreateFeaturesForTrainData(test_sample_sparse, train_sample_sparse)\n"
      ]
    },
    {
      "cell_type": "code",
      "execution_count": null,
      "metadata": {
        "id": "hhkUkr3JJkge"
      },
      "outputs": [],
      "source": [
        "# Creating the pandas dataframe from the data rows extracted from the sparse matrix for train and test set\n",
        "\n",
        "names = [\"User_ID\", \"Movie_ID\", \"Global_Average\", \"User_Average\", \"Movie_Average\", \"SUR1\", \"SUR2\", \"SUR3\", \"SUR4\", \"SUR5\", \"SMR1\", \"SMR2\", \"SMR3\", \"SMR4\", \"SMR5\", \"Rating\"]\n",
        "train_regression_data = pd.DataFrame(data_rows, columns=names)\n",
        "test_regression_data = pd.DataFrame(test_data_rows, columns=names)"
      ]
    },
    {
      "cell_type": "code",
      "execution_count": null,
      "metadata": {
        "id": "_M5a-6l8axjV"
      },
      "outputs": [],
      "source": [
        "# Saving the df to drive for future use\n",
        "file_path = \"/content\"\n",
        "train_regression_data.to_csv(file_path + \"/Training_Data_For_Regression.csv\")\n",
        "test_regression_data.to_csv(file_path + \"/Testing_Data_For_Regression.csv\")"
      ]
    },
    {
      "cell_type": "code",
      "execution_count": null,
      "metadata": {
        "id": "0SjPHonmZ-p7"
      },
      "outputs": [],
      "source": [
        "# Loading the train and test csv files\n",
        "\n",
        "# Path for saving/loading files\n",
        "file_path = \"/content\"\n",
        "\n",
        "print(\"File is already present in the disk. Loading the file...\")\n",
        "\n",
        "train_regression_data = pd.read_csv(file_path + \"/Training_Data_For_Regression.csv\")\n",
        "train_regression_data = train_regression_data.drop([\"Unnamed: 0\"], axis=1)\n",
        "\n",
        "test_regression_data = pd.read_csv(file_path + \"/Testing_Data_For_Regression.csv\")\n",
        "test_regression_data = test_regression_data.drop([\"Unnamed: 0\"], axis=1)\n",
        "\n",
        "print(\"Done..\")"
      ]
    },
    {
      "cell_type": "code",
      "execution_count": null,
      "metadata": {
        "id": "61MgFPw_nz9l"
      },
      "outputs": [],
      "source": [
        "# Checking the shape and first few records for train data\n",
        "\n",
        "print(\"The shape of the dataframe is : \", train_regression_data.shape)\n",
        "print(\"Number of missing Values : \", train_regression_data.isnull().sum().sum())\n",
        "train_regression_data.head()\n",
        "\n",
        "#User_ID: The unique identifier for each user. This represents the ID of the user who rated a particular movie.\n",
        "\n",
        "# Movie_ID: The unique identifier for each movie. This indicates which movie was rated by the user.\n",
        "\n",
        "# Global_Average: The overall average rating across all users and movies. This serves as a baseline rating in the dataset.\n",
        "\n",
        "# User_Average: The average rating given by a specific user across all movies they have rated. It helps capture a user’s general rating tendency (i.e., whether they tend to rate movies higher or lower on average).\n",
        "\n",
        "# Movie_Average: The average rating received by a specific movie across all users who have rated it. This feature captures the general popularity or quality perception of the movie.\n",
        "\n",
        "# SUR1 to SUR5 (Similar User Ratings): These columns represent ratings of the target movie by the top five users who are most similar to the target user, based on cosine similarity. If fewer than five similar users rated the movie, any missing values are filled with the Movie_Average.\n",
        "\n",
        "# SMR1 to SMR5 (Similar Movie Ratings): These columns represent ratings given by the target user to the top five movies most similar to the target movie (again based on cosine similarity). If fewer than five similar movies have been rated, the User_Average fills in the missing values.\n",
        "\n",
        "# Rating: The actual rating given by the User_ID for the Movie_ID in this row. This is the target variable in a supervised learning context, used to train or evaluate the model."
      ]
    },
    {
      "cell_type": "code",
      "execution_count": null,
      "metadata": {
        "id": "p6ElF5RBYGPz"
      },
      "outputs": [],
      "source": [
        "# Checking the shape and first few records for test data\n",
        "\n",
        "print(\"The shape of the dataframe is : \", test_regression_data.shape)\n",
        "print(\"Number of missing Values : \", test_regression_data.isnull().sum().sum())\n",
        "test_regression_data.head()"
      ]
    },
    {
      "cell_type": "markdown",
      "metadata": {
        "id": "F-_BUSfUD6Mn"
      },
      "source": [
        "Observations:\n",
        "\n",
        "The description of the features are stated below:\n",
        "1. User_ID: ID of a this User\n",
        "2. Movie_ID: ID of a this Movie\n",
        "3. Global_Average: Global Average Rating\n",
        "4. User_Average: Average Rating of this User\n",
        "5. Movie_Average: Average Rating of this Movie\n",
        "6. Ratings given to this Movie by top 5 similar users with this User: (SUR1, SUR2, SUR3, SUR4, SUR5)\n",
        "11. Ratings given by this User to top 5 similar movies with this Movie: (SMR1, SMR2, SMR3, SMR4, SMR5)\n",
        "16. Rating: Rating given by this User to this Movie\n",
        "\n"
      ]
    },
    {
      "cell_type": "markdown",
      "metadata": {
        "id": "sguxPPpXYsUQ"
      },
      "source": [
        "**Transforming Data for Surprise Models**\n",
        "\n",
        "Transforming Train Data:\n",
        "\n",
        "We can't give raw data (movie, user, rating) to train the model in Surprise library. They have a separate format for TRAIN and TEST data, which will be useful for training the models like SVD, KNN, BaseLineOnly, etc.., in Surprise.\n",
        "\n",
        "\n",
        "Transforming Test Data:\n",
        "\n",
        "For test data we just have to define a tuple (user, item, rating).\n"
      ]
    },
    {
      "cell_type": "code",
      "execution_count": null,
      "metadata": {
        "id": "Wn1md9XVn0Fi"
      },
      "outputs": [],
      "source": [
        "train_regression_data[['User_ID', 'Movie_ID', 'Rating']].head(5)"
      ]
    },
    {
      "cell_type": "code",
      "execution_count": null,
      "metadata": {
        "id": "RpmLRuObn0Nf"
      },
      "outputs": [],
      "source": [
        "# Using Surprise library Data Structures to store train data\n",
        "\n",
        "reader = Reader(rating_scale=(1, 5))\n",
        "#Reader class from Surprise specifies the rating scale of the dataset. Here, the ratings range from 1 to 5,\n",
        "#meaning users rated movies on this scale.\n",
        "\n",
        "data = Dataset.load_from_df(train_regression_data[[\"User_ID\", \"Movie_ID\", \"Rating\"]], reader)\n",
        "#Reader object reader ensures that Surprise correctly interprets the rating scale.\n",
        "\n",
        "trainset = data.build_full_trainset()\n",
        "#constructs the entire training dataset for Surprise to use. It transforms the data into a specific Trainset format, which Surprise's algorithms use for training.\n",
        "# trainset now contains all interactions between users and movies, along with each associated rating."
      ]
    },
    {
      "cell_type": "code",
      "execution_count": null,
      "metadata": {
        "id": "27vN25cNn0Vw"
      },
      "outputs": [],
      "source": [
        "# Creating tuple for test set\n",
        "#[(user_id_1, movie_id_1, actual_rating_1), (user_id_2, movie_id_2, actual_rating_2), ...]\n",
        "testset = list(zip(test_regression_data[\"User_ID\"].values, test_regression_data[\"Movie_ID\"].values, test_regression_data[\"Rating\"].values))"
      ]
    },
    {
      "cell_type": "markdown",
      "metadata": {
        "id": "93fagKfprG8u"
      },
      "source": [
        "---\n",
        "\n",
        "## **4. Model Buliding**\n",
        "\n",
        "We will try to build a regression model to predict the rating given by an user to a movie based on the generated fetures.\n",
        "\n",
        "We have two Error Metrics:\n",
        "\n",
        "  - RMSE: Root Mean Square Error: RMSE is the error of each point which is squared. Then mean is calculated. Finally root of that mean is taken as final value.\n",
        "\n",
        "  - MAPE: Mean Absolute Percentage Error: The mean absolute percentage error (MAPE), also known as mean absolute percentage deviation (MAPD), is a measure of prediction accuracy of a forecasting method.\n",
        "\n",
        "    The difference between At and Ft is divided by the actual value At again. The absolute value in this calculation is summed for every forecasted point in time and divided by the number of fitted points n. Multiplying by 100% makes it a percentage error.\n",
        "\n",
        "    where At is the actual value and Ft is the forecast value."
      ]
    },
    {
      "cell_type": "code",
      "execution_count": null,
      "metadata": {
        "id": "U3qGx_WleJvP"
      },
      "outputs": [],
      "source": [
        "# Utilities to save the modelling results\n",
        "\n",
        "error_cols = [\"Model\", \"Train RMSE\", \"Train MAPE\", \"Test RMSE\", \"Test MAPE\"]\n",
        "error_table = pd.DataFrame(columns = error_cols)\n",
        "model_train_evaluation = dict()\n",
        "model_test_evaluation = dict()"
      ]
    },
    {
      "cell_type": "code",
      "execution_count": null,
      "metadata": {
        "id": "lh7IH0k4eJ31"
      },
      "outputs": [],
      "source": [
        "# Function to save modelling results in a table\n",
        "\n",
        "def make_table(model_name, rmse_train, mape_train, rmse_test, mape_test):\n",
        "    global error_table\n",
        "    error_table = error_table.append(pd.DataFrame([[model_name, rmse_train, mape_train, rmse_test, mape_test]], columns = error_cols))\n",
        "    error_table.reset_index(drop = True, inplace = True)"
      ]
    },
    {
      "cell_type": "code",
      "execution_count": null,
      "metadata": {
        "id": "uW_gSguFtORX"
      },
      "outputs": [],
      "source": [
        "# Function to calulate RMSE and MAPE values\n",
        "\n",
        "def error_metrics(y_true, y_pred):\n",
        "    rmse = np.sqrt(mean_squared_error(y_true, y_pred))\n",
        "    mape = np.mean(abs((y_true - y_pred)/y_true))*100\n",
        "    return rmse, mape"
      ]
    },
    {
      "cell_type": "code",
      "execution_count": null,
      "metadata": {
        "id": "ihAwRgjMtVnv"
      },
      "outputs": [],
      "source": [
        "# Apply Xgboost Regressor on the Train and Test Data\n",
        "#XGBoost is a supervised machine learning method for classification and regression and is used by the Train Using AutoML tool.\n",
        "#XGBoost is short for extreme gradient boosting. This method is based on decision trees and improves on other methods such as random forest and gradient boost.\n",
        "#\n",
        "\n",
        "def train_test_xgboost(x_train, x_test, y_train, y_test, model_name):\n",
        "\n",
        "    startTime = datetime.now()\n",
        "    train_result = dict()\n",
        "    test_result = dict()\n",
        "\n",
        "    clf = xgb.XGBRegressor(n_estimators = 100, verbosity = 1, n_jobs  = 10)\n",
        "    # n_estimators is the number of trees in the ensemble,\n",
        "    # max_depth controls the depth of each tree (deeper trees capture more detail),\n",
        "    # learning_rate controls the contribution of each tree to the final prediction.\n",
        "    # n_jobs=10 means that the model will use up to 10 CPU cores if they’re available, which can significantly\n",
        "    # speed up the training process, especially for large datasets.\n",
        "\n",
        "    clf.fit(x_train, y_train)\n",
        "    #X (Features): This is the matrix of input features (e.g., user/movie averages, similar user ratings). Each row represents one data point (like a user-movie pair in your recommendation\n",
        "    # dataset), and each column is a feature.\n",
        "    # (Target/Label): This is the vector of target values you want the model to predict—in your case,\n",
        "    #the actual user-movie ratings. This tells the model what it’s supposed to learn in terms of output.\n",
        "\n",
        "    print(\"-\" * 50)\n",
        "    print(\"TRAIN DATA\")\n",
        "\n",
        "    y_pred_train = clf.predict(x_train)\n",
        "    #Predicts ratings for the training data to evaluate how well the model fits the training set\n",
        "\n",
        "    rmse_train, mape_train = error_metrics(y_train, y_pred_train)\n",
        "#y_train: This is the actual ratings vector for the training data, which contains the true ratings that users gave to movies in the dataset.\n",
        "#y_pred_train: This is the predicted ratings vector generated by the model for the training data. These are the model’s predictions\n",
        "#for what it \"thinks\" the ratings should be for each user-movie pair.\n",
        "\n",
        "    print(\"RMSE : {}\".format(rmse_train))\n",
        "    print(\"MAPE : {}\".format(mape_train))\n",
        "\n",
        "    train_result = {\"RMSE\": rmse_train, \"MAPE\": mape_train, \"Prediction\": y_pred_train}\n",
        "    #dictionary\n",
        "\n",
        "    print(\"-\" * 50)\n",
        "    print(\"TEST DATA\")\n",
        "\n",
        "    y_pred_test = clf.predict(x_test)\n",
        "    #akes predictions on the test dataset to evaluate model performance on unseen data.\n",
        "\n",
        "    rmse_test, mape_test = error_metrics(y_test, y_pred_test)\n",
        "    #Calculates RMSE and MAPE for test data\n",
        "\n",
        "    print(\"RMSE : {}\".format(rmse_test))\n",
        "    print(\"MAPE : {}\".format(mape_test))\n",
        "\n",
        "    test_result = {\"RMSE\": rmse_test, \"MAPE\": mape_test, \"Prediction\": y_pred_test}\n",
        "    #test_result is a dictionary that stores these values for RMSE< MAPE, predicitons\n",
        "\n",
        "    print(\"-\"*50)\n",
        "    print(\"Time Taken : \", datetime.now() - startTime)\n",
        "\n",
        "    plot_importance(xgb, clf)\n",
        "    #represents an instance of the XGBRegressor model from the xgboost library.\n",
        "\n",
        "    make_table(model_name, rmse_train, mape_train, rmse_test, mape_test)\n",
        "\n",
        "\n",
        "    return train_result, test_result\n",
        "\n",
        "# Function to plot feature importance for a model\n",
        "\n",
        "def plot_importance(model, clf):\n",
        "\n",
        "    sns.set(style=\"darkgrid\")\n",
        "    fig = plt.figure(figsize = (25, 5))\n",
        "    ax = fig.add_axes([0, 0, 1, 1])\n",
        "    #The dimensions (left, bottom, width, height) of the new Axes. All quantities are in fractions of figure width and height.\n",
        "\n",
        "    model.plot_importance(clf, ax = ax, height = 0.3)\n",
        "    #Uses XGBoost's built-in function to plot feature importance.\n",
        "    # clf: The trained XGBoost model.\n",
        "    # ax=ax: Specifies where to place the plot within the figure.\n",
        "    # height=0.3: Sets bar height in the plot.\n",
        "\n",
        "    plt.xlabel(\"F Score\", fontsize = 20)\n",
        "    plt.ylabel(\"Features\", fontsize = 20)\n",
        "    plt.title(\"Feature Importance\", fontsize = 20)\n",
        "    plt.tick_params(labelsize = 15)\n",
        "    plt.show()"
      ]
    },
    {
      "cell_type": "code",
      "execution_count": null,
      "metadata": {
        "id": "kRDoAkf-tV_j"
      },
      "outputs": [],
      "source": [
        "# in surprise prediction of every data point is returned as dictionary like this:\n",
        "#predictions is a list of prediction objects from Surprise, each containing keys like \"user\", \"item\", \"r_ui\" (the actual rating), and \"est\" (the estimated rating).\n",
        "# \"user: 196        item: 302        r_ui = 4.00   est = 4.06   {'actual_k': 40, 'was_impossible': False}\"\n",
        "# In this dictionary, \"r_ui\" is a key for actual rating and \"est\" is a key for predicted rating\n",
        "\n",
        "def get_ratings(predictions):\n",
        "    actual = np.array([pred.r_ui for pred in predictions])\n",
        "    #creates an array that contains the acutal ratings in the pred object of perdictions list\n",
        "\n",
        "    predicted = np.array([pred.est for pred in predictions])\n",
        "    #similar array for the estimated or predicted ratings values\n",
        "    return actual, predicted\n",
        "\n",
        "def get_error(predictions):\n",
        "    actual, predicted = get_ratings(predictions)\n",
        "    #calls the get_Ratings function to get the actual and predicted values lists.\n",
        "\n",
        "    rmse = np.sqrt(mean_squared_error(actual, predicted))\n",
        "    mape = np.mean(abs((actual - predicted)/actual))*100\n",
        "    return rmse, mape"
      ]
    },
    {
      "cell_type": "code",
      "execution_count": null,
      "metadata": {
        "id": "FPvs450ttWF_"
      },
      "outputs": [],
      "source": [
        "my_seed = 15\n",
        "random.seed(my_seed)\n",
        "np.random.seed(my_seed)\n",
        "\n",
        "# Running Surprise model algorithms\n",
        "def run_surprise(algo, trainset, testset, model_name):\n",
        "  #The function will return two dictionaries (train and test),\n",
        "  #which will store evaluation metrics for the training and testing datasets.\n",
        "\n",
        "    startTime = datetime.now()\n",
        "\n",
        "    train = dict()\n",
        "    test = dict()\n",
        "\n",
        "    algo.fit(trainset)\n",
        "\n",
        "#-----------------Evaluating Train Data------------------#\n",
        "    print(\"-\"*50)\n",
        "    print(\"TRAIN DATA\")\n",
        "    train_pred = algo.test(trainset.build_testset())\n",
        "    #creates a test set from the training data, containing all user-item pairs for which ratings are available.\n",
        "    #algo.test() then evaluates these pairs, generating predictions for each.\n",
        "\n",
        "    train_actual, train_predicted = get_ratings(train_pred)\n",
        "#The function will return two lists: one for actual ratings and another for predicted ratings.\n",
        "\n",
        "    train_rmse, train_mape = get_error(train_pred)\n",
        "  #Tuple of two floats (float), representing RMSE and MAPE.\n",
        "\n",
        "    print(\"RMSE = {}\".format(train_rmse))\n",
        "    print(\"MAPE = {}\".format(train_mape))\n",
        "    train = {\"RMSE\": train_rmse, \"MAPE\": train_mape, \"Prediction\": train_predicted}\n",
        "\n",
        "#-----------------Evaluating Test Data------------------#\n",
        "    print(\"-\"*50)\n",
        "    print(\"TEST DATA\")\n",
        "    test_pred = algo.test(testset)\n",
        "    #algo.test()- generates the predictions for test_set\n",
        "\n",
        "    test_actual, test_predicted = get_ratings(test_pred)\n",
        "    #extract actual and predicted ratings.\n",
        "\n",
        "    test_rmse, test_mape = get_error(test_pred)\n",
        "    print(\"RMSE = {}\".format(test_rmse))\n",
        "    print(\"MAPE = {}\".format(test_mape))\n",
        "    test = {\"RMSE\": test_rmse, \"MAPE\": test_mape, \"Prediction\": test_predicted}\n",
        "\n",
        "    print(\"-\"*50)\n",
        "    print(\"Time Taken = \"+str(datetime.now() - startTime))\n",
        "\n",
        "    make_table(model_name, train_rmse, train_mape, test_rmse, test_mape)\n",
        "\n",
        "    return train, test"
      ]
    },
    {
      "cell_type": "markdown",
      "metadata": {
        "id": "LHtvOEiSxlJr"
      },
      "source": [
        "### **4.1 Train/test Splitting**\n",
        "\n",
        "We can split the data for train/test and segregate the independent and dependent features."
      ]
    },
    {
      "cell_type": "code",
      "execution_count": null,
      "metadata": {
        "id": "j4hVN2K5xPhg"
      },
      "outputs": [],
      "source": [
        "# Creating the train-test X and y variables for the ML algos\n",
        "\n",
        "x_train = train_regression_data.drop([\"User_ID\", \"Movie_ID\", \"Rating\"], axis = 1)\n",
        "#Here, x_train is created by removing (dropping) the columns User_ID, Movie_ID, and Rating from the train_regression_data DataFrame.\n",
        "#User_ID and Movie_ID are likely identifiers for the user and movie, which aren't useful as features for training a regression model, as they don’t provide information about the relationship between features and the rating outcome.\n",
        "#Rating is removed because it’s the target variable (or label) we are trying to predict, so it should be kept separate from the features. Including Rating as a feature would make the model \"cheat\" by already knowing the outcome.\n",
        "\n",
        "x_test = test_regression_data.drop([\"User_ID\", \"Movie_ID\", \"Rating\"], axis = 1)\n",
        "\n",
        "y_train = train_regression_data[\"Rating\"]\n",
        "y_test = test_regression_data[\"Rating\"]\n"
      ]
    },
    {
      "cell_type": "markdown",
      "metadata": {
        "id": "tHOzB0awyLbh"
      },
      "source": [
        "### **4.2 Model Fitting**\n",
        "\n",
        "Fitting various models and checking its accuracy.\n"
      ]
    },
    {
      "cell_type": "code",
      "execution_count": null,
      "metadata": {
        "id": "d9oMa_4pxdav"
      },
      "outputs": [],
      "source": [
        "# Training the Xgboost Regression Model on with the 13 features\n",
        "\n",
        "train_result, test_result = train_test_xgboost(x_train, x_test, y_train, y_test, \"XGBoost_13\")\n",
        "#train the xgboost regression model.\n",
        "model_train_evaluation[\"XGBoost_13\"] = train_result\n",
        "model_test_evaluation[\"XGBoost_13\"] = test_result"
      ]
    },
    {
      "cell_type": "markdown",
      "metadata": {
        "id": "ck-ADocdz0Pf"
      },
      "source": [
        "Observations:\n",
        "\n",
        "1. \"User_Average\" by far seems to be the most important feature for rating prediction.\n",
        "2. \"Movie_Average\" is the second most important feature to predict the ratings.\n",
        "3. The top 5 Similar User ratings and top 5 Similar Movie Ratings doesn't seems to be the effective features."
      ]
    },
    {
      "cell_type": "code",
      "execution_count": null,
      "metadata": {
        "id": "_8aRMLGKxdjd"
      },
      "outputs": [],
      "source": [
        "# Applying BaselineOnly from the surprise library to predict the ratings\n",
        "# BaselineOnly model in Surprise calculates a predicted rating for a user-item pair by combining the global average rating with user and item biases.\n",
        "# The predicted rating for a user uu and item ii can be represented as:\n",
        "# prediction=global_mean+user_bias[u]+item_bias[i]\n",
        "# prediction=global_mean+user_bias[u]+item_bias[i]\n",
        "# This means that BaselineOnly doesn’t consider interactions between users and items beyond these biases\n",
        "\n",
        "bsl_options = {\"method\":\"sgd\", \"learning_rate\":0.01, \"n_epochs\":25}\n",
        "# #method: The method for optimization, set to \"sgd\", which stands for Stochastic Gradient Descent. This is the optimization algorithm used to minimize the error during training.\n",
        "# learning_rate: The step size for the SGD optimizer, set to 0.01. This controls how much thewhat model adjusts its parameters with each step.\n",
        "# n_epochs: The number of training epochs, set to 25. This determines how many times the model iterates over the data to refine the baseline estimates.\n",
        "\n",
        "algo = BaselineOnly(bsl_options=bsl_options)\n",
        "#BaselineOnly algorithm from the Surprise library with the specified bsl_options.\n",
        "#BaselineOnly is a simple algorithm that predicts ratings based on baseline estimates (such as user and item biases).\n",
        "#Purpose: BaselineOnly is used to generate baseline predictions by adjusting for the general tendency of each user (e.g., some users give consistently higher\n",
        "#or lower ratings) and each item (e.g., some items are generally rated higher).\n",
        "\n",
        "train_result, test_result = run_surprise(algo, trainset, testset, \"BaselineOnly\")\n",
        "# #algo: The BaselineOnly model initialized with specified hyperparameters.\n",
        "# trainset: The training dataset, typically a surprise.Trainset object.\n",
        "# testset: The test dataset, containing unseen data to evaluate the model.\n",
        "# \"BaselineOnly\": This string argument may be used to label the model within the run_surprise function\n",
        "\n",
        "model_train_evaluation[\"BaselineOnly\"] = train_result\n",
        "model_test_evaluation[\"BaselineOnly\"] = test_result"
      ]
    },
    {
      "cell_type": "code",
      "execution_count": null,
      "metadata": {
        "id": "hWo35mUvxdrG"
      },
      "outputs": [],
      "source": [
        "# Adding predicted ratings from Surprise BaselineOnly model to our Train and Test Dataframe\n",
        "\n",
        "train_regression_data[\"BaselineOnly\"] = model_train_evaluation[\"BaselineOnly\"][\"Prediction\"]\n",
        "#creates a new column  \"baselineonly\" -\n",
        "#This accesses the list of predicted ratings from model_train_evaluation.\n",
        "#model_train_evaluation[\"BaselineOnly\"][\"Prediction\"]: This accesses the list of predicted ratings from model_train_evaluation.\n",
        "test_regression_data[\"BaselineOnly\"] = model_test_evaluation[\"BaselineOnly\"][\"Prediction\"]\n",
        "\n",
        "#model train evaluation is a dictionary of dictionary."
      ]
    },
    {
      "cell_type": "code",
      "execution_count": null,
      "metadata": {
        "id": "u97Z1mevPEWC"
      },
      "outputs": [],
      "source": [
        "train_regression_data.head()"
      ]
    },
    {
      "cell_type": "code",
      "execution_count": null,
      "metadata": {
        "id": "VOWZ4lCEPhmK"
      },
      "outputs": [],
      "source": [
        "test_regression_data.head()"
      ]
    },
    {
      "cell_type": "code",
      "execution_count": null,
      "metadata": {
        "id": "4xkzVWl4PiMI"
      },
      "outputs": [],
      "source": [
        "# Fitting the Xgboost again with new BaselineOnly feature\n",
        "\n",
        "x_train = train_regression_data.drop([\"User_ID\", \"Movie_ID\", \"Rating\"], axis = 1)\n",
        "x_test = test_regression_data.drop([\"User_ID\", \"Movie_ID\", \"Rating\"], axis = 1)\n",
        "\n",
        "y_train = train_regression_data[\"Rating\"]\n",
        "y_test = test_regression_data[\"Rating\"]\n",
        "\n",
        "train_result, test_result = train_test_xgboost(x_train, x_test, y_train, y_test, \"XGB_BSL\")\n",
        "\n",
        "model_train_evaluation[\"XGB_BSL\"] = train_result\n",
        "#a dictionary that stores the value of the algorithm's evaluation metrics, given by the train_result dictionary(rmse, mape, predictions)\n",
        "model_test_evaluation[\"XGB_BSL\"] = test_result\n",
        "\n",
        "#BaselineOnly predictions as a feature in x_train and x_test, you provide the XGBoost model with more information that captures general rating trends. This gives XGBoost a foundation of baseline predictions\n",
        "#from which it can learn further, capturing additional complexity.\n"
      ]
    },
    {
      "cell_type": "markdown",
      "metadata": {
        "id": "MWu3LQlS2t8V"
      },
      "source": [
        "Observations:\n",
        "\n",
        "1. The \"BaselineOnly\" feature is also not an important feature."
      ]
    },
    {
      "cell_type": "code",
      "execution_count": null,
      "metadata": {
        "id": "gR81n3RDPiUi"
      },
      "outputs": [],
      "source": [
        "# Finding the suitable parameter for Surprise KNN-Baseline with User-User Similarity\n",
        "\n",
        "param_grid  = {'sim_options':{'name': [\"pearson_baseline\"], \"user_based\": [True], \"min_support\": [2], \"shrinkage\": [60, 80, 80, 140]}, 'k': [5, 20, 40, 80]}\n",
        "#uses pearson correlation  (baseline)\n",
        "#user-user based similarity matrix corresponding to collaborative filtering: wherein we're trying to find similarity between two users based on the items they rate (similar preferences)\n",
        "# Sets the minimum number of common ratings required to compute similarity between two users. A value of 2 is specified here to ensure that at least two common items exist.\n",
        "# values of shrinkage coefficients to regularise in case of overfitting\n",
        "# number of nearest neighbors (k-NN) to consider in the model. The grid search will test different values (5, 20, 40, 80) to find the best-performing one.\n",
        "\n",
        "gs = GridSearchCV(KNNBaseline, param_grid, measures=['rmse', 'mae'], cv=3)\n",
        "#GRIDSEARCHCV is a method to tune hyperparameters by testing all parameters in a predefined set (parameter grid). Each model variation is then cross-validated. the models are evaluated using\n",
        "#a specified evaluation metric. (RMSE, MAPE)\n",
        "#After running all combinations, GridSearchCV provides the best parameter set (best_params_), the best score (best_score_), and the model trained on that best parameter set (best_estimator_).\n",
        "\n",
        "#1) model to be run\n",
        "#2) contains the hyperparameters to search through (given above)\n",
        "#3) cv=3,  specifying 3-fold cross-validation for each parameter combination.\n",
        "#The dataset D is split into three equally sized subsets. The fitting and evaluation procedure of the model is repeated three times,\n",
        "#with a different subset serving as training sample each time. The performances of the three test sets are aggregated to a final score.\n",
        "\n",
        "gs.fit(data)\n",
        "\n",
        "# best RMSE score\n",
        "print(gs.best_score['rmse'])\n",
        "# combination of parameters that gave the best RMSE score\n",
        "print(gs.best_params['rmse'])"
      ]
    },
    {
      "cell_type": "code",
      "execution_count": null,
      "metadata": {
        "id": "s413sLXYXQ3K"
      },
      "outputs": [],
      "source": [
        "# Applying the KNN-Baseline with the searched parameters\n",
        "#performing a grid search to find the best parameters for the KNN-Baseline model in the Surprise library, specifically with user-user similarity settings\n",
        "#similarity matrix produced by the model will use the Pearson baseline method and return similarity scores as float values for each user-user pair\n",
        "\n",
        "sim_options = {'name':'pearson_baseline', 'user_based':True, 'min_support':2, 'shrinkage':gs.best_params['rmse']['sim_options']['shrinkage']}\n",
        "#1)pearson_baseline\" as the similarity metric, which is a variation of Pearson correlation adjusted to reduce noise.\n",
        "#2)User-user similarity : user-user collaborative filtering. This approach is often preferred when recommending items based on similar user preferences rather than item-item characteristics.\n",
        "#3)Sets the minimum number of common ratings required to compute similarity between two users. A value of 2 is specified here to ensure that at least two common items exist.\n",
        "#ng min_support=2 helps reduce noise by ensuring that similarity calculations are only made when there’s a reasonable amount of data to base the similarity score on.\n",
        "#4)shrinkage: shrinkage regularizes similarity scores to avoid overestimating the similarity between users who have only rated a few items in common. This adjustment reduces the impact of users who might coincidentally\n",
        "# rate a few items the same but aren’t truly similar in their broader preferences.\n",
        "# Different values of shrinkage are tested to see which degree of regularization provides the best results.\n",
        "# Lower shrinkage (e.g., 60) means the similarity scores are closer to their original values, while higher shrinkage (e.g., 140) smooths them more, reducing the impact of a few co-rated items.\n",
        "# Finding the optimal shrinkage helps balance between relying on co-rated items and mitigating any outliers or noise.\n",
        "# (gs.best_params['rmse']) return a dictionary that includes the optimal values for each parameter (e.g., \"shrinkage\": 80, \"k\": 40).\n",
        "# GridSearch is a method to tune the hyperparameters\n",
        "\n",
        "bsl_options = {'method': 'sgd'}\n",
        "#Using method: 'sgd' means the model will adjust these biases iteratively through SGD, often leading to better performance.\n",
        "#stochastic gradient descent\n",
        "\n",
        "algo = KNNBaseline(k = gs.best_params['rmse']['k'], sim_options = sim_options, bsl_options=bsl_options)\n",
        "#algorithm = KNN_Baseline;\n",
        "\n",
        "train_result, test_result = run_surprise(algo, trainset, testset, \"KNNBaseline_User\")\n",
        "#store the train and test results, using the run_surprise method.\n",
        "\n",
        "model_train_evaluation[\"KNNBaseline_User\"] = train_result\n",
        "#dictionary stores the dictionary for KNN BASELINE METRIC EVALUATION.\n",
        "model_test_evaluation[\"KNNBaseline_User\"] = test_result"
      ]
    },
    {
      "cell_type": "code",
      "execution_count": null,
      "metadata": {
        "id": "Xnvfcx_IP8Nb"
      },
      "outputs": [],
      "source": [
        "# Similarly finding best parameters for Surprise KNN-Baseline with Item-Item Similarity\n",
        "#If the dataset has a high number of users but each user rates only a small subset of items, it can be challenging to find enough meaningful user-user similarities. In such cases, item-item similarity often works better because the same items tend to get rated by many users, providing a stronger basis for similarity.\n",
        "#By calculating item-item similarities, you can still make effective recommendations even if individual users have rated only a few items.\n",
        "\n",
        "param_grid  = {'sim_options':{'name': [\"pearson_baseline\"], \"user_based\": [False], \"min_support\": [2], \"shrinkage\": [60, 80, 80, 140]}, 'k': [5, 20, 40, 80]}\n",
        "# we've set the user-based to FALSE: to create an item-item based similarity matrix\n",
        "\n",
        "gs = GridSearchCV(KNNBaseline, param_grid, measures=['rmse', 'mae'], cv=3)\n",
        "#create a grid_search cv object, for knn basline, with the same parameter_grid, with 3 cv sets, and the same measures as before.\n",
        "\n",
        "gs.fit(data)\n",
        "#fit the data\n",
        "\n",
        "# best RMSE score\n",
        "print(gs.best_score['rmse'])\n",
        "\n",
        "# combination of parameters that gave the best RMSE score\n",
        "print(gs.best_params['rmse'])"
      ]
    },
    {
      "cell_type": "code",
      "execution_count": null,
      "metadata": {
        "id": "U7Z9aOmVe_xJ"
      },
      "outputs": [],
      "source": [
        "# Applying KNN-Baseline with best parameters searched\n",
        "\n",
        "sim_options = {'name':'pearson_baseline', 'user_based':False, 'min_support':2, 'shrinkage':gs.best_params['rmse']['sim_options']['shrinkage']}\n",
        "#First Approach (User-User Similarity): In the first setup, you were performing grid search and evaluation using user-user similarity for the KNNBaseline model.\n",
        "#Second Approach (Item-Item Similarity): Here, you are applying item-item similarity for the same KNNBaseline model, but with a different set of parameters that are optimized for item-item collaborative filtering.\n",
        "\n",
        "bsl_options = {'method': 'sgd'}\n",
        "#stochastic gradient method\n",
        "\n",
        "algo = KNNBaseline(k = gs.best_params['rmse']['k'], sim_options = sim_options, bsl_options=bsl_options)\n",
        "#algorithm = knnbaseline, with the value of k as obtained(optimal) from the gs.bestparam[rmse](dictionary)'s value for K\n",
        "\n",
        "train_result, test_result = run_surprise(algo, trainset, testset, \"KNNBaseline_Item\")\n",
        "#run the algo on the train and test set and find the results stored in teh trainresult and test result dictionaries.\n",
        "\n",
        "model_train_evaluation[\"KNNBaseline_Item\"] = train_result\n",
        "#put the disctionary(train_result) inside the dictionary with key KNN BASELINE_ITEM\n",
        "model_test_evaluation[\"KNNBaseline_Item\"] = test_result\n",
        "#similarylt for test data."
      ]
    },
    {
      "cell_type": "code",
      "execution_count": null,
      "metadata": {
        "id": "wsaBV9Dee_4W"
      },
      "outputs": [],
      "source": [
        "# Addding the KNNBaseline features to the train and test dataset\n",
        "\n",
        "train_regression_data[\"KNNBaseline_User\"] = model_train_evaluation[\"KNNBaseline_User\"][\"Prediction\"]\n",
        "train_regression_data[\"KNNBaseline_Item\"] = model_train_evaluation[\"KNNBaseline_Item\"][\"Prediction\"]\n",
        "#The code assigns predictions made by a KNN-based baseline model for both \"User\" and \"Item\" to train_regression_data.\n",
        "\n",
        "test_regression_data[\"KNNBaseline_User\"] = model_test_evaluation[\"KNNBaseline_User\"][\"Prediction\"]\n",
        "test_regression_data[\"KNNBaseline_Item\"] = model_test_evaluation[\"KNNBaseline_Item\"][\"Prediction\"]"
      ]
    },
    {
      "cell_type": "code",
      "execution_count": null,
      "metadata": {
        "id": "VXyEnuqyP8ZT"
      },
      "outputs": [],
      "source": [
        "train_regression_data.head()"
      ]
    },
    {
      "cell_type": "code",
      "execution_count": null,
      "metadata": {
        "id": "PLiU_CQZi54v"
      },
      "outputs": [],
      "source": [
        "test_regression_data.head()"
      ]
    },
    {
      "cell_type": "code",
      "execution_count": null,
      "metadata": {
        "id": "bHXSFZKMi6AP"
      },
      "outputs": [],
      "source": [
        "# Applying Xgboost with the KNN-Baseline newly added features\n",
        "\n",
        "x_train = train_regression_data.drop([\"User_ID\", \"Movie_ID\", \"Rating\"], axis = 1)\n",
        "x_test = test_regression_data.drop([\"User_ID\", \"Movie_ID\", \"Rating\"], axis = 1)\n",
        "\n",
        "y_train = train_regression_data[\"Rating\"]\n",
        "y_test = test_regression_data[\"Rating\"]\n",
        "\n",
        "train_result, test_result = train_test_xgboost(x_train, x_test, y_train, y_test, \"XGB_BSL_KNN\")\n",
        "\n",
        "model_train_evaluation[\"XGB_BSL_KNN\"] = train_result\n",
        "model_test_evaluation[\"XGB_BSL_KNN\"] = test_result"
      ]
    },
    {
      "cell_type": "markdown",
      "metadata": {
        "id": "gXq9kbgY3U4d"
      },
      "source": [
        "Observations:\n",
        "\n",
        "1. The KNN Baseline features are also not an effective predictor."
      ]
    },
    {
      "cell_type": "code",
      "execution_count": null,
      "metadata": {
        "id": "dBr_3oOavecn"
      },
      "outputs": [],
      "source": [
        "# Appling the SlopeOne algorithm from the Surprise library\n",
        "\n",
        "so = SlopeOne()\n",
        "\n",
        "train_result, test_result = run_surprise(so, trainset, testset, \"SlopeOne\")\n",
        "#store the evaluation results in model_train_evaluation and model_test_evaluation dictionaries\n",
        "model_train_evaluation[\"SlopeOne\"] = train_result\n",
        "model_test_evaluation[\"SlopeOne\"] = test_result"
      ]
    },
    {
      "cell_type": "code",
      "execution_count": null,
      "metadata": {
        "id": "txZf2PxLzMBV"
      },
      "outputs": [],
      "source": [
        "# Adding the SlopOne predictions to the train and test datasets\n",
        "\n",
        "train_regression_data[\"SlopeOne\"] = model_train_evaluation[\"SlopeOne\"][\"Prediction\"]\n",
        "train_regression_data[\"SlopeOne\"] = model_train_evaluation[\"SlopeOne\"][\"Prediction\"]\n",
        "\n",
        "test_regression_data[\"SlopeOne\"] = model_test_evaluation[\"SlopeOne\"][\"Prediction\"]\n",
        "test_regression_data[\"SlopeOne\"] = model_test_evaluation[\"SlopeOne\"][\"Prediction\"]"
      ]
    },
    {
      "cell_type": "code",
      "execution_count": null,
      "metadata": {
        "id": "GyAlM4pNjsQa"
      },
      "outputs": [],
      "source": [
        "# Matrix Factorization using SVD from Surprise Library\n",
        "\n",
        "# here, n_factors is the equivalent to dimension 'd' when matrix 'A'\n",
        "# is broken into 'b' and 'c'. So, matrix 'A' will be of dimension n*m. So, matrices 'b' and 'c' will be of dimension n*d and m*d.\n",
        "param_grid  = {'n_factors': [5,7,10,15,20,25,35,50,70,90]}\n",
        "#n_factors is the number of latent factors we’re trying to find the best value for.\n",
        "# If n_factors is too small, the model might miss important patterns (e.g., it may not capture all movie genres or user preferences).\n",
        "# If n_factors is too large, the model may \"overfit,\" learning noise instead of real preferences, which could reduce its generalization to new data.\n",
        "# If A has dimensions n×mn×m, the factor matrices b and c will be of size n×dn×d and m×dm×d, where d = n_factors\n",
        "\n",
        "gs = GridSearchCV(SVD, param_grid, measures=['rmse', 'mae'], cv=3)\n",
        "#SVD is the algorithm used to perform matrix factorization.\n",
        "# GridSearchCV tests each value of n_factors in param_grid to see which number of latent factors results in the most accurate predictions.\n",
        "# It does this by measuring the RMSE (Root Mean Squared Error) and MAE (Mean Absolute Error) across three different cross-validation splits (i.e., cv=3).\n",
        "\n",
        "gs.fit(data)\n",
        "\n",
        "# best RMSE score\n",
        "print(gs.best_score['rmse'])\n",
        "\n",
        "# combination of parameters that gave the best RMSE score\n",
        "print(gs.best_params['rmse'])"
      ]
    },
    {
      "cell_type": "markdown",
      "source": [
        "n recommendation systems, matrix factorization is a technique that breaks down a large matrix (like a user-item rating matrix) into smaller matrices. This helps reveal hidden patterns or \"latent factors\" that explain users' preferences and items' characteristics.\n",
        "\n",
        "For example:\n",
        "\n",
        "    Suppose you have a matrix AA representing user ratings, with dimensions n×mn×m, where nn is the number of users and mm is the number of items.\n",
        "    Matrix factorization breaks down AA into two matrices, BB and CC, where:\n",
        "        BB has dimensions n×dn×d\n",
        "        CC has dimensions m×dm×d\n",
        "        dd is the number of latent factors and is controlled by the parameter n_factors in the Surprise SVD model.\n",
        "\n",
        "The goal is to choose n_factors so that BB and CC can reconstruct AA as accurately as possible. In recommendation systems, each latent factor can represent an underlying feature of user or item preferences, such as genre preference for movies or age-related preferences."
      ],
      "metadata": {
        "id": "2P5YCdTKEP8Z"
      }
    },
    {
      "cell_type": "code",
      "execution_count": null,
      "metadata": {
        "id": "AcDl9ohMjsby"
      },
      "outputs": [],
      "source": [
        "# Applying SVD with best parameters\n",
        "\n",
        "algo = SVD(n_factors = gs.best_params['rmse']['n_factors'], biased=True, verbose=True)\n",
        "\n",
        "train_result, test_result = run_surprise(algo, trainset, testset, \"SVD\")\n",
        "#stores the value of the train and test result in the dcitioantires\n",
        "\n",
        "model_train_evaluation[\"SVD\"] = train_result\n",
        "#sotre that dictionary in the corresponding algorithm's dictionary.\n",
        "model_test_evaluation[\"SVD\"] = test_result"
      ]
    },
    {
      "cell_type": "code",
      "execution_count": null,
      "metadata": {
        "id": "dFHZWzsIjsj6"
      },
      "outputs": [],
      "source": [
        "# Matrix Factorization SVDpp with implicit feedback\n",
        "\n",
        "# Hyper-parameter optimization for SVDpp\n",
        "param_grid = {'n_factors': [10, 30, 50, 80, 100], 'lr_all': [0.002, 0.006, 0.018, 0.054, 0.10]}\n",
        "# Controls the number of latent factors used to represent users and items. This is part of the core matrix factorization process, where higher values can capture more complex patterns but might lead to overfitting.\n",
        "#his is the learning rate for the model. It controls how quickly the model learns by adjusting factors based on the error in each iteration.\n",
        "# A lower learning rate (e.g., 0.002) can lead to slower, more stable convergence, while a higher rate (e.g., 0.10) may lead to faster but potentially unstable training.\n",
        "\n",
        "gs = GridSearchCV(SVDpp, param_grid, measures=['rmse', 'mae'], cv=3)\n",
        "# we re usign the SVDpp, with parameterr grid defined earlier, and the measures being rmse, and mae, with Cross validation of 3\n",
        "gs.fit(data)\n",
        "\n",
        "# best RMSE score\n",
        "print(gs.best_score['rmse'])\n",
        "\n",
        "# combination of parameters that gave the best RMSE score\n",
        "print(gs.best_params['rmse'])"
      ]
    },
    {
      "cell_type": "code",
      "execution_count": null,
      "metadata": {
        "id": "gXFYvjDSNrot"
      },
      "outputs": [],
      "source": [
        "#Applying SVDpp with best parameters¶\n",
        "\n",
        "algo = SVDpp(n_factors = gs.best_params['rmse']['n_factors'], lr_all = gs.best_params['rmse'][\"lr_all\"], verbose=True)\n",
        "\n",
        "train_result, test_result = run_surprise(algo, trainset, testset, \"SVDpp\")\n",
        "\n",
        "model_train_evaluation[\"SVDpp\"] = train_result\n",
        "model_test_evaluation[\"SVDpp\"] = test_result"
      ]
    },
    {
      "cell_type": "code",
      "execution_count": null,
      "metadata": {
        "id": "EF9iguN0Nr4K"
      },
      "outputs": [],
      "source": [
        "# XGBoost 13 Features + Surprise BaselineOnly + Surprise KNN Baseline + SVD + SVDpp\n",
        "\n",
        "train_regression_data[\"SVD\"] = model_train_evaluation[\"SVD\"][\"Prediction\"]\n",
        "train_regression_data[\"SVDpp\"] = model_train_evaluation[\"SVDpp\"][\"Prediction\"]\n",
        "\n",
        "test_regression_data[\"SVD\"] = model_test_evaluation[\"SVD\"][\"Prediction\"]\n",
        "test_regression_data[\"SVDpp\"] = model_test_evaluation[\"SVDpp\"][\"Prediction\"]"
      ]
    },
    {
      "cell_type": "code",
      "execution_count": null,
      "metadata": {
        "id": "gEcSXYUPOAHK"
      },
      "outputs": [],
      "source": [
        "train_regression_data.head()"
      ]
    },
    {
      "cell_type": "code",
      "execution_count": null,
      "metadata": {
        "id": "oaRt6dx3OAPr"
      },
      "outputs": [],
      "source": [
        "test_regression_data.head()"
      ]
    },
    {
      "cell_type": "code",
      "execution_count": null,
      "metadata": {
        "id": "vIzbKpBCOZPj"
      },
      "outputs": [],
      "source": [
        "# Applying Xgboost on the feature set\n",
        "\n",
        "x_train = train_regression_data.drop([\"User_ID\", \"Movie_ID\", \"Rating\"], axis = 1)\n",
        "x_test = test_regression_data.drop([\"User_ID\", \"Movie_ID\", \"Rating\"], axis = 1)\n",
        "\n",
        "y_train = train_regression_data[\"Rating\"]\n",
        "y_test = test_regression_data[\"Rating\"]\n",
        "\n",
        "train_result, test_result = train_test_xgboost(x_train, x_test, y_train, y_test, \"XGB_BSL_KNN_MF\")\n",
        "\n",
        "model_train_evaluation[\"XGB_BSL_KNN_MF\"] = train_result\n",
        "model_test_evaluation[\"XGB_BSL_KNN_MF\"] = test_result"
      ]
    },
    {
      "cell_type": "markdown",
      "metadata": {
        "id": "NM5nqCQO7-bP"
      },
      "source": [
        "Observations:\n",
        "\n",
        "1. SVD did better than KNNBaseline features but SVDpp turned out to be the most ineffective predictor."
      ]
    },
    {
      "cell_type": "code",
      "execution_count": null,
      "metadata": {
        "id": "XKxWh4MLOkwS"
      },
      "outputs": [],
      "source": [
        "# Applying Xgboost with Surprise's BaselineOnly + KNN Baseline + SVD + SVDpp + SlopeOne\n",
        "\n",
        "x_train = train_regression_data[[\"BaselineOnly\", \"KNNBaseline_User\", \"KNNBaseline_Item\", \"SVD\", \"SVDpp\", \"SlopeOne\"]]\n",
        "x_test = test_regression_data[[\"BaselineOnly\", \"KNNBaseline_User\", \"KNNBaseline_Item\", \"SVD\", \"SVDpp\", \"SlopeOne\"]]\n",
        "\n",
        "y_train = train_regression_data[\"Rating\"]\n",
        "y_test = test_regression_data[\"Rating\"]\n",
        "\n",
        "train_result, test_result = train_test_xgboost(x_train, x_test, y_train, y_test, \"XGB_KNN_MF_SO\")\n",
        "\n",
        "model_train_evaluation[\"XGB_KNN_MF_SO\"] = train_result\n",
        "model_test_evaluation[\"XGB_KNN_MF_SO\"] = test_result"
      ]
    },
    {
      "cell_type": "markdown",
      "metadata": {
        "id": "HokRtRNcEwLj"
      },
      "source": [
        "Observations:\n",
        "\n",
        "1. SVD seems to be the best estimator of the rating predictions.\n",
        "2. SVDpp and Baseline Only also seems to be a important feature.\n",
        "3. SlopeOne, KNNBaseline features are also decent estimators."
      ]
    },
    {
      "cell_type": "code",
      "execution_count": null,
      "metadata": {
        "id": "ne4zXGtyOk87"
      },
      "outputs": [],
      "source": [
        "# Visualizing the errors of all the models we tested out\n",
        "\n",
        "error_table2 = error_table.drop([\"Train MAPE\", \"Test MAPE\"], axis = 1)\n",
        "error_table2.plot(x = \"Model\", kind = \"bar\", figsize = (25, 8), grid = True, fontsize = 15)\n",
        "plt.title(\"Train and Test RMSE and MAPE of all Models\", fontsize = 20)\n",
        "#Bar Plot (kind=\"bar\"): A bar plot is suitable here as it allows easy comparison of error values (e.g., RMSE) across different models.\n",
        "# x-axis and(x=\"Model\"): This sets the Model column as the x-axis, so each bar represents a different model.\n",
        "# Figure Size (figsize=(25, 8)): The plot is set to be large, making it easier to read each model’s error values, especially if there are many models.\n",
        "plt.ylabel(\"Error Values\", fontsize = 10)\n",
        "plt.xticks(rotation=60)\n",
        "plt.legend(bbox_to_anchor=(1, 1), fontsize = 10)\n",
        "plt.show()"
      ]
    },
    {
      "cell_type": "code",
      "execution_count": null,
      "metadata": {
        "id": "0Cw8QDCPY8Qj"
      },
      "outputs": [],
      "source": [
        "# Tabular Values of Errors\n",
        "\n",
        "error_table.drop([\"Train MAPE\", \"Test MAPE\"], axis = 1)"
      ]
    },
    {
      "cell_type": "markdown",
      "metadata": {
        "id": "c1isisrvFM9S"
      },
      "source": [
        "Observations:\n",
        "1. All the algorithms seems to do great with the differences remaining very close to each other.\n",
        "\n",
        "2. We can see that by using various rating predicting algorithms together and stacking them up, then using final algorithms seems to result in lowest Testing RMSE. Eg: Surprise's BaselineOnly + KNN Baseline + SVD + SVDpp + SlopeOne together with Xgboost.\n",
        "\n",
        "3. SlopeOne seems to have lowest Testing RMSE out of all other algorithms.\n",
        "\n",
        "4. SVDpp and SVD are algorithms showing lower Testing RMSE among rest of the predictors except SlopeOne.\n"
      ]
    },
    {
      "cell_type": "markdown",
      "metadata": {
        "id": "FkOkaTE7cP8b"
      },
      "source": [
        "### **4.3 Generating Recommendation for Users**\n",
        "\n",
        "We are using SVDpp to generate atmost 10 recommendated movies for various users."
      ]
    },
    {
      "cell_type": "code",
      "execution_count": null,
      "metadata": {
        "id": "qknLs2XXGpHg"
      },
      "outputs": [],
      "source": [
        "# Testing the recommendations made by SVDpp Algorithm\n",
        "\n",
        "from collections import defaultdict\n",
        "\n",
        "def Get_top_n(predictions, n=10):\n",
        "  #get top 10 predictions made using the algorithm\n",
        "\n",
        "    # First map the predictions to each user.\n",
        "    top_n = defaultdict(list)\n",
        " #defaultdict is similar to a regular dictionary but with a default value for missing keys. In this case,\n",
        " #it will automatically initialize an empty list for each new user ID.\n",
        "\n",
        "    for uid, mid, true_r, est, _ in predictions:\n",
        "#uid: User ID.\n",
        "# mid: Movie ID.\n",
        "# true_r: The actual rating given by the user (optional or unavailable in testing scenarios).\n",
        "# est: The predicted rating for the movie (generated by the algorithm).\n",
        "# _: Any additional metadata (not used in this function).\n",
        "\n",
        "        top_n[uid].append((mid, est))\n",
        "        #group predictions for each user(uid as key, the mid, est as values)\n",
        "        #For each prediction, it appends a tuple (mid, est) to the list of recommendations\n",
        "        #for the corresponding user ID (uid) in the top_n dictionary.\n",
        "\n",
        "    # Then sort the predictions for each user and retrieve the k highest ones.\n",
        "    for uid, user_ratings in top_n.items():\n",
        "        user_ratings.sort(key=lambda x: x[1], reverse=True)\n",
        "    #Sorts the list of movies for each user (user_ratings) in descending order based on their predicted ratings (est).\n",
        "    # The key=lambda x: x[1] specifies that the second element in each tuple (est) is used for sorting.\n",
        "\n",
        "        top_n[uid] = user_ratings[:n]\n",
        "        #slices the list to:-\n",
        "        #add the user ratings for that uid (only the top n)\n",
        "\n",
        "    return top_n"
      ]
    },
    {
      "cell_type": "code",
      "execution_count": null,
      "metadata": {
        "id": "AD6WGG-VGpc5"
      },
      "outputs": [],
      "source": [
        "# Creating instance of svd_pp\n",
        "\n",
        "svd_pp = SVDpp(n_factors = 10, lr_all = 0.006, verbose=True)\n",
        "#n_factors=10:\n",
        "\n",
        "# The number of latent factors for users and items.\n",
        "# Latent factors represent hidden features of users and items (e.g., genre preference for users, genres for movies).\n",
        "# A lower number like 10 makes the model simpler and faster, while a higher number captures more details at the cost of complexity.\n",
        "# lr_all=0.006:\n",
        "# The learning rate for all parameters.\n",
        "# Controls how much the model updates its weights during training. A lower value like 0.006 ensures slower but more stable learning.\n",
        "#verbose=True:\n",
        "#Enables printing of progress messages during training, which is helpful for debugging or monitoring.\n",
        "\n",
        "svd_pp.fit(trainset)\n",
        "#fit the algorithm on the training set.\n",
        "\n",
        "predictions = svd_pp.test(testset)\n",
        "#predictions: A list of Prediction objects, where each object contains:\n",
        "    # uid: User ID.\n",
        "    # iid: Item ID.\n",
        "    # true_r: The true rating.\n",
        "    # est: The estimated rating (predicted by the algorithm)."
      ]
    },
    {
      "cell_type": "code",
      "execution_count": null,
      "metadata": {
        "id": "UcxJG6u9K8Jp"
      },
      "outputs": [],
      "source": [
        "# Saving the training predictions (data for which ratings havent been made)\n",
        "\n",
        "train_pred = svd_pp.test(trainset.build_anti_testset())\n",
        "# #This generates the anti-test set for the training set.\n",
        "# An anti-test set includes all (user, item) pairs where the user has not rated the item in the training set.\n",
        "# It's used to simulate predictions for unrated items, which are potential recommendations\n",
        "\n",
        "#svd_pp.test():\n",
        "#The test() method is called to predict ratings for the anti-test set using the trained svd_pp model.\n",
        "#It produces a list of Prediction objects for all these (user, item) pairs.\n",
        "\n",
        "top_n = Get_top_n(train_pred, n=10)\n",
        "#the method returns the top 10 predicitons made on the train_pred (set)"
      ]
    },
    {
      "cell_type": "code",
      "execution_count": null,
      "metadata": {
        "id": "jyatTqwuU8f7"
      },
      "outputs": [],
      "source": [
        "# Print the recommended items for each user\n",
        "\n",
        "def Generate_Recommendated_Movies(u_id, n=10):\n",
        "\n",
        "    recommend = pd.DataFrame(top_n[u_id], columns=[\"Movie_Id\", \"Predicted_Rating\"])\n",
        "    #The dictionary top_n, which contains top recommendations for all users.\n",
        "#     top_n[u_id]: Returns a list of tuples for the specified user ID, where each tuple contains:\n",
        "#         Movie_Id: The recommended movie ID.\n",
        "#         Predicted_Rating: The estimated rating for that movie.\n",
        "# Output: A DataFrame recommend with two columns:\n",
        "#     Movie_Id: The recommended movie IDs.\n",
        "#     Predicted_Rating: Predicted ratings for those movies\n",
        "\n",
        "    recommend = recommend.merge(movies, how=\"inner\", left_on=\"Movie_Id\", right_on=\"movieId\")\n",
        "    #performs an inner join on recommend and movies, for the columns movie id on recommend and the oterh on the movies dataframe.\n",
        "    #essentially, what it does is, it Adds the movie details (title and genres) to the recommendations.\n",
        "\n",
        "    recommend = recommend[[\"Movie_Id\", \"title\", \"genres\", \"Predicted_Rating\"]]\n",
        "    #we re only gonna keep these columns on the recommend dataframe.\n",
        "\n",
        "    return recommend[:n]\n",
        "    #get the top n values frmo the recommend data frame."
      ]
    },
    {
      "cell_type": "code",
      "execution_count": null,
      "metadata": {
        "id": "Mf6Akdw7g8ZJ"
      },
      "outputs": [],
      "source": [
        "# Saving the sampled user id list to help generate movies\n",
        "\n",
        "sampled_user_id = list(top_n.keys())"
      ]
    },
    {
      "cell_type": "code",
      "execution_count": null,
      "metadata": {
        "id": "1gv7rfB6gh2d"
      },
      "outputs": [],
      "source": [
        "# Generating recommendation using the user_Id\n",
        "\n",
        "test_id = random.choice(sampled_user_id)\n",
        "#generate a random user id\n",
        "print(\"The user Id is : \", test_id)\n",
        "Generate_Recommendated_Movies(test_id)\n",
        "#generate the recommended movies for that test_id(user_id)"
      ]
    },
    {
      "cell_type": "code",
      "execution_count": null,
      "metadata": {
        "id": "sRb8a49Id6kh"
      },
      "outputs": [],
      "source": [
        "# Generating recommendation using the user_Id\n",
        "\n",
        "test_id = random.choice(sampled_user_id)\n",
        "print(\"The user Id is : \", test_id)\n",
        "Generate_Recommendated_Movies(test_id)"
      ]
    },
    {
      "cell_type": "code",
      "execution_count": null,
      "metadata": {
        "id": "51RB8NiSUQLc"
      },
      "outputs": [],
      "source": [
        "# Generating recommendation using the user_Id\n",
        "\n",
        "test_id = random.choice(sampled_user_id)\n",
        "print(\"The user Id is : \", test_id)\n",
        "Generate_Recommendated_Movies(test_id)"
      ]
    },
    {
      "cell_type": "code",
      "execution_count": null,
      "metadata": {
        "id": "JxildI7PddW1"
      },
      "outputs": [],
      "source": [
        "# Generating recommendation using the user_Id\n",
        "\n",
        "test_id = random.choice(sampled_user_id)\n",
        "print(\"The user Id is : \", test_id)\n",
        "Generate_Recommendated_Movies(test_id)"
      ]
    },
    {
      "cell_type": "markdown",
      "metadata": {
        "id": "UHCPDN8TGnDs"
      },
      "source": [
        "## **5. Conclusion**\n",
        "\n",
        "In this project, we learned the importance of Recommendation Systems, the types of recommender systems being implemented, and how to use matrix factorization to enhance a system.\n",
        "\n",
        "We then built a movie recommendation system that considers user-user similarity, movie-movie similarity, global averages and matrix factorization. These concepts can be applied to any other user-item interactions systems.\n",
        "\n",
        "We tried generating recommendations based on similarity matrix and Collaborative Filtering techniques.\n",
        "\n",
        "We tried to predict the ratings for movies that the user might give based on its past rating behaviours and measure the accuracy using RMSE and MAPE error metrics.\n",
        "\n",
        "Surely, there is huge scope of improvement and tring out different techniques and ML/DL algorithms."
      ]
    },
    {
      "cell_type": "code",
      "execution_count": null,
      "metadata": {
        "id": "_rATzAMteJ7T"
      },
      "outputs": [],
      "source": []
    }
  ],
  "metadata": {
    "colab": {
      "provenance": [],
      "collapsed_sections": [
        "1pXuBHOOoEpp",
        "rU01nw0IG9wP",
        "93fagKfprG8u",
        "LHtvOEiSxlJr",
        "FkOkaTE7cP8b"
      ],
      "gpuType": "T4"
    },
    "kernelspec": {
      "display_name": "Python 3",
      "name": "python3"
    },
    "accelerator": "GPU"
  },
  "nbformat": 4,
  "nbformat_minor": 0
}